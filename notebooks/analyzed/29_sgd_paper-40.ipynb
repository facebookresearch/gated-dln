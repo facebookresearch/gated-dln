{
 "cells": [
  {
   "cell_type": "code",
   "execution_count": 1,
   "metadata": {
    "ExecuteTime": {
     "end_time": "2022-03-04T14:53:00.908736Z",
     "start_time": "2022-03-04T14:52:57.105282Z"
    }
   },
   "outputs": [
    {
     "name": "stdout",
     "output_type": "stream",
     "text": [
      "0.10.0\n"
     ]
    },
    {
     "ename": "ImportError",
     "evalue": "cannot import name 'slurm' from 'xplogger.experiment_manager.slurm' (/private/home/sodhani/projects/xplogger/xplogger/experiment_manager/slurm/__init__.py)",
     "output_type": "error",
     "traceback": [
      "\u001b[0;31m---------------------------------------------------------------------------\u001b[0m",
      "\u001b[0;31mImportError\u001b[0m                               Traceback (most recent call last)",
      "\u001b[0;32m/tmp/ipykernel_2237057/1997942564.py\u001b[0m in \u001b[0;36m<module>\u001b[0;34m\u001b[0m\n\u001b[1;32m     33\u001b[0m \u001b[0;32mfrom\u001b[0m \u001b[0mxplogger\u001b[0m\u001b[0;34m.\u001b[0m\u001b[0mexperiment_manager\u001b[0m\u001b[0;34m.\u001b[0m\u001b[0mstore\u001b[0m\u001b[0;34m.\u001b[0m\u001b[0mmongo\u001b[0m \u001b[0;32mimport\u001b[0m \u001b[0mMongoStore\u001b[0m\u001b[0;34m\u001b[0m\u001b[0;34m\u001b[0m\u001b[0m\n\u001b[1;32m     34\u001b[0m \u001b[0;32mfrom\u001b[0m \u001b[0mxplogger\u001b[0m\u001b[0;34m.\u001b[0m\u001b[0mexperiment_manager\u001b[0m\u001b[0;34m.\u001b[0m\u001b[0mviz\u001b[0m \u001b[0;32mimport\u001b[0m \u001b[0mbokeh\u001b[0m \u001b[0;32mas\u001b[0m \u001b[0mbokeh_viz\u001b[0m\u001b[0;34m\u001b[0m\u001b[0;34m\u001b[0m\u001b[0m\n\u001b[0;32m---> 35\u001b[0;31m \u001b[0;32mfrom\u001b[0m \u001b[0mxplogger\u001b[0m\u001b[0;34m.\u001b[0m\u001b[0mexperiment_manager\u001b[0m\u001b[0;34m.\u001b[0m\u001b[0mslurm\u001b[0m \u001b[0;32mimport\u001b[0m \u001b[0mslurm\u001b[0m \u001b[0;32mas\u001b[0m \u001b[0mslurm_utils\u001b[0m\u001b[0;34m\u001b[0m\u001b[0;34m\u001b[0m\u001b[0m\n\u001b[0m\u001b[1;32m     36\u001b[0m \u001b[0;32mfrom\u001b[0m \u001b[0mxplogger\u001b[0m\u001b[0;34m.\u001b[0m\u001b[0mexperiment_manager\u001b[0m\u001b[0;34m.\u001b[0m\u001b[0mnotebook\u001b[0m \u001b[0;32mimport\u001b[0m \u001b[0mutils\u001b[0m \u001b[0;32mas\u001b[0m \u001b[0mnotebook_utils\u001b[0m\u001b[0;34m\u001b[0m\u001b[0;34m\u001b[0m\u001b[0m\n\u001b[1;32m     37\u001b[0m from xplogger.parser.experiment import (\n",
      "\u001b[0;31mImportError\u001b[0m: cannot import name 'slurm' from 'xplogger.experiment_manager.slurm' (/private/home/sodhani/projects/xplogger/xplogger/experiment_manager/slurm/__init__.py)"
     ]
    }
   ],
   "source": [
    "from __future__ import annotations\n",
    "\n",
    "import collections\n",
    "import hashlib\n",
    "import itertools\n",
    "import json\n",
    "import sys\n",
    "from copy import deepcopy\n",
    "from pathlib import Path\n",
    "from time import time\n",
    "from math import comb\n",
    "from functools import reduce\n",
    "\n",
    "import bokeh\n",
    "import hiplot as hip\n",
    "import matplotlib\n",
    "import numpy as np\n",
    "import pandas as pd\n",
    "import pandas_bokeh\n",
    "import ray\n",
    "from bson.objectid import ObjectId\n",
    "from matplotlib import pyplot as plt\n",
    "from omegaconf import OmegaConf\n",
    "from pymongo import MongoClient\n",
    "from math import comb\n",
    "from functools import reduce\n",
    "import seaborn as sns\n",
    "\n",
    "import xplogger\n",
    "\n",
    "print(xplogger.__version__)\n",
    "from xplogger.experiment_manager.record.record_list import RecordList\n",
    "from xplogger.experiment_manager.store.mongo import MongoStore\n",
    "from xplogger.experiment_manager.viz import bokeh as bokeh_viz\n",
    "from xplogger.experiment_manager.slurm import slurm as slurm_utils\n",
    "from xplogger.experiment_manager.notebook import utils as notebook_utils\n",
    "from xplogger.parser.experiment import (\n",
    "    Experiment,\n",
    "    ExperimentSequence,\n",
    "    ExperimentSequenceDict,\n",
    ")\n",
    "from xplogger.parser.experiment import utils as experiment_utils\n",
    "\n",
    "sys.path.append(\"/private/home/sodhani/projects/abstraction_by_gating/\")\n",
    "\n",
    "from math import sqrt\n",
    "from time import time\n",
    "\n",
    "from IPython.display import JSON\n",
    "from notebooks import utils, ds"
   ]
  },
  {
   "cell_type": "code",
   "execution_count": null,
   "metadata": {
    "ExecuteTime": {
     "end_time": "2022-03-04T14:53:00.910583Z",
     "start_time": "2022-03-04T14:53:00.910568Z"
    }
   },
   "outputs": [],
   "source": [
    "%matplotlib inline\n",
    "pd.set_option(\"plotting.backend\", \"pandas_bokeh\")\n",
    "pandas_bokeh.output_notebook()\n",
    "\n",
    "%matplotlib inline\n",
    "# pd.set_option(\"plotting.backend\", \"pandas_bokeh\")\n",
    "# sns.set_style('darkgrid') # darkgrid, white grid, dark, white and ticks\n",
    "# pandas_bokeh.output_notebook()\n",
    "sns.color_palette(\"deep\")\n",
    "\n",
    "plt.rc('axes', titlesize=18)     # fontsize of the axes title\n",
    "plt.rc('axes', labelsize=14)    # fontsize of the x and y labels\n",
    "plt.rc('xtick', labelsize=13)    # fontsize of the tick labels\n",
    "plt.rc('ytick', labelsize=13)    # fontsize of the tick labels\n",
    "plt.rc('legend', fontsize=13)    # legend fontsize\n",
    "plt.rc('font', size=13)          # controls default text sizes"
   ]
  },
  {
   "cell_type": "code",
   "execution_count": null,
   "metadata": {
    "ExecuteTime": {
     "end_time": "2022-03-04T14:53:00.911875Z",
     "start_time": "2022-03-04T14:53:00.911861Z"
    }
   },
   "outputs": [],
   "source": [
    "slurm_status = slurm_utils.get_running_jobs()\n",
    "print(slurm_status)\n",
    "# print(\" \".join(slurm_status[slurm_status[\"TIME_LIMIT\"] == \"10:00:00\"][\"JOBID\"].to_list()))"
   ]
  },
  {
   "cell_type": "code",
   "execution_count": null,
   "metadata": {
    "ExecuteTime": {
     "end_time": "2022-03-04T14:53:00.913145Z",
     "start_time": "2022-03-04T14:53:00.913122Z"
    }
   },
   "outputs": [],
   "source": [
    "# slurm_status[\"TIME\"] > \"2-13\""
   ]
  },
  {
   "cell_type": "code",
   "execution_count": null,
   "metadata": {
    "ExecuteTime": {
     "end_time": "2022-03-04T14:53:00.914498Z",
     "start_time": "2022-03-04T14:53:00.914478Z"
    }
   },
   "outputs": [],
   "source": [
    "collection_name = \"abstraction_by_gating\"\n",
    "\n",
    "use_record_ids = False\n",
    "ray.init(num_cpus=20, ignore_reinit_error=True)"
   ]
  },
  {
   "cell_type": "code",
   "execution_count": null,
   "metadata": {
    "ExecuteTime": {
     "end_time": "2022-01-27T13:35:55.837416Z",
     "start_time": "2022-01-27T13:35:55.797727Z"
    }
   },
   "outputs": [],
   "source": [
    "mongo_store = MongoStore(\n",
    "    config={\n",
    "        \"host\": \"localhost\",\n",
    "        \"port\": 27017,\n",
    "        \"db\": \"project\",\n",
    "        \"collection_name\": collection_name,\n",
    "    }\n",
    ")\n",
    "print(f\"Num documents: {mongo_store.collection.count_documents({})}\")"
   ]
  },
  {
   "cell_type": "code",
   "execution_count": null,
   "metadata": {
    "ExecuteTime": {
     "end_time": "2022-01-27T13:36:00.008412Z",
     "start_time": "2022-01-27T13:35:55.838777Z"
    }
   },
   "outputs": [],
   "source": [
    "# start_time = time()\n",
    "# mongo_records = mongo_store.ray_get_records()\n",
    "# print(time() - start_time)\n",
    "start_time = time()\n",
    "mongo_records = mongo_store.get_records(query={})\n",
    "print(time() - start_time)"
   ]
  },
  {
   "cell_type": "code",
   "execution_count": null,
   "metadata": {
    "ExecuteTime": {
     "end_time": "2022-01-27T13:36:04.127138Z",
     "start_time": "2022-01-27T13:36:00.009824Z"
    }
   },
   "outputs": [],
   "source": [
    "mongo_to_record = {}\n",
    "issue_to_mongo_record = {}\n",
    "unanalyzed_records = []\n",
    "start = time()\n",
    "for record in mongo_records:\n",
    "    mongo_record_id = record.id\n",
    "    mongo_to_record[mongo_record_id] = record\n",
    "    issue_id = str(record[\"setup\"][\"git\"][\"issue_id\"])\n",
    "    if issue_id not in issue_to_mongo_record:\n",
    "        issue_to_mongo_record[issue_id] = []\n",
    "    issue_to_mongo_record[issue_id].append(record)\n",
    "    if record[\"status\"] != \"ANALYZED\":\n",
    "        unanalyzed_records.append(record)\n",
    "\n",
    "print(f\"Time taken: {time() - start}\")\n",
    "assert len(unanalyzed_records) == len(mongo_store.get_unanalyzed_records())"
   ]
  },
  {
   "cell_type": "code",
   "execution_count": null,
   "metadata": {
    "ExecuteTime": {
     "end_time": "2022-01-27T13:36:04.186691Z",
     "start_time": "2022-01-27T13:36:04.129671Z"
    }
   },
   "outputs": [],
   "source": [
    "start = time()\n",
    "record_list = RecordList(unanalyzed_records[:])\n",
    "print(f\"Total number of unanalayzed records: {len(record_list)}\")\n",
    "unique_issues = record_list.get_unique_issues()\n",
    "print(unique_issues)\n",
    "print(f\"Time taken: {time() - start}\")"
   ]
  },
  {
   "cell_type": "code",
   "execution_count": null,
   "metadata": {
    "ExecuteTime": {
     "end_time": "2022-01-27T13:36:07.065638Z",
     "start_time": "2022-01-27T13:36:04.188072Z"
    }
   },
   "outputs": [],
   "source": [
    "# start = time()\n",
    "record_list = []\n",
    "# for issue_id in [\"335\", \"325\"]:\n",
    "for issue_id in [\"25\"]:\n",
    "    # for issue_id in issue_to_mongo_record:\n",
    "    record_list += issue_to_mongo_record[issue_id]\n",
    "\n",
    "\n",
    "def key_func(record):\n",
    "    return record[\"setup\"][\"id\"]\n",
    "\n",
    "def filter_fn(record):\n",
    "    return True\n",
    "#     return record[\"dataloader\"][\"task_specific_cfgs\"][\"living_or_not\"][\"train_config\"][\"model\"][\"should_use_pretrained\"]\n",
    "#     return record[\"setup\"][\"script_id\"] not in [\"3-3\", \"3-4\"]\n",
    "\n",
    "print(len(record_list))\n",
    "record_list = RecordList([x for x in record_list if filter_fn(x)])\n",
    "# RecordList([x for x in record_list.ray_make_oc_records() if x[\"status\"]!=\"ANALYZED\" and \"id\" in x]).mark_analyzed(collection=mongo_store.collection)\n",
    "slurm_id_to_record_map = record_list.map_to_slurm_id()\n",
    "record_list = record_list.get_unique(key_func).ray_make_oc_records()\n",
    "# print(f\"Time taken: {time() - start}\")\n",
    "print(f\"Number of selected records: {len(record_list)}\")\n",
    "print(\n",
    "    f\"Number of uniques runs: {len(set(record['setup']['id'] for record in record_list))}\"\n",
    ")\n",
    "print(\n",
    "    f\"Number of unanalyzed runs: {len(set(record['setup']['id'] for record in record_list if record['status']!='ANALYZED'))}\"\n",
    ")\n",
    "print(\n",
    "    f\"Set of issues: {set(record['setup']['git']['issue_id'] for record in record_list)}\"\n",
    ")\n",
    "print(\n",
    "    f\"Set of script ids: {set(record['setup']['script_id'] for record in record_list)}\"\n",
    ")"
   ]
  },
  {
   "cell_type": "code",
   "execution_count": null,
   "metadata": {
    "ExecuteTime": {
     "end_time": "2022-01-27T13:36:07.084735Z",
     "start_time": "2022-01-27T13:36:07.067023Z"
    }
   },
   "outputs": [],
   "source": [
    "record_list = RecordList(list(x for x in record_list if x.setup.script_id == 25))\n",
    "\n",
    "# record_list = RecordList(list(x for x in record_list if x.setup.script_id == \"25-1\"))"
   ]
  },
  {
   "cell_type": "code",
   "execution_count": null,
   "metadata": {
    "ExecuteTime": {
     "end_time": "2022-01-27T13:36:07.106788Z",
     "start_time": "2022-01-27T13:36:07.085988Z"
    }
   },
   "outputs": [],
   "source": [
    "# for r in record_list:\n",
    "#     model_cfg = r.model\n",
    "#     if (\n",
    "#         model_cfg[\"hidden_layer_cfg\"][\"dim\"] == 128\n",
    "#         and model_cfg[\"num_layers\"] == 1\n",
    "#         and model_cfg[\"weight_init\"][\"bias\"] == 0\n",
    "#         and model_cfg[\"weight_init\"][\"gain\"] == 1.0\n",
    "#         and model_cfg[\"gate_cfg\"][\"mode\"] == \"4_plus_mod\"\n",
    "#         #             and exp.config[\"experiment\"][\"task_one\"][\"transform\"] == \"default\"\n",
    "#         #             and exp.config[\"experiment\"][\"task_two\"][\"transform\"] == \"invert\"\n",
    "#     ):\n",
    "#         print(r)\n",
    "#         break"
   ]
  },
  {
   "cell_type": "code",
   "execution_count": null,
   "metadata": {
    "ExecuteTime": {
     "end_time": "2022-01-27T13:36:07.134601Z",
     "start_time": "2022-01-27T13:36:07.108311Z"
    }
   },
   "outputs": [],
   "source": [
    "len(record_list)"
   ]
  },
  {
   "cell_type": "code",
   "execution_count": null,
   "metadata": {
    "ExecuteTime": {
     "end_time": "2022-01-27T13:36:07.152734Z",
     "start_time": "2022-01-27T13:36:07.135807Z"
    }
   },
   "outputs": [],
   "source": [
    "# new_record_list = []\n",
    "# for r in record_list:\n",
    "#     if \"optimizer._target_.optimizer.lr\" in r[\"setup\"][\"viz\"][\"params\"]:\n",
    "#         new_record_list.append(r)\n",
    "# new_record_list = RecordList(new_record_list)\n",
    "\n",
    "# record_list.delete(collection=mongo_store.collection, delete_from_filesystem=False)"
   ]
  },
  {
   "cell_type": "code",
   "execution_count": null,
   "metadata": {
    "ExecuteTime": {
     "end_time": "2022-01-27T13:36:07.624366Z",
     "start_time": "2022-01-27T13:36:07.154039Z"
    }
   },
   "outputs": [],
   "source": [
    "!pwd"
   ]
  },
  {
   "cell_type": "code",
   "execution_count": null,
   "metadata": {
    "ExecuteTime": {
     "end_time": "2022-01-27T13:36:07.628597Z",
     "start_time": "2022-01-27T13:36:07.626090Z"
    }
   },
   "outputs": [],
   "source": [
    "# record_list.delete(collection=mongo_store.collection, delete_from_filesystem=False)"
   ]
  },
  {
   "cell_type": "code",
   "execution_count": null,
   "metadata": {
    "ExecuteTime": {
     "end_time": "2022-01-27T13:36:16.076634Z",
     "start_time": "2022-01-27T13:36:07.630033Z"
    }
   },
   "outputs": [],
   "source": [
    "load_experiment_from_dir = lambda log_dir: utils.load_experiment_from_dir(\n",
    "    log_dir=log_dir,\n",
    "    cache_failed_experiment=True,\n",
    "    verbose=False,\n",
    "    skip_cache=False,\n",
    ")\n",
    "\n",
    "viz_params = record_list.get_viz_params()\n",
    "\n",
    "viz_params.remove(\"experiment\")\n",
    "start_time = time()\n",
    "# (\n",
    "#     exp_seq_dict,\n",
    "#     groups,\n",
    "#     hyperparams,\n",
    "# ) = record_list.ray_make_experiment_sequence_dict_groups_and_hyperparams(\n",
    "#     viz_params, load_experiment_from_dir\n",
    "# )\n",
    "\n",
    "(\n",
    "    exp_seq_dict,\n",
    "    groups,\n",
    "    hyperparams,\n",
    ") = record_list.make_experiment_sequence_dict_groups_and_hyperparams(\n",
    "    viz_params, load_experiment_from_dir\n",
    ")\n",
    "\n",
    "print(f\"Time taken: {time() - start_time}\")\n",
    "\n",
    "\n",
    "notebook_utils.prettyprint_dict(hyperparams)"
   ]
  },
  {
   "cell_type": "code",
   "execution_count": null,
   "metadata": {
    "ExecuteTime": {
     "end_time": "2022-01-27T13:36:16.083219Z",
     "start_time": "2022-01-27T13:36:16.078262Z"
    }
   },
   "outputs": [],
   "source": [
    "viz_params"
   ]
  },
  {
   "cell_type": "code",
   "execution_count": null,
   "metadata": {
    "ExecuteTime": {
     "end_time": "2022-01-27T13:36:16.106275Z",
     "start_time": "2022-01-27T13:36:16.084996Z"
    }
   },
   "outputs": [],
   "source": [
    "print(list(exp_seq_dict.values())[0])\n",
    "print(type(list(exp_seq_dict.values())[0]))"
   ]
  },
  {
   "cell_type": "code",
   "execution_count": null,
   "metadata": {
    "ExecuteTime": {
     "end_time": "2022-01-27T13:36:16.358283Z",
     "start_time": "2022-01-27T13:36:16.107853Z"
    }
   },
   "outputs": [],
   "source": [
    "exp = list(exp_seq_dict.values())[0][0]\n",
    "pd.options.display.max_columns = None\n",
    "pd.options.display.max_rows = None\n",
    "exp.metrics[\"train_epoch\"]"
   ]
  },
  {
   "cell_type": "code",
   "execution_count": null,
   "metadata": {
    "ExecuteTime": {
     "end_time": "2022-01-27T13:36:16.378690Z",
     "start_time": "2022-01-27T13:36:16.361949Z"
    }
   },
   "outputs": [],
   "source": [
    "list(exp_seq_dict.values())[0][0].config[\"setup\"][\"viz\"]"
   ]
  },
  {
   "cell_type": "code",
   "execution_count": null,
   "metadata": {
    "ExecuteTime": {
     "end_time": "2022-01-27T13:36:16.397460Z",
     "start_time": "2022-01-27T13:36:16.380208Z"
    }
   },
   "outputs": [],
   "source": [
    "notebook_utils.prettyprint_dict(hyperparams)"
   ]
  },
  {
   "cell_type": "code",
   "execution_count": null,
   "metadata": {
    "ExecuteTime": {
     "end_time": "2022-01-27T13:36:16.421985Z",
     "start_time": "2022-01-27T13:36:16.398987Z"
    }
   },
   "outputs": [],
   "source": [
    "type(list(exp_seq_dict.values())[0])"
   ]
  },
  {
   "cell_type": "code",
   "execution_count": null,
   "metadata": {
    "ExecuteTime": {
     "end_time": "2022-01-27T13:43:37.156915Z",
     "start_time": "2022-01-27T13:43:36.969230Z"
    }
   },
   "outputs": [],
   "source": [
    "# y_metric_list = [\"accuracy_odd_even\", \"accuracy_greater_than_four\"]\n",
    "y_metric_list = [\"average_accuracy_for_unselected_paths\"]\n",
    "# y_metric_list = [\"accuracy\"]\n",
    "x_metric = \"epoch\"\n",
    "mode = \"test_epoch\"\n",
    "\n",
    "\n",
    "def filter_fn(key, experiment_sequence):\n",
    "    def filter_experiment(exp):\n",
    "        #         model_cfg = exp.config[\"model\"]\n",
    "        #         return (\n",
    "        #             exp is not None\n",
    "        #             and exp.metrics is not None\n",
    "        #             and \"test_epoch\" in exp.metrics\n",
    "        #             and not (\n",
    "        #                 np.isnan(\n",
    "        #                     exp.metrics[\"test_epoch\"][\n",
    "        #                         \"average_loss_for_unselected_paths\"\n",
    "        #                     ].to_numpy()[-1]\n",
    "        #                 )\n",
    "        #             )\n",
    "        #             and exp.metrics[\"test_epoch\"][\n",
    "        #                 \"average_loss_for_unselected_paths\"\n",
    "        #             ].to_numpy()[-1]\n",
    "        #             > 0.99\n",
    "        #             and\n",
    "        #             exp.config[\"model\"][\"hidden_layer_cfg\"][\"dim\"] == 128\n",
    "        #         )\n",
    "        if not exp:\n",
    "            return False\n",
    "        model_cfg = exp.config[\"model\"]\n",
    "        return (\n",
    "            exp.config[\"experiment\"][\"task\"][\"mode\"] == \"rotate_input_permute_target\"\n",
    "            and model_cfg[\"hidden_layer_cfg\"][\"dim\"] == 128\n",
    "            and model_cfg[\"num_layers\"] == 1\n",
    "            and model_cfg[\"weight_init\"][\"bias\"] == 0\n",
    "            and model_cfg[\"weight_init\"][\"gain\"] not in [0.0001, 0.001, 0.01]\n",
    "            and exp.config[\"optimizer\"][\"_target_\"] == \"torch.optim.SGD\"\n",
    "            #             and model_cfg[\"weight_init\"][\"gain\"] == 0.001\n",
    "            #             and model_cfg[\"gate_cfg\"][\"mode\"] in [\"4_plus_mod_permute\", \"4_plus_mod\"]\n",
    "            and model_cfg[\"gate_cfg\"][\"mode\"]\n",
    "            in [\"10_plus_mod_permute\"]\n",
    "#             in [\"4_plus_mod\", \"4_plus_mod_permute\", \"6_plus_mod\", \"6_plus_mod_permute\"]\n",
    "            and exp.config[\"experiment\"][\"task\"][\"num_classes_in_selected_dataset\"] == 10\n",
    "        )\n",
    "\n",
    "    return all(filter_experiment(exp) for exp in experiment_sequence)\n",
    "\n",
    "\n",
    "def get_function_to_get_experiment_name(param_list: list[DictConfig]):\n",
    "    unique_params_and_values = {}\n",
    "    words_to_ignore = []\n",
    "    for param in param_list:\n",
    "        for key, value in param.items():\n",
    "            if key not in unique_params_and_values:\n",
    "                unique_params_and_values[key] = set()\n",
    "            unique_params_and_values[key].add(value)\n",
    "    for key, value in unique_params_and_values.items():\n",
    "        if len(value) == 1:\n",
    "            words_to_ignore.append(key)\n",
    "\n",
    "    def get_experiment_name(params, **kwargs):\n",
    "        return \"-\".join(\n",
    "            [\n",
    "                f\"{val}\"\n",
    "                for key, val in sorted(\n",
    "                    list((OmegaConf.to_container(params)).items())\n",
    "                    + list(kwargs.items())\n",
    "                )\n",
    "                if all(word not in key for word in words_to_ignore)\n",
    "            ]\n",
    "        )\n",
    "        return \"-\".join(\n",
    "            [\n",
    "                f\"{val}\"\n",
    "                for key, val in sorted(\n",
    "                    list((OmegaConf.to_container(params)).items())\n",
    "                    + list(kwargs.items())\n",
    "                )\n",
    "                if all(word not in key for word in words_to_ignore)\n",
    "            ]\n",
    "        )\n",
    "\n",
    "    return get_experiment_name\n",
    "\n",
    "\n",
    "# def get_experiment_name(params, **kwargs):\n",
    "#     words_to_ignore = [\"issue_id\", \"env\"]\n",
    "#     return params[\"model.gate_cfg.mode\"]\n",
    "#     return \"-\".join(\n",
    "#         [\n",
    "#             f\"{val}\"\n",
    "#             for key, val in sorted(\n",
    "#                 list((OmegaConf.to_container(params)).items()) + list(kwargs.items())\n",
    "#             )\n",
    "#             if all(word not in key for word in words_to_ignore)\n",
    "#         ]\n",
    "#     )\n",
    "\n",
    "\n",
    "def plot(\n",
    "    filter_fn,\n",
    "    y_metric_list: list[str] = [\"return_mean\"],\n",
    "    x_metric: str = \"frames\",\n",
    "    mode: str = \"train\",\n",
    "    metadata_for_plot={},\n",
    "    p=None,\n",
    "    color_palette=None,\n",
    "    color_offset: int = 0,\n",
    "    colors=None,\n",
    "):\n",
    "\n",
    "    filtered_exp_seq_dict = ExperimentSequenceDict(\n",
    "        {\n",
    "            key: ExperimentSequence(experiment_sequence)\n",
    "            for key, experiment_sequence in sorted(\n",
    "                exp_seq_dict.items(),\n",
    "                key=lambda item: sorted(OmegaConf.to_container(item[0]).items()),\n",
    "            )\n",
    "            if filter_fn(key, experiment_sequence)\n",
    "        }\n",
    "    )\n",
    "\n",
    "    fn_to_get_experiment_name = get_function_to_get_experiment_name(\n",
    "        param_list=list(filtered_exp_seq_dict.keys())\n",
    "    )\n",
    "\n",
    "    color_palette = bokeh.palettes.d3[\"Category20\"]\n",
    "\n",
    "    return bokeh_viz.plot_experiment_sequence_dict(\n",
    "        exp_seq_dict=filtered_exp_seq_dict,\n",
    "        kwargs_for_aggregate_metrics = {\n",
    "            \"get_experiment_name\": fn_to_get_experiment_name,\n",
    "            \"x_name\": x_metric,\n",
    "            \"mode\": mode,\n",
    "            \"drop_duplicates\": True,\n",
    "            \"dropna\": True,\n",
    "            \"verbose\": True,\n",
    "            \"metric_names\": y_metric_list,\n",
    "            \"x_min\": 100,\n",
    "            \"x_max\": 1000,\n",
    "        },\n",
    "        metadata_for_plot=metadata_for_plot,\n",
    "        color_palette=color_palette,\n",
    "        p=p,\n",
    "        colors=colors,\n",
    "        color_offset=color_offset,\n",
    "    )\n",
    "        \n",
    "\n",
    "title = \"title\"\n",
    "color_palette = bokeh.palettes.d3[\"Category20\"]\n",
    "colors = color_palette[20][::1]\n",
    "\n",
    "p = None\n",
    "\n",
    "p = plot(\n",
    "    filter_fn=filter_fn,\n",
    "    metadata_for_plot={\"title\": title, \"fill_alpha\": 0.2},\n",
    "    y_metric_list=y_metric_list,\n",
    "    x_metric=x_metric,\n",
    "    color_palette=color_palette,\n",
    "    mode=mode,\n",
    "    p=p,\n",
    "    color_offset=0,\n",
    "    colors=colors,\n",
    ")\n",
    "\n",
    "p.legend.click_policy = \"hide\"\n",
    "# p.legend.visible=\n",
    "\n",
    "\n",
    "bokeh.plotting.show(p)"
   ]
  },
  {
   "cell_type": "code",
   "execution_count": null,
   "metadata": {
    "ExecuteTime": {
     "end_time": "2022-01-27T13:48:31.338528Z",
     "start_time": "2022-01-27T13:48:30.743180Z"
    }
   },
   "outputs": [],
   "source": [
    "# param_list = list(filtered_exp_seq_dict.keys())\n",
    "\n",
    "x = np.asarray([0.1, 1.0, 10.0])\n",
    "\n",
    "K = 10\n",
    "#permute input\n",
    "data_y = {\n",
    "    10: {\n",
    "        \"trained\": np.asarray([91.4, 92.4, 88.1]),\n",
    "        \"untrained\": np.asarray([91.3, 65, 37.6]),\n",
    "    }\n",
    "}\n",
    "\n",
    "# rotate input\n",
    "# data_y = {\n",
    "#     10: {\n",
    "#         \"trained\": np.asarray([91.2, 92.4, 88.1]),\n",
    "#         \"untrained\": np.asarray([84.1, 70.3, 38.8]),\n",
    "#     }\n",
    "# }\n",
    "\n",
    "for mode in [\"trained\", \"untrained\"]:\n",
    "    plt.plot(x, (100 - data_y[K][mode]) / 100, label = f\"{mode} pathways\", marker = \"x\")\n",
    "    \n",
    "plt.ylabel(\"error rate\")\n",
    "plt.xscale('log')\n",
    "plt.xlabel(\"gain ratio (initialization scale)\")\n",
    "\n",
    "plt.title(f\"MNIST-Permuted-Input-Permuted-Output-40, K={K}\")\n",
    "plt.grid()\n",
    "plt.legend()\n",
    "\n",
    "# plt.show()\n",
    "\n",
    "plt.savefig(\n",
    "    f\"/private/home/sodhani/projects/abstraction_by_gating/results/mnist-permute-input-40-gain-ratio-{K}-percent-128.pdf\",\n",
    "    dpi=300,\n",
    "    bbox_inches=\"tight\",\n",
    ")\n",
    "plt.clf()"
   ]
  },
  {
   "cell_type": "code",
   "execution_count": null,
   "metadata": {
    "ExecuteTime": {
     "end_time": "2022-01-27T13:29:27.301793Z",
     "start_time": "2022-01-27T13:29:27.298615Z"
    }
   },
   "outputs": [],
   "source": [
    "def map_combination_to_hyperparams(combination):\n",
    "    combination_dict = {}\n",
    "    for key, value in zip(hyperparams.keys(), combination):\n",
    "        combination_dict[key] = value\n",
    "    return combination_dict"
   ]
  },
  {
   "cell_type": "code",
   "execution_count": null,
   "metadata": {
    "ExecuteTime": {
     "end_time": "2022-01-27T13:29:27.474222Z",
     "start_time": "2022-01-27T13:29:27.470342Z"
    },
    "code_folding": []
   },
   "outputs": [],
   "source": [
    "def make_metadata(\n",
    "    mode: str,\n",
    "    max_epochs: int,\n",
    "    min_epochs: int,\n",
    "    metric_name: str,\n",
    "):\n",
    "    metadata = OmegaConf.create(\n",
    "        {\n",
    "            \"metric_name\": metric_name,\n",
    "            \"mode\": mode,\n",
    "            \"x\": {\"name\": \"epoch\", \"min\": min_epochs, \"max\": max_epochs},\n",
    "        }\n",
    "    )\n",
    "\n",
    "    step_metadata = OmegaConf.create(\n",
    "        {\n",
    "            \"metric_name\": \"epoch\",\n",
    "            \"mode\": mode,\n",
    "            \"x\": {\"name\": \"epoch\", \"min\": min_epochs, \"max\": max_epochs},\n",
    "        }\n",
    "    )\n",
    "\n",
    "    return metadata, step_metadata"
   ]
  },
  {
   "cell_type": "code",
   "execution_count": null,
   "metadata": {
    "ExecuteTime": {
     "end_time": "2022-01-27T13:29:27.640814Z",
     "start_time": "2022-01-27T13:29:27.638436Z"
    }
   },
   "outputs": [],
   "source": [
    "# list(exp_seq_dict.values())[0].aggregate_metrics(\n",
    "#         metric_names=[metadata.metric_name],\n",
    "#         x_name=metadata.x.name,\n",
    "#         x_min=metadata.x.min,\n",
    "#         x_max=metadata.x.max,\n",
    "#         mode=metadata.mode,\n",
    "#         drop_duplicates=True,\n",
    "#         verbose=True,\n",
    "#     )"
   ]
  },
  {
   "cell_type": "code",
   "execution_count": null,
   "metadata": {
    "ExecuteTime": {
     "end_time": "2022-01-27T13:29:27.816233Z",
     "start_time": "2022-01-27T13:29:27.805664Z"
    }
   },
   "outputs": [],
   "source": [
    "type(list(exp_seq_dict.values())[0])"
   ]
  },
  {
   "cell_type": "code",
   "execution_count": null,
   "metadata": {
    "ExecuteTime": {
     "end_time": "2022-01-27T13:29:38.347620Z",
     "start_time": "2022-01-27T13:29:27.953135Z"
    },
    "code_folding": []
   },
   "outputs": [],
   "source": [
    "mode = \"test_epoch\"\n",
    "# metric_name = \"accuracy_task_two_encoder_task_one_decoder\"\n",
    "\n",
    "metrics = [\n",
    "    \"average_accuracy_for_selected_paths\",\n",
    "    \"average_accuracy_for_unselected_paths\",\n",
    "    \"average_loss_for_selected_paths\",\n",
    "    \"average_loss_for_unselected_paths\",\n",
    "]\n",
    "\n",
    "df_dict = {}\n",
    "\n",
    "for metric_name in metrics:\n",
    "    metadata, step_metadata = make_metadata(\n",
    "        mode=mode,\n",
    "        max_epochs=1000,\n",
    "        min_epochs=1,\n",
    "        metric_name=metric_name,\n",
    "    )\n",
    "\n",
    "    df_dict[metric_name] = notebook_utils.make_df(\n",
    "        metadata=metadata,\n",
    "        step_metadata=step_metadata,\n",
    "        groups=groups,\n",
    "        hyperparams=hyperparams,\n",
    "        exp_seq_dict=exp_seq_dict,\n",
    "    )\n",
    "    \n",
    "#     df_dict[key].drop(\n",
    "#         [],\n",
    "#         axis=1,\n",
    "#         inplace=True,\n",
    "#     )"
   ]
  },
  {
   "cell_type": "code",
   "execution_count": null,
   "metadata": {
    "ExecuteTime": {
     "end_time": "2022-01-27T13:29:38.426090Z",
     "start_time": "2022-01-27T13:29:38.349464Z"
    }
   },
   "outputs": [],
   "source": [
    "df_dict[\"average_accuracy_for_unselected_paths\"]"
   ]
  },
  {
   "cell_type": "code",
   "execution_count": null,
   "metadata": {
    "ExecuteTime": {
     "end_time": "2022-01-27T13:29:38.530650Z",
     "start_time": "2022-01-27T13:29:38.427433Z"
    }
   },
   "outputs": [],
   "source": [
    "keys_to_merge_on = [\n",
    "    \"model.hidden_layer_cfg.dim\",\n",
    "    \"experiment.task.num_classes_in_selected_dataset\",\n",
    "    \"experiment.num_epochs\",\n",
    "    \"dataloader.name\",\n",
    "    \"model.decoder_cfg.should_share\",\n",
    "    \"model.weight_init.bias\",\n",
    "    \"experiment.task.mode\",\n",
    "    \"model.num_layers\",\n",
    "    \"optimizer._target_\",\n",
    "    \"setup.script_id\",\n",
    "    \"model.weight_init.gain\",\n",
    "    \"model.weight_init.should_do\",\n",
    "    \"model.encoder_cfg.should_share\",\n",
    "    \"experiment.task.num_input_transformations\",\n",
    "    \"optimizer.lr\",\n",
    "    \"optimizer.momentum\",\n",
    "    \"model.should_use_non_linearity\",\n",
    "    \"model.gate_cfg.mode\",\n",
    "    \"dataloader.train_config.dataloader.batch_size\",\n",
    "    \"model.pretrained_cfg.should_use\",\n",
    "    \"model.hidden_layer_cfg.should_share\",\n",
    "    \"steps\",\n",
    "    \"seeds\",\n",
    "#     \"experiment.name\",\n",
    "    \n",
    "    \n",
    "#     \"model.encoder_cfg.should_share\",\n",
    "# #     \"experiment.name\",\n",
    "#     \"model.weight_init.should_do\",\n",
    "#     \"model.weight_init.gain\",\n",
    "#     \"model.weight_init.bias\",\n",
    "#     \"optimizer._target_\",\n",
    "#     \"optimizer.lr\",\n",
    "#     \"model.hidden_layer_cfg.dim\",\n",
    "#     \"model.should_use_non_linearity\",\n",
    "#     \"model.hidden_layer_cfg.should_share\",\n",
    "#     \"model.num_layers\",\n",
    "#     \n",
    "#     \"experiment.task.num_classes_in_selected_dataset\",\n",
    "#     \"model.gate_cfg.mode\",\n",
    "#     \"experiment.num_epochs\",\n",
    "#     \"dataloader.train_config.dataloader.batch_size\",\n",
    "#     \"optimizer.momentum\"\n",
    "]\n",
    "merged_df = df_dict[metrics[0]]\n",
    "for current_metric in metrics[1:]:\n",
    "    merged_df = merged_df.merge(\n",
    "        df_dict[current_metric], on=keys_to_merge_on, suffixes=[None, None]\n",
    "    )\n",
    "\n",
    "merged_df = merged_df.drop(\n",
    "    [\n",
    "        \"seeds\",\n",
    "        \"steps\",\n",
    "#         \"experiment.name\",\n",
    "#         \"experiment.task.num_classes_in_original_dataset\",\n",
    "#         \"model.gate_cfg.mode\",\n",
    "        \"experiment.num_epochs\",\n",
    "        \"mean_average_loss_for_unselected_paths\",\n",
    "        \"mean_average_loss_for_selected_paths\"\n",
    "    ]\n",
    "    + [f\"stderr_{metric_name}\" for metric_name in metrics],\n",
    "    axis=1,\n",
    ")\n",
    "\n",
    "merged_df.style.set_sticky(axis=\"columns\")\n",
    "\n",
    "merged_df\n",
    "\n",
    "# import seaborn as sns\n",
    "\n",
    "# cm = sns.light_palette(\"red\", as_cmap=True)\n",
    "\n",
    "# merged_df.style.background_gradient(\n",
    "#     axis=1, subset=[f\"mean_return_mean_{key}\" for key in keys], vmax=1.4, vmin=0.6\n",
    "# )"
   ]
  },
  {
   "cell_type": "code",
   "execution_count": null,
   "metadata": {
    "ExecuteTime": {
     "end_time": "2022-01-27T13:29:38.572000Z",
     "start_time": "2022-01-27T13:29:38.532348Z"
    }
   },
   "outputs": [],
   "source": [
    "df_to_plot = merged_df\n",
    "\n",
    "# keys_to_drop = [\"model.should_share_hidden_layer\", \"model.name\", \"model.should_share_decoder\", \n",
    "#                 \"stderr_accuracy_greater_than_four_encoder_odd_even_decoder\", \n",
    "#                 \"steps\", \"seeds\", \n",
    "#                 \"model.num_layers\", \"model.weight_init.should_do\", \n",
    "#                 \"model.should_share_encoder\", \"model.hidden_size\"\n",
    "#                ]\n",
    "# df_to_plot = df_to_plot.drop(keys_to_drop, axis=1)\n",
    "\n",
    "hip.Experiment.from_dataframe(df_to_plot).display()\n",
    "\n"
   ]
  },
  {
   "cell_type": "code",
   "execution_count": null,
   "metadata": {
    "ExecuteTime": {
     "end_time": "2022-01-27T13:29:38.575467Z",
     "start_time": "2022-01-27T13:29:38.573305Z"
    },
    "scrolled": true
   },
   "outputs": [],
   "source": [
    "# df_to_plot.to_feather(\"/private/home/sodhani/projects/abstraction_by_gating/notebooks/feather/25\")"
   ]
  },
  {
   "cell_type": "code",
   "execution_count": null,
   "metadata": {
    "ExecuteTime": {
     "end_time": "2022-01-27T13:29:38.594663Z",
     "start_time": "2022-01-27T13:29:38.576730Z"
    }
   },
   "outputs": [],
   "source": [
    "# num_classes = 10\n",
    "# dim = 128\n",
    "# lr = 0.0001\n",
    "# df = df_to_plot[df_to_plot[\"experiment.task.num_classes_in_selected_dataset\"] == num_classes]\n",
    "# # df = df[(df[\"optimizer.lr\"] == lr) & (df[\"model.hidden_layer_cfg.dim\"] == dim)]\n",
    "# df = df.groupby(\"model.gate_cfg.mode\").max()\n",
    "# # x = df[\"model.gate_cfg.mode\"]\n",
    "# # y = df[\"mean_average_accuracy_for_selected_paths\"]\n",
    "# # print(x, y)\n",
    "# df = df.reset_index()\n",
    "# df.plot.bar(x=\"model.gate_cfg.mode\", y=\"mean_average_accuracy_for_unselected_paths\")"
   ]
  },
  {
   "cell_type": "code",
   "execution_count": null,
   "metadata": {
    "ExecuteTime": {
     "end_time": "2022-01-27T13:29:38.615116Z",
     "start_time": "2022-01-27T13:29:38.596170Z"
    }
   },
   "outputs": [],
   "source": [
    "# num_classes_in_selected_dataset = 10\n",
    "# dim = 128\n",
    "# optimizer_lr = 0.0001\n",
    "# # experiment_task_mode = \"rotate_input_permute_target\"\n",
    "# experiment_task_mode = \"permute_input_permute_target\"\n",
    "# num_input_transformations = 100\n",
    "\n",
    "\n",
    "# def get_filters(df):\n",
    "#     filters = {\n",
    "#         \"experiment.task.num_classes_in_selected_dataset\": num_classes_in_selected_dataset,\n",
    "#         \"experiment.task.mode\": experiment_task_mode,\n",
    "#         \"optimizer.lr\": optimizer_lr,\n",
    "#         \"model.hidden_layer_cfg.dim\": dim,\n",
    "#         \"experiment.task.num_input_transformations\": num_input_transformations,\n",
    "#     }\n",
    "#     return reduce(\n",
    "#         lambda x, y: x & y, [df[key] == val for key, val in filters.items()], True\n",
    "#     )\n",
    "\n",
    "\n",
    "# df = df_to_plot[get_filters(df_to_plot)]\n",
    "\n",
    "# x_metric_name = \"model.gate_cfg.mode\"\n",
    "# # y_metric_name = \"mean_average_accuracy_for_selected_paths\"\n",
    "\n",
    "# for y_metric_name in [\"mean_average_accuracy_for_selected_paths\", \"mean_average_accuracy_for_unselected_paths\"]:\n",
    "\n",
    "#     points = []\n",
    "#     for x, y in zip(df[x_metric_name], df[y_metric_name]):\n",
    "#         x = ds.make_transformed_x(x)\n",
    "#         points.append(ds.Point(x, y))\n",
    "\n",
    "#     points.sort()\n",
    "\n",
    "#     x_y = {}\n",
    "#     # x, y = [], []\n",
    "#     for p in points:\n",
    "#         x = float(p.x.normalize(num_input_transformations=num_input_transformations))\n",
    "#         if x not in x_y:\n",
    "#             x_y[x] = y\n",
    "#         else:\n",
    "#             x_y[x] = max(x_y[x], p.y)\n",
    "\n",
    "#     print(x_y)\n",
    "#     # plt.plot(x, y)\n",
    "#     if y_metric_name == \"mean_average_accuracy_for_unselected_paths\":\n",
    "#         label = \"untrained pathways\"\n",
    "#     else:\n",
    "#         label = \"trained pathways\"\n",
    "#     plt.plot(x_y.keys(), x_y.values(), label=label, marker = \"x\")\n",
    "#     # print(x)\n",
    "#     # print(y)\n",
    "\n",
    "# if num_input_transformations == 100:\n",
    "#     plt.title(r'$10^{4}$ datasets')\n",
    "    \n",
    "# plt.xlabel(\"% of datasets used for training\")\n",
    "# # plt.ylabel(\" \".join(y_metric_name.split(\"_\")[:3]))\n",
    "# plt.ylabel(\"mean accuracy\")\n",
    "\n",
    "# lower_range = 0.25\n",
    "# upper_range = 0.95\n",
    "\n",
    "# plt.yticks(np.arange(lower_range, upper_range, 0.1))\n",
    "# plt.xticks(np.arange(10, 100, 10))\n",
    "# plt.ylim([lower_range, upper_range])\n",
    "\n",
    "# plt.legend()\n",
    "# plt.grid()\n",
    "# plt.show()\n",
    "\n",
    "\n",
    "# # plt.savefig(\n",
    "# # #     f\"/private/home/sodhani/projects/abstraction_by_gating/results/mnist-{experiment_task_mode.replace('_', '-')}-{num_input_transformations}/{y_metric_name}_{dim}.pdf\",\n",
    "# #     f\"/private/home/sodhani/projects/abstraction_by_gating/results/mnist-{experiment_task_mode.replace('_', '-')}-{num_input_transformations}/line_{dim}.pdf\",\n",
    "# #     dpi=300,\n",
    "# #     bbox_inches=\"tight\",\n",
    "# # )\n",
    "# # plt.clf()"
   ]
  },
  {
   "cell_type": "code",
   "execution_count": null,
   "metadata": {
    "ExecuteTime": {
     "end_time": "2022-01-27T13:29:56.235023Z",
     "start_time": "2022-01-27T13:29:55.859223Z"
    }
   },
   "outputs": [],
   "source": [
    "num_classes_in_selected_dataset = 10\n",
    "dim = 128\n",
    "optimizer_lr = 0.0001\n",
    "# experiment_task_mode = \"rotate_input_permute_target\"\n",
    "experiment_task_mode = \"permute_input_permute_target\"\n",
    "num_input_transformations = 100\n",
    "\n",
    "\n",
    "def get_filters(df):\n",
    "    filters = {\n",
    "        \"experiment.task.num_classes_in_selected_dataset\": num_classes_in_selected_dataset,\n",
    "        \"experiment.task.mode\": experiment_task_mode,\n",
    "        \"optimizer.lr\": optimizer_lr,\n",
    "        \"model.hidden_layer_cfg.dim\": dim,\n",
    "        \"experiment.task.num_input_transformations\": num_input_transformations,\n",
    "    }\n",
    "    return reduce(\n",
    "        lambda x, y: x & y, [df[key] == val for key, val in filters.items()], True\n",
    "    )\n",
    "\n",
    "\n",
    "df = df_to_plot[get_filters(df_to_plot)]\n",
    "\n",
    "x_metric_name = \"model.gate_cfg.mode\"\n",
    "# y_metric_name = \"mean_average_accuracy_for_selected_paths\"\n",
    "\n",
    "for y_metric_name in [\"mean_average_accuracy_for_selected_paths\", \"mean_average_accuracy_for_unselected_paths\"]:\n",
    "\n",
    "    points = []\n",
    "    for x, y in zip(df[x_metric_name], df[y_metric_name]):\n",
    "        x = ds.make_transformed_x(x)\n",
    "        points.append(ds.Point(x, y))\n",
    "\n",
    "    points.sort()\n",
    "\n",
    "    x_y = {}\n",
    "    # x, y = [], []\n",
    "    for p in points:\n",
    "        x = float(p.x.normalize(num_input_transformations=num_input_transformations))\n",
    "        if x not in x_y:\n",
    "            x_y[x] = y\n",
    "        else:\n",
    "            x_y[x] = max(x_y[x], p.y)\n",
    "\n",
    "    print(x_y)\n",
    "    # plt.plot(x, y)\n",
    "    if y_metric_name == \"mean_average_accuracy_for_unselected_paths\":\n",
    "        label = \"untrained pathways\"\n",
    "    else:\n",
    "        label = \"trained pathways\"\n",
    "    plt.plot(x_y.keys(), x_y.values(), label=label, marker = \"x\")\n",
    "    # print(x)\n",
    "    # print(y)\n",
    "\n",
    "if num_input_transformations == 100:\n",
    "    plt.title(r'MNIST-Permuted-Input-Permuted-Output-100')\n",
    "elif experiment_task_mode == \"rotate_input_permute_target\":\n",
    "    plt.title(r'MNIST-Rotated-Input-Permuted-Output-40')\n",
    "elif experiment_task_mode == \"permute_input_permute_target\":\n",
    "    plt.title(r'MNIST-Permuted-Input-Permuted-Output-40')\n",
    "    \n",
    "plt.xlabel(\"% of datasets used for training\")\n",
    "# plt.ylabel(\" \".join(y_metric_name.split(\"_\")[:3]))\n",
    "plt.ylabel(\"mean accuracy\")\n",
    "\n",
    "lower_range = 0.25\n",
    "upper_range = 0.95\n",
    "\n",
    "plt.yticks(np.arange(lower_range, upper_range, 0.1))\n",
    "plt.xticks(np.arange(10, 100, 10))\n",
    "plt.ylim([lower_range, upper_range])\n",
    "\n",
    "plt.legend()\n",
    "plt.grid()\n",
    "\n",
    "path = f\"/private/home/sodhani/projects/abstraction_by_gating/results/mnist-{experiment_task_mode.replace('_', '-')}-{num_input_transformations}/line_{dim}.pdf\"\n",
    "# print(path)\n",
    "\n",
    "# plt.show()\n",
    "\n",
    "plt.savefig(\n",
    "#     f\"/private/home/sodhani/projects/abstraction_by_gating/results/mnist-{experiment_task_mode.replace('_', '-')}-{num_input_transformations}/{y_metric_name}_{dim}.pdf\",\n",
    "    path,\n",
    "    dpi=300,\n",
    "    bbox_inches=\"tight\",\n",
    ")\n",
    "plt.clf()\n"
   ]
  },
  {
   "cell_type": "code",
   "execution_count": null,
   "metadata": {},
   "outputs": [],
   "source": []
  },
  {
   "cell_type": "code",
   "execution_count": null,
   "metadata": {
    "ExecuteTime": {
     "end_time": "2022-01-26T22:58:59.297395Z",
     "start_time": "2022-01-26T22:58:59.288769Z"
    }
   },
   "outputs": [],
   "source": [
    "from __future__ import annotations\n",
    "\n",
    "import math\n",
    "from typing import Any, Optional\n",
    "\n",
    "from bokeh.plotting import figure\n",
    "\n",
    "from xplogger.parser.experiment import ExperimentSequenceDict  # type: ignore\n",
    "\n",
    "\n",
    "# y_metric_list = [\"accuracy_odd_even\", \"accuracy_greater_than_four\"]\n",
    "y_metric_list = [\"average_accuracy_for_selected_paths\"]\n",
    "# y_metric_list = [\"accuracy\"]\n",
    "x_metric = \"epoch\"\n",
    "mode = \"test_epoch\"\n",
    "\n",
    "\n",
    "def filter_fn(key, experiment_sequence):\n",
    "    def filter_experiment(exp):\n",
    "        if not exp:\n",
    "            return False\n",
    "        model_cfg = exp.config[\"model\"]\n",
    "        return (\n",
    "            exp.config[\"experiment\"][\"task\"][\"mode\"] == \"permute_input_permute_target\"\n",
    "            and model_cfg[\"hidden_layer_cfg\"][\"dim\"] == 128\n",
    "            and model_cfg[\"num_layers\"] == 1\n",
    "            and model_cfg[\"weight_init\"][\"bias\"] == 0\n",
    "#             and model_cfg[\"weight_init\"][\"gain\"] not in [0.0001, 0.001, 0.01]\n",
    "            and exp.config[\"optimizer\"][\"_target_\"] == \"torch.optim.SGD\"\n",
    "            #             and model_cfg[\"weight_init\"][\"gain\"] == 0.001\n",
    "            #             and model_cfg[\"gate_cfg\"][\"mode\"] in [\"4_plus_mod_permute\", \"4_plus_mod\"]\n",
    "            and model_cfg[\"gate_cfg\"][\"mode\"]\n",
    "            in [\"90_plus_mod_permute\"]\n",
    "#             in [\"4_plus_mod\", \"4_plus_mod_permute\", \"6_plus_mod\", \"6_plus_mod_permute\"]\n",
    "            and exp.config[\"experiment\"][\"task\"][\"num_classes_in_selected_dataset\"] == 10\n",
    "        )\n",
    "\n",
    "    return all(filter_experiment(exp) for exp in experiment_sequence)\n",
    "\n",
    "\n",
    "def get_function_to_get_experiment_name(param_list: list[DictConfig]):\n",
    "    unique_params_and_values = {}\n",
    "    words_to_ignore = []\n",
    "    for param in param_list:\n",
    "        for key, value in param.items():\n",
    "            if key not in unique_params_and_values:\n",
    "                unique_params_and_values[key] = set()\n",
    "            unique_params_and_values[key].add(value)\n",
    "    for key, value in unique_params_and_values.items():\n",
    "        if len(value) == 1:\n",
    "            words_to_ignore.append(key)\n",
    "\n",
    "    def get_experiment_name(params, **kwargs):\n",
    "        return params[\"model.weight_init.gain\"]\n",
    "    return get_experiment_name\n"
   ]
  },
  {
   "cell_type": "code",
   "execution_count": null,
   "metadata": {
    "ExecuteTime": {
     "end_time": "2022-01-26T22:59:04.313172Z",
     "start_time": "2022-01-26T22:59:03.958003Z"
    },
    "code_folding": [
     3
    ]
   },
   "outputs": [],
   "source": [
    "\n",
    "\n",
    "\n",
    "def matplotlib_plot_experiment_sequence_dict(\n",
    "    exp_seq_dict: ExperimentSequenceDict,\n",
    "    metadata_for_plot: dict[str, Any],\n",
    "    color_palette: list[Any],\n",
    "    plt: Optional[figure],\n",
    "    colors: Optional[list[str]] = None,\n",
    "    color_offset: int = 0,\n",
    "    return_all_metrics_with_same_length: bool = True,\n",
    "    kwargs_for_aggregate_metrics: Optional[dict[str, Any]] = None,\n",
    ") -> figure:\n",
    "    \"\"\"Plot the given experiment sequence dict as a matplotlib.\n",
    "\n",
    "    Args:\n",
    "        exp_seq_dict (ExperimentSequenceDict):\n",
    "        metadata_for_plot (dict[str, Any]):\n",
    "        color_palette (list[Any]):\n",
    "        p (Optional[figure]):\n",
    "        colors (Optional[list[str]], optional): Defaults to None.\n",
    "        color_offset (int, optional): Defaults to 0.\n",
    "        kwargs_for_aggregate_metrics (Optional[dict[str, Any]], optional):\n",
    "            These arguments are pass to aggregation function of exp_seq_dict.\n",
    "            Defaults to None.\n",
    "\n",
    "    Returns:\n",
    "        figure:\n",
    "    \"\"\"\n",
    "    if not kwargs_for_aggregate_metrics:\n",
    "        kwargs_for_aggregate_metrics = {}\n",
    "\n",
    "    for key in [\n",
    "        \"get_experiment_name\",\n",
    "        \"metric_names\",\n",
    "        \"x_name\",\n",
    "        \"x_min\",\n",
    "        \"x_max\",\n",
    "        \"mode\",\n",
    "        \"drop_duplicates\",\n",
    "        \"dropna\",\n",
    "        \"verbose\",\n",
    "    ]:\n",
    "        assert key in kwargs_for_aggregate_metrics\n",
    "\n",
    "    x_metric = kwargs_for_aggregate_metrics[\"x_name\"]\n",
    "    y_metric_list = kwargs_for_aggregate_metrics[\"metric_names\"]\n",
    "\n",
    "    \n",
    "    \n",
    "\n",
    "    data = exp_seq_dict.aggregate_metrics(\n",
    "        return_all_metrics_with_same_length=return_all_metrics_with_same_length,\n",
    "        **kwargs_for_aggregate_metrics,\n",
    "    )\n",
    "\n",
    "    if colors is None:\n",
    "        try:\n",
    "            colors = color_palette[len(data) + color_offset]\n",
    "        except KeyError:\n",
    "            # this could be because we have fewer data points than 3\n",
    "            colors = color_palette[3][: len(data) + color_offset]\n",
    "    assert colors is not None\n",
    "    for index, (key, y) in enumerate(data.items(), color_offset):\n",
    "        if key.endswith(f\"_{x_metric}\"):\n",
    "            continue\n",
    "        for current_metric_name in y_metric_list:\n",
    "            if key.endswith(current_metric_name):\n",
    "                current_exp_seq_key = key.replace(f\"_{current_metric_name}\", \"\")\n",
    "                break\n",
    "        else:\n",
    "            print(\"Can not find the metric name.\")\n",
    "            breakpoint()\n",
    "        x_key = f\"{current_exp_seq_key}_{x_metric}\"\n",
    "        x = data[x_key].mean(axis=0)[::20]\n",
    "        mean = y.mean(axis=0)[::20]\n",
    "        stderr = y.std(axis=0) / math.sqrt(len(y))\n",
    "        gain, mode = key.split(\"_\", 1)\n",
    "        if mode == \"average_accuracy_for_unselected_paths\":\n",
    "            marker = \"x\"\n",
    "            label = \"untrained\"\n",
    "        else:\n",
    "            marker = \".\"\n",
    "            label = \"trained\"\n",
    "        label = f\"{label}, gain={gain}\"\n",
    "        print(key, mode)\n",
    "        plt.plot(x, mean, linewidth=2, color=colors[index], label=label, marker=marker)\n",
    "        # p.varea(\n",
    "        #     x,\n",
    "        #     mean - stderr,\n",
    "        #     mean + stderr,\n",
    "        #     fill_alpha=metadata_for_plot.get(\"fill_alpha\", 0.6),\n",
    "        #     color=colors[index],\n",
    "        # )\n",
    "\n",
    "    # p.legend.location = \"bottom_right\"\n",
    "    # p.legend.click_policy = \"hide\"\n",
    "    # return p\n",
    "\n",
    "    \n",
    "def plot(\n",
    "    filter_fn,\n",
    "    y_metric_list: list[str] = [\"return_mean\"],\n",
    "    x_metric: str = \"frames\",\n",
    "    mode: str = \"train\",\n",
    "    metadata_for_plot={},\n",
    "    p=None,\n",
    "    color_palette=None,\n",
    "    color_offset: int = 0,\n",
    "    colors=None,\n",
    "):\n",
    "\n",
    "    filtered_exp_seq_dict = ExperimentSequenceDict(\n",
    "        {\n",
    "            key: ExperimentSequence(experiment_sequence)\n",
    "            for key, experiment_sequence in sorted(\n",
    "                exp_seq_dict.items(),\n",
    "                key=lambda item: sorted(OmegaConf.to_container(item[0]).items()),\n",
    "            )\n",
    "            if filter_fn(key, experiment_sequence)\n",
    "        }\n",
    "    )\n",
    "\n",
    "    fn_to_get_experiment_name = get_function_to_get_experiment_name(\n",
    "        param_list=list(filtered_exp_seq_dict.keys())\n",
    "    )\n",
    "\n",
    "    color_palette = bokeh.palettes.d3[\"Category20\"]\n",
    "\n",
    "    return matplotlib_plot_experiment_sequence_dict(\n",
    "        exp_seq_dict=filtered_exp_seq_dict,\n",
    "        kwargs_for_aggregate_metrics = {\n",
    "            \"get_experiment_name\": fn_to_get_experiment_name,\n",
    "            \"x_name\": x_metric,\n",
    "            \"mode\": mode,\n",
    "            \"drop_duplicates\": True,\n",
    "            \"dropna\": True,\n",
    "            \"verbose\": True,\n",
    "            \"metric_names\": y_metric_list,\n",
    "            \"x_min\": 100,\n",
    "            \"x_max\": 1000,\n",
    "        },\n",
    "        metadata_for_plot=metadata_for_plot,\n",
    "        color_palette=color_palette,\n",
    "        plt = plt,\n",
    "#         p=p,\n",
    "        colors=colors,\n",
    "        color_offset=color_offset,\n",
    "    )\n",
    "        \n",
    "\n",
    "color_palette = bokeh.palettes.d3[\"Category20\"]\n",
    "colors = color_palette[20][::1]\n",
    "\n",
    "\n",
    "plot(\n",
    "    filter_fn=filter_fn,\n",
    "    metadata_for_plot={\"title\": title, \"fill_alpha\": 0.2},\n",
    "    y_metric_list=y_metric_list,\n",
    "    x_metric=x_metric,\n",
    "    color_palette=color_palette,\n",
    "    mode=mode,\n",
    "    p=p,\n",
    "    color_offset=0,\n",
    "    colors=colors,\n",
    ")\n",
    "\n",
    "plt.title(r'$10^{4}$ datasets')\n",
    "plt.ylabel(\"mean accuracy\")\n",
    "plt.xlabel(\"epoch\")\n",
    "\n",
    "# lower_range = 0.25\n",
    "# upper_range = 0.95\n",
    "\n",
    "# plt.yticks(np.arange(lower_range, upper_range, 0.1))\n",
    "# plt.xticks(np.arange(10, 100, 10))\n",
    "# plt.ylim([lower_range, upper_range])\n",
    "\n",
    "plt.legend()\n",
    "plt.grid()\n",
    "plt.show()\n",
    "\n",
    "\n",
    "# plt.savefig(\n",
    "# #     f\"/private/home/sodhani/projects/abstraction_by_gating/results/mnist-{experiment_task_mode.replace('_', '-')}-{num_input_transformations}/{y_metric_name}_{dim}.pdf\",\n",
    "#     f\"/private/home/sodhani/projects/abstraction_by_gating/results/mnist-{experiment_task_mode.replace('_', '-')}-{num_input_transformations}/line_{dim}.pdf\",\n",
    "#     dpi=300,\n",
    "#     bbox_inches=\"tight\",\n",
    "# )\n",
    "\n"
   ]
  },
  {
   "cell_type": "code",
   "execution_count": null,
   "metadata": {},
   "outputs": [],
   "source": []
  },
  {
   "cell_type": "code",
   "execution_count": null,
   "metadata": {},
   "outputs": [],
   "source": []
  }
 ],
 "metadata": {
  "kernelspec": {
   "display_name": "xplogger_prod",
   "language": "python",
   "name": "xplogger_prod"
  },
  "language_info": {
   "codemirror_mode": {
    "name": "ipython",
    "version": 3
   },
   "file_extension": ".py",
   "mimetype": "text/x-python",
   "name": "python",
   "nbconvert_exporter": "python",
   "pygments_lexer": "ipython3",
   "version": "3.8.8"
  },
  "toc": {
   "base_numbering": 1,
   "nav_menu": {},
   "number_sections": true,
   "sideBar": true,
   "skip_h1_title": false,
   "title_cell": "Table of Contents",
   "title_sidebar": "Contents",
   "toc_cell": false,
   "toc_position": {},
   "toc_section_display": true,
   "toc_window_display": false
  }
 },
 "nbformat": 4,
 "nbformat_minor": 4
}
