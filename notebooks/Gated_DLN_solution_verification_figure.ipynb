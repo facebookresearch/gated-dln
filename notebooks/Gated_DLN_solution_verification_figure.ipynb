{
 "cells": [
  {
   "cell_type": "code",
   "execution_count": 4,
   "metadata": {
    "ExecuteTime": {
     "end_time": "2021-08-23T14:59:27.137372Z",
     "start_time": "2021-08-23T14:59:27.134050Z"
    },
    "id": "7c34351c"
   },
   "outputs": [
    {
     "ename": "ModuleNotFoundError",
     "evalue": "No module named 'matplotlib'",
     "output_type": "error",
     "traceback": [
      "\u001b[0;31m---------------------------------------------------------------------------\u001b[0m",
      "\u001b[0;31mModuleNotFoundError\u001b[0m                       Traceback (most recent call last)",
      "\u001b[1;32m/private/home/sodhani/projects/preview-dln/notebooks/Gated_DLN_solution_verification_figure.ipynb Cell 1'\u001b[0m in \u001b[0;36m<cell line: 1>\u001b[0;34m()\u001b[0m\n\u001b[0;32m----> <a href='vscode-notebook-cell://ssh-remote%2Bvscode-remote/private/home/sodhani/projects/preview-dln/notebooks/Gated_DLN_solution_verification_figure.ipynb#ch0000002vscode-remote?line=0'>1</a>\u001b[0m get_ipython()\u001b[39m.\u001b[39;49mrun_line_magic(\u001b[39m'\u001b[39;49m\u001b[39mmatplotlib\u001b[39;49m\u001b[39m'\u001b[39;49m, \u001b[39m'\u001b[39;49m\u001b[39minline\u001b[39;49m\u001b[39m'\u001b[39;49m)\n\u001b[1;32m      <a href='vscode-notebook-cell://ssh-remote%2Bvscode-remote/private/home/sodhani/projects/preview-dln/notebooks/Gated_DLN_solution_verification_figure.ipynb#ch0000002vscode-remote?line=1'>2</a>\u001b[0m get_ipython()\u001b[39m.\u001b[39mrun_line_magic(\u001b[39m'\u001b[39m\u001b[39mconfig\u001b[39m\u001b[39m'\u001b[39m, \u001b[39m\"\u001b[39m\u001b[39mInlineBackend.figure_format = \u001b[39m\u001b[39m'\u001b[39m\u001b[39mretina\u001b[39m\u001b[39m'\u001b[39m\u001b[39m\"\u001b[39m)\n\u001b[1;32m      <a href='vscode-notebook-cell://ssh-remote%2Bvscode-remote/private/home/sodhani/projects/preview-dln/notebooks/Gated_DLN_solution_verification_figure.ipynb#ch0000002vscode-remote?line=3'>4</a>\u001b[0m \u001b[39mfrom\u001b[39;00m \u001b[39mcopy\u001b[39;00m \u001b[39mimport\u001b[39;00m deepcopy\n",
      "File \u001b[0;32m~/.conda/envs/preview_dln/lib/python3.9/site-packages/IPython/core/interactiveshell.py:2305\u001b[0m, in \u001b[0;36mInteractiveShell.run_line_magic\u001b[0;34m(self, magic_name, line, _stack_depth)\u001b[0m\n\u001b[1;32m   2303\u001b[0m     kwargs[\u001b[39m'\u001b[39m\u001b[39mlocal_ns\u001b[39m\u001b[39m'\u001b[39m] \u001b[39m=\u001b[39m \u001b[39mself\u001b[39m\u001b[39m.\u001b[39mget_local_scope(stack_depth)\n\u001b[1;32m   2304\u001b[0m \u001b[39mwith\u001b[39;00m \u001b[39mself\u001b[39m\u001b[39m.\u001b[39mbuiltin_trap:\n\u001b[0;32m-> 2305\u001b[0m     result \u001b[39m=\u001b[39m fn(\u001b[39m*\u001b[39;49margs, \u001b[39m*\u001b[39;49m\u001b[39m*\u001b[39;49mkwargs)\n\u001b[1;32m   2306\u001b[0m \u001b[39mreturn\u001b[39;00m result\n",
      "File \u001b[0;32m~/.conda/envs/preview_dln/lib/python3.9/site-packages/IPython/core/magics/pylab.py:99\u001b[0m, in \u001b[0;36mPylabMagics.matplotlib\u001b[0;34m(self, line)\u001b[0m\n\u001b[1;32m     97\u001b[0m     \u001b[39mprint\u001b[39m(\u001b[39m\"\u001b[39m\u001b[39mAvailable matplotlib backends: \u001b[39m\u001b[39m%s\u001b[39;00m\u001b[39m\"\u001b[39m \u001b[39m%\u001b[39m backends_list)\n\u001b[1;32m     98\u001b[0m \u001b[39melse\u001b[39;00m:\n\u001b[0;32m---> 99\u001b[0m     gui, backend \u001b[39m=\u001b[39m \u001b[39mself\u001b[39;49m\u001b[39m.\u001b[39;49mshell\u001b[39m.\u001b[39;49menable_matplotlib(args\u001b[39m.\u001b[39;49mgui\u001b[39m.\u001b[39;49mlower() \u001b[39mif\u001b[39;49;00m \u001b[39misinstance\u001b[39;49m(args\u001b[39m.\u001b[39;49mgui, \u001b[39mstr\u001b[39;49m) \u001b[39melse\u001b[39;49;00m args\u001b[39m.\u001b[39;49mgui)\n\u001b[1;32m    100\u001b[0m     \u001b[39mself\u001b[39m\u001b[39m.\u001b[39m_show_matplotlib_backend(args\u001b[39m.\u001b[39mgui, backend)\n",
      "File \u001b[0;32m~/.conda/envs/preview_dln/lib/python3.9/site-packages/IPython/core/interactiveshell.py:3478\u001b[0m, in \u001b[0;36mInteractiveShell.enable_matplotlib\u001b[0;34m(self, gui)\u001b[0m\n\u001b[1;32m   3457\u001b[0m \u001b[39mdef\u001b[39;00m \u001b[39menable_matplotlib\u001b[39m(\u001b[39mself\u001b[39m, gui\u001b[39m=\u001b[39m\u001b[39mNone\u001b[39;00m):\n\u001b[1;32m   3458\u001b[0m     \u001b[39m\"\"\"Enable interactive matplotlib and inline figure support.\u001b[39;00m\n\u001b[1;32m   3459\u001b[0m \n\u001b[1;32m   3460\u001b[0m \u001b[39m    This takes the following steps:\u001b[39;00m\n\u001b[0;32m   (...)\u001b[0m\n\u001b[1;32m   3476\u001b[0m \u001b[39m        display figures inline.\u001b[39;00m\n\u001b[1;32m   3477\u001b[0m \u001b[39m    \"\"\"\u001b[39;00m\n\u001b[0;32m-> 3478\u001b[0m     \u001b[39mfrom\u001b[39;00m \u001b[39mmatplotlib_inline\u001b[39;00m\u001b[39m.\u001b[39;00m\u001b[39mbackend_inline\u001b[39;00m \u001b[39mimport\u001b[39;00m configure_inline_support\n\u001b[1;32m   3480\u001b[0m     \u001b[39mfrom\u001b[39;00m \u001b[39mIPython\u001b[39;00m\u001b[39m.\u001b[39;00m\u001b[39mcore\u001b[39;00m \u001b[39mimport\u001b[39;00m pylabtools \u001b[39mas\u001b[39;00m pt\n\u001b[1;32m   3481\u001b[0m     gui, backend \u001b[39m=\u001b[39m pt\u001b[39m.\u001b[39mfind_gui_and_backend(gui, \u001b[39mself\u001b[39m\u001b[39m.\u001b[39mpylab_gui_select)\n",
      "File \u001b[0;32m~/.conda/envs/preview_dln/lib/python3.9/site-packages/matplotlib_inline/backend_inline.py:6\u001b[0m, in \u001b[0;36m<module>\u001b[0;34m\u001b[0m\n\u001b[1;32m      1\u001b[0m \u001b[39m\"\"\"A matplotlib backend for publishing figures via display_data\"\"\"\u001b[39;00m\n\u001b[1;32m      3\u001b[0m \u001b[39m# Copyright (c) IPython Development Team.\u001b[39;00m\n\u001b[1;32m      4\u001b[0m \u001b[39m# Distributed under the terms of the BSD 3-Clause License.\u001b[39;00m\n\u001b[0;32m----> 6\u001b[0m \u001b[39mimport\u001b[39;00m \u001b[39mmatplotlib\u001b[39;00m\n\u001b[1;32m      7\u001b[0m \u001b[39mfrom\u001b[39;00m \u001b[39mmatplotlib\u001b[39;00m\u001b[39m.\u001b[39;00m\u001b[39mbackends\u001b[39;00m\u001b[39m.\u001b[39;00m\u001b[39mbackend_agg\u001b[39;00m \u001b[39mimport\u001b[39;00m (  \u001b[39m# noqa\u001b[39;00m\n\u001b[1;32m      8\u001b[0m     new_figure_manager,\n\u001b[1;32m      9\u001b[0m     FigureCanvasAgg,\n\u001b[1;32m     10\u001b[0m     new_figure_manager_given_figure,\n\u001b[1;32m     11\u001b[0m )\n\u001b[1;32m     12\u001b[0m \u001b[39mfrom\u001b[39;00m \u001b[39mmatplotlib\u001b[39;00m \u001b[39mimport\u001b[39;00m colors\n",
      "\u001b[0;31mModuleNotFoundError\u001b[0m: No module named 'matplotlib'"
     ]
    }
   ],
   "source": [
    "%matplotlib inline\n",
    "%config InlineBackend.figure_format = 'retina'\n",
    "\n",
    "from copy import deepcopy\n",
    "from importlib import import_module\n",
    "\n",
    "import numpy as np\n",
    "import torch\n",
    "from omegaconf import OmegaConf\n",
    "from torch import nn\n",
    "\n",
    "import matplotlib as mpl\n",
    "import matplotlib.pyplot as plt\n",
    "from mpl_toolkits.axes_grid1.inset_locator import inset_axes\n",
    "\n",
    "plt.rc(\"font\", **{\"size\": 20})\n",
    "plt.rc(\"lines\", linewidth=4.0)\n",
    "mpl.rcParams['lines.markersize'] = 20\n",
    "mpl.rcParams['lines.markeredgewidth'] = 2\n",
    "\n",
    "fig_size = 6"
   ]
  },
  {
   "cell_type": "code",
   "execution_count": null,
   "metadata": {
    "ExecuteTime": {
     "end_time": "2021-08-23T15:00:48.225188Z",
     "start_time": "2021-08-23T15:00:48.218632Z"
    },
    "id": "ab1a232d"
   },
   "outputs": [
    {
     "ename": "",
     "evalue": "",
     "output_type": "error",
     "traceback": [
      "\u001b[1;31mRunning cells with 'Python 3.8.9 64-bit' requires ipykernel package.\n",
      "Run the following command to install 'ipykernel' into the Python environment. \n",
      "Command: '/usr/bin/python3 -m pip install ipykernel -U --user --force-reinstall'"
     ]
    }
   ],
   "source": [
    "cfg = OmegaConf.create(\n",
    "    {\n",
    "        \"num_pathways\": 7,  # this is M\n",
    "        # for the ith layer, hidden_dims[i] is the input dim and\n",
    "        # hidden_dims[i+1] is the output dim\n",
    "        \"hidden_dims\": [64, 64, 64, 64],\n",
    "        #         \"hidden_dims\": [16, 32, 64, 128],\n",
    "        \"input_dim\": 4,\n",
    "        \"output_dim\": 7,\n",
    "        \"case\": \"1\",  # from the google doc\n",
    "        \"init_scale\": .2,\n",
    "        \"should_init_decoupled\": False,\n",
    "        \"should_use_bias\": False,\n",
    "        \"num_epochs\": 500,\n",
    "        \"loss\": {\n",
    "            \"cls\": \"torch.nn.MSELoss\",\n",
    "            \"reduction\": \"none\",\n",
    "        },\n",
    "        #         \"optimizer\": {\n",
    "        #             \"cls\": \"torch.optim.Adam\",\n",
    "        #             \"lr\": 0.0001,\n",
    "        #             \"betas\": [0.9, 0.999],\n",
    "        #             \"eps\": 1e-08,\n",
    "        #             \"weight_decay\": 0,\n",
    "        #             \"amsgrad\": False,\n",
    "        #         },\n",
    "        \"optimizer\": {\n",
    "            \"cls\": \"torch.optim.SGD\",\n",
    "            \"lr\": .02,  # .005,#.01,\n",
    "            \"momentum\": 0,\n",
    "            \"dampening\": 0,\n",
    "            \"weight_decay\": 0,\n",
    "            \"nesterov\": False,\n",
    "        },\n",
    "        \"gate\": {\n",
    "            # other supported modes are: mod, k_plus_mod, k_plus_minus_mod\n",
    "            # where k is an integer\n",
    "            \"mode\": \"4_plus_minus_mod\",\n",
    "            \"num_classes\": 4\n",
    "        },\n",
    "        \"num_trained_pathways\": 4\n",
    "    }\n",
    ")\n",
    "# cfg is a dictionary with \".\" access eg cfg[\"abc\"] == cfg.abc\n",
    "\n",
    "device = torch.device(\"cpu\")"
   ]
  },
  {
   "cell_type": "code",
   "execution_count": null,
   "metadata": {
    "ExecuteTime": {
     "end_time": "2021-08-23T14:59:39.347956Z",
     "start_time": "2021-08-23T14:59:39.341776Z"
    },
    "colab": {
     "base_uri": "https://localhost:8080/"
    },
    "id": "0383a1c2",
    "outputId": "e4a79b63-73c8-43f4-ac46-1ac361c80eee"
   },
   "outputs": [
    {
     "name": "stdout",
     "output_type": "stream",
     "text": [
      "X: tensor([[1., 0., 0., 0.],\n",
      "        [0., 1., 0., 0.],\n",
      "        [0., 0., 1., 0.],\n",
      "        [0., 0., 0., 1.]])\n",
      "Y: tensor([[6., 4., 0., 3., 0., 0., 0.],\n",
      "        [6., 4., 0., 0., 3., 0., 0.],\n",
      "        [6., 0., 4., 0., 0., 3., 0.],\n",
      "        [6., 0., 4., 0., 0., 0., 3.]])\n",
      "Created Tensors\n"
     ]
    },
    {
     "ename": "",
     "evalue": "",
     "output_type": "error",
     "traceback": [
      "\u001b[1;31mRunning cells with 'Python 3.8.9 64-bit' requires ipykernel package.\n",
      "Run the following command to install 'ipykernel' into the Python environment. \n",
      "Command: '/usr/bin/python3 -m pip install ipykernel -U --user --force-reinstall'"
     ]
    }
   ],
   "source": [
    "######\n",
    "X = torch.eye(n=cfg.input_dim).to(device)\n",
    "Y = (\n",
    "    torch.cat(\n",
    "        [\n",
    "            6.*torch.ones((1, cfg.input_dim)),\n",
    "            torch.tensor([4, 4, 0, 0]).unsqueeze(0),\n",
    "            torch.tensor([0, 0, 4,4]).unsqueeze(0),\n",
    "            3*torch.eye(n=cfg.input_dim),\n",
    "        ]\n",
    "    )\n",
    "    .to(device)\n",
    "    .t()\n",
    ")\n",
    "\n",
    "print(f\"X: {X}\")\n",
    "print(f\"Y: {Y}\")\n",
    "print(\"Created Tensors\")"
   ]
  },
  {
   "cell_type": "code",
   "execution_count": null,
   "metadata": {
    "colab": {
     "base_uri": "https://localhost:8080/",
     "height": 619
    },
    "id": "fEiaiBIeNonR",
    "outputId": "f48c1552-73a0-4004-fce1-e88b66a4798c"
   },
   "outputs": [
    {
     "data": {
      "image/png": "[encoded data removed]",
      "text/plain": [
       "<Figure size 432x288 with 1 Axes>"
      ]
     },
     "metadata": {
      "image/png": {
       "height": 381,
       "width": 418
      },
      "needs_background": "light"
     },
     "output_type": "display_data"
    },
    {
     "ename": "",
     "evalue": "",
     "output_type": "error",
     "traceback": [
      "\u001b[1;31mRunning cells with 'Python 3.8.9 64-bit' requires ipykernel package.\n",
      "Run the following command to install 'ipykernel' into the Python environment. \n",
      "Command: '/usr/bin/python3 -m pip install ipykernel -U --user --force-reinstall'"
     ]
    }
   ],
   "source": [
    "class GatedDLN(nn.Module):\n",
    "    def __init__(\n",
    "            self,\n",
    "            num_tasks,\n",
    "            input_dim,\n",
    "            hidden_dims,\n",
    "            output_dim,\n",
    "            case,\n",
    "            should_use_bias):\n",
    "        self.tasks = OmegaConf.create({\"shape\": [num_tasks, num_tasks]})\n",
    "        super().__init__()\n",
    "        self.input = nn.ModuleList(\n",
    "            [\n",
    "                nn.Linear(input_dim, hidden_dims[0], bias=should_use_bias)\n",
    "                for _ in range(num_tasks)\n",
    "            ]\n",
    "        )\n",
    "        self.hidden = nn.Linear(\n",
    "            hidden_dims[0],\n",
    "            hidden_dims[1],\n",
    "            bias=should_use_bias)\n",
    "        self.out = nn.ModuleList(\n",
    "            [\n",
    "                nn.Linear(hidden_dims[-1], output_dim, bias=should_use_bias)\n",
    "                for _ in range(num_tasks)\n",
    "            ]\n",
    "        )\n",
    "        self.gate = self.make_gate()\n",
    "        self.loss_fn = make_cls(cfg=deepcopy(cfg.loss))\n",
    "\n",
    "    def make_gate(self):\n",
    "        # feel free to define a gate yourself\n",
    "        mode = cfg.gate.mode\n",
    "        if mode == \"fully_connected\":\n",
    "            gate = torch.ones(\n",
    "                *self.tasks.shape,\n",
    "                device=\"cpu\",\n",
    "                dtype=torch.float32)\n",
    "            return gate.unsqueeze(2)\n",
    "\n",
    "        input_output_map = self._get_input_output_map(mode=mode)\n",
    "        gate = torch.zeros(\n",
    "            *self.tasks.shape,\n",
    "            device=\"cpu\",\n",
    "            dtype=torch.float32)\n",
    "        for current_input, current_output in input_output_map:\n",
    "            gate[current_input][current_output] = 1.0\n",
    "        if mode.endswith(\"permute\"):\n",
    "            gate = gate[:, torch.randperm(gate.shape[1])]\n",
    "        # print(gate)\n",
    "        #print(gate.shape, gate.sum().item())\n",
    "        return gate.unsqueeze(2)\n",
    "\n",
    "    def _get_input_output_map(self, mode: str):\n",
    "        input_output_map = []\n",
    "        if \"_plus_mod\" in mode:\n",
    "            num_cols = int(mode.split(\"_plus_mod\")[0])\n",
    "            num_rows = self.tasks.shape[0]\n",
    "            for i in range(num_rows):\n",
    "                for j in range(num_cols):\n",
    "                    input_output_map.append((i, (i + j) % num_rows))\n",
    "        elif \"_plus_minus_mod\" in mode:\n",
    "            num_cols = int(mode.split(\"_plus_minus_mod\")[0])\n",
    "            num_rows = self.tasks.shape[0]\n",
    "            for i in range(num_rows):\n",
    "                for j in range(-1 * ((num_cols - 1) // 2),\n",
    "                               (num_cols // 2) + 1):\n",
    "                    input_output_map.append((i, (i + j + num_rows) % num_rows))\n",
    "        elif mode == \"mod\":\n",
    "            for i in range(min(cfg.gate.num_classes, self.tasks.shape[0])):\n",
    "                input_output_map.append((i, i))\n",
    "        else:\n",
    "            raise NotImplementedError(f\"mode = {mode} is not supported.\")\n",
    "        #print(f\"input_output_map: {input_output_map}\")\n",
    "        return input_output_map\n",
    "\n",
    "    def to(self, device, *args, **kwargs):\n",
    "        self.gate = self.gate.to(device)\n",
    "        return super().to(device, *args, **kwargs)\n",
    "\n",
    "    def forward(self, x, y):\n",
    "        features = [\n",
    "            encoder(x) for encoder in model.input\n",
    "        ]\n",
    "        hidden = [model.hidden(f) for f in features]\n",
    "        #outputs = [[d(h) for d in model.out] for h in hidden]\n",
    "\n",
    "        M = cfg.num_pathways\n",
    "        loss_tensor = torch.zeros(M, M)\n",
    "        for i, a in enumerate(hidden):\n",
    "            for j, b in enumerate(model.out):\n",
    "                if model.gate.squeeze()[i, j] == 1:\n",
    "                    loss_tensor[i, j] = model.loss_fn(b(a), y).mean()\n",
    "\n",
    "        loss = loss_tensor.sum()\n",
    "        return loss\n",
    "\n",
    "\n",
    "def run_one_input_per_module(x_list, module_list):\n",
    "    return torch.cat([module(x).unsqueeze(0)\n",
    "                      for x, module in zip(x_list, module_list)], dim=0)\n",
    "\n",
    "\n",
    "def run_one_domain_per_module(x_list, module_list):\n",
    "    return [module(x_list) for module in module_list]\n",
    "\n",
    "\n",
    "def init_weights(m):\n",
    "    if isinstance(m, nn.Linear):\n",
    "        torch.nn.init.orthogonal_(m.weight, gain=cfg.init_scale)\n",
    "        \n",
    "\n",
    "\n",
    "def make_cls(cfg, kwargs=None):\n",
    "    module, cls = cfg.pop(\"cls\").rsplit(\".\", 1)\n",
    "    if kwargs is None:\n",
    "        kwargs = {}\n",
    "    return getattr(import_module(module), cls)(**cfg, **kwargs)\n",
    "\n",
    "\n",
    "device = torch.device(\"cpu\")\n",
    "\n",
    "Nreps = 10\n",
    "\n",
    "losses = []\n",
    "input_svs = []\n",
    "hidden_svs = []\n",
    "out_svs = []\n",
    "\n",
    "for rep in range(Nreps):\n",
    "    model = GatedDLN(\n",
    "        num_tasks=cfg.num_pathways,\n",
    "        input_dim=cfg.input_dim,\n",
    "        hidden_dims=cfg.hidden_dims,\n",
    "        output_dim=cfg.output_dim,\n",
    "        case=cfg.case,\n",
    "        should_use_bias=cfg.should_use_bias,\n",
    "    ).to(device)\n",
    "\n",
    "\n",
    "    if not cfg.should_init_decoupled:\n",
    "        model.apply(init_weights)\n",
    "\n",
    "    else:\n",
    "    # Fully balanced, decoupled init\n",
    "\n",
    "        with torch.no_grad():\n",
    "\n",
    "            u,s,v = np.linalg.svd(Y.T)\n",
    "            Ninp = cfg.input_dim\n",
    "            Nh = cfg.hidden_dims[0]\n",
    "            Nout = cfg.output_dim\n",
    "            r2,_,r1 = np.linalg.svd(model.hidden.weight)\n",
    "            for m in model.input:\n",
    "                m.weight = torch.nn.Parameter(torch.tensor((r1.T)[:,0:Ninp] @ ( cfg.init_scale*np.eye(Ninp) ) @ v, dtype=torch.float))\n",
    "\n",
    "            #r3,_,r4 = np.linalg.svd(np.random.normal(0,1,model.hidden.weight.shape))\n",
    "            model.hidden.weight = torch.nn.Parameter(torch.tensor(r2 @ ( cfg.init_scale*np.eye(Nh) ) @ r1, dtype=torch.float))#torch.nn.Parameter(torch.tensor(r2 @ ( cfg.init_scale*np.eye(Nh) ) @ r1, dtype=torch.float))\n",
    "\n",
    "            for m in model.out:\n",
    "                m.weight = torch.nn.Parameter(torch.tensor(u @ ( cfg.init_scale*np.eye(Nout) ) @ (r2.T)[0:Nout,:], dtype=torch.float))\n",
    "\n",
    "\n",
    "    loss_fn = make_cls(cfg=deepcopy(cfg.loss))\n",
    "\n",
    "    optimizer = make_cls(\n",
    "        cfg=deepcopy(\n",
    "            cfg.optimizer), kwargs={\n",
    "                \"params\": model.parameters()})\n",
    "\n",
    "    loss_list = []\n",
    "\n",
    "    input_sv_list = []\n",
    "    hidden_sv_list = []\n",
    "    out_sv_list = []\n",
    "\n",
    "\n",
    "    for epoch in range(cfg.num_epochs):\n",
    "        optimizer.zero_grad()\n",
    "        loss = model(X, Y)\n",
    "        loss_list.append(loss.detach().cpu())\n",
    "\n",
    "        if epoch%2==0:\n",
    "            ui,si,vi = np.linalg.svd(model.input[0].weight.detach().numpy())\n",
    "            input_sv_list.append(si)\n",
    "\n",
    "            uh,sh,vh = np.linalg.svd(model.hidden.weight.detach().numpy())\n",
    "            hidden_sv_list.append(sh[0:10])\n",
    "\n",
    "            uo,so,vo = np.linalg.svd(model.out[0].weight.detach().numpy())\n",
    "            out_sv_list.append(so[0:7])\n",
    "\n",
    "\n",
    "        loss.backward()\n",
    "        optimizer.step()\n",
    "\n",
    "\n",
    "    plt.plot(loss_list, label=\"loss\")\n",
    "    plt.xlabel(\"number of updates\")\n",
    "    plt.ylabel(\"loss\")\n",
    "    plt.legend()\n",
    "\n",
    "    losses.append(np.vstack(loss_list))\n",
    "    input_svs.append(np.vstack(input_sv_list))\n",
    "    hidden_svs.append(np.vstack(hidden_sv_list))\n",
    "    out_svs.append(np.vstack(out_sv_list))\n"
   ]
  },
  {
   "cell_type": "code",
   "execution_count": null,
   "metadata": {},
   "outputs": [
    {
     "data": {
      "image/png": "[encoded data removed]",
      "text/plain": [
       "<Figure size 432x288 with 1 Axes>"
      ]
     },
     "metadata": {
      "image/png": {
       "height": 282,
       "width": 418
      },
      "needs_background": "light"
     },
     "output_type": "display_data"
    },
    {
     "ename": "",
     "evalue": "",
     "output_type": "error",
     "traceback": [
      "\u001b[1;31mRunning cells with 'Python 3.8.9 64-bit' requires ipykernel package.\n",
      "Run the following command to install 'ipykernel' into the Python environment. \n",
      "Command: '/usr/bin/python3 -m pip install ipykernel -U --user --force-reinstall'"
     ]
    }
   ],
   "source": [
    "cfg.should_init_decoupled=True\n",
    "cfg.init_scale = .2/2.5\n",
    "\n",
    "Nreps_decoup = 1\n",
    "\n",
    "losses_decoup = []\n",
    "input_svs_decoup = []\n",
    "hidden_svs_decoup = []\n",
    "out_svs_decoup = []\n",
    "\n",
    "for rep in range(Nreps_decoup):\n",
    "    model = GatedDLN(\n",
    "        num_tasks=cfg.num_pathways,\n",
    "        input_dim=cfg.input_dim,\n",
    "        hidden_dims=cfg.hidden_dims,\n",
    "        output_dim=cfg.output_dim,\n",
    "        case=cfg.case,\n",
    "        should_use_bias=cfg.should_use_bias,\n",
    "    ).to(device)\n",
    "\n",
    "\n",
    "    if not cfg.should_init_decoupled:\n",
    "        model.apply(init_weights)\n",
    "\n",
    "    else:\n",
    "    # Fully balanced, decoupled init\n",
    "\n",
    "        with torch.no_grad():\n",
    "\n",
    "            u,s,v = np.linalg.svd(Y.T)\n",
    "            Ninp = cfg.input_dim\n",
    "            Nh = cfg.hidden_dims[0]\n",
    "            Nout = cfg.output_dim\n",
    "            r2,_,r1 = np.linalg.svd(model.hidden.weight)\n",
    "            for m in model.input:\n",
    "                m.weight = torch.nn.Parameter(torch.tensor((r1.T)[:,0:Ninp] @ ( cfg.init_scale*np.eye(Ninp) ) @ v, dtype=torch.float))\n",
    "\n",
    "            #r3,_,r4 = np.linalg.svd(np.random.normal(0,1,model.hidden.weight.shape))\n",
    "            model.hidden.weight = torch.nn.Parameter(torch.tensor(r2 @ ( cfg.init_scale*np.eye(Nh) ) @ r1, dtype=torch.float))#torch.nn.Parameter(torch.tensor(r2 @ ( cfg.init_scale*np.eye(Nh) ) @ r1, dtype=torch.float))\n",
    "\n",
    "            for m in model.out:\n",
    "                m.weight = torch.nn.Parameter(torch.tensor(u @ ( cfg.init_scale*np.eye(Nout) ) @ (r2.T)[0:Nout,:], dtype=torch.float))\n",
    "\n",
    "\n",
    "    loss_fn = make_cls(cfg=deepcopy(cfg.loss))\n",
    "\n",
    "    optimizer = make_cls(\n",
    "        cfg=deepcopy(\n",
    "            cfg.optimizer), kwargs={\n",
    "                \"params\": model.parameters()})\n",
    "\n",
    "    loss_list = []\n",
    "\n",
    "    input_sv_list = []\n",
    "    hidden_sv_list = []\n",
    "    out_sv_list = []\n",
    "\n",
    "\n",
    "    for epoch in range(cfg.num_epochs):\n",
    "        optimizer.zero_grad()\n",
    "        loss = model(X, Y)\n",
    "        loss_list.append(loss.detach().cpu())\n",
    "\n",
    "        if epoch%2==0:\n",
    "            ui,si,vi = np.linalg.svd(model.input[0].weight.detach().numpy())\n",
    "            input_sv_list.append(si)\n",
    "\n",
    "            uh,sh,vh = np.linalg.svd(model.hidden.weight.detach().numpy())\n",
    "            hidden_sv_list.append(sh[0:10])\n",
    "\n",
    "            uo,so,vo = np.linalg.svd(model.out[0].weight.detach().numpy())\n",
    "            out_sv_list.append(so[0:7])\n",
    "\n",
    "\n",
    "        loss.backward()\n",
    "        optimizer.step()\n",
    "\n",
    "\n",
    "    plt.plot(loss_list, label=\"loss\")\n",
    "    plt.xlabel(\"number of updates\")\n",
    "    plt.ylabel(\"loss\")\n",
    "    plt.legend()\n",
    "\n",
    "    losses_decoup.append(np.vstack(loss_list))\n",
    "    input_svs_decoup.append(np.vstack(input_sv_list))\n",
    "    hidden_svs_decoup.append(np.vstack(hidden_sv_list))\n",
    "    out_svs_decoup.append(np.vstack(out_sv_list))"
   ]
  },
  {
   "cell_type": "code",
   "execution_count": null,
   "metadata": {},
   "outputs": [
    {
     "data": {
      "text/plain": [
       "4"
      ]
     },
     "execution_count": 165,
     "metadata": {},
     "output_type": "execute_result"
    },
    {
     "ename": "",
     "evalue": "",
     "output_type": "error",
     "traceback": [
      "\u001b[1;31mRunning cells with 'Python 3.8.9 64-bit' requires ipykernel package.\n",
      "Run the following command to install 'ipykernel' into the Python environment. \n",
      "Command: '/usr/bin/python3 -m pip install ipykernel -U --user --force-reinstall'"
     ]
    }
   ],
   "source": [
    "cfg.num_trained_pathways"
   ]
  },
  {
   "cell_type": "code",
   "execution_count": null,
   "metadata": {},
   "outputs": [
    {
     "ename": "",
     "evalue": "",
     "output_type": "error",
     "traceback": [
      "\u001b[1;31mRunning cells with 'Python 3.8.9 64-bit' requires ipykernel package.\n",
      "Run the following command to install 'ipykernel' into the Python environment. \n",
      "Command: '/usr/bin/python3 -m pip install ipykernel -U --user --force-reinstall'"
     ]
    }
   ],
   "source": [
    "# Theory ODE\n",
    "\n",
    "u,s,v = np.linalg.svd(np.dot(Y.T,X))\n",
    "# Code currently assumes input corrs are white\n",
    "\n",
    "K = cfg.num_trained_pathways\n",
    "M =  cfg.num_pathways\n",
    "\n",
    "b0 = cfg.init_scale\n",
    "dt = cfg.optimizer.lr*3.5/10\n",
    "\n",
    "\n",
    "\n",
    "\n",
    "Nsv = s.shape[0]\n",
    "\n",
    "num_epochs = cfg.num_epochs*10\n",
    "b1 = b0*np.ones((num_epochs,Nsv))\n",
    "b2 = b0*np.ones((num_epochs,Nsv))\n",
    "b3 = b0*np.ones((num_epochs,Nsv))\n",
    "\n",
    "c0 = M*b0**2-b0**2\n",
    "\n",
    "theta0 = 2*np.arcsinh(b0/np.sqrt(c0))\n",
    "theta = theta0*np.ones((num_epochs,Nsv))\n",
    "theta2 = theta0*np.ones((num_epochs,Nsv))\n",
    "\n",
    "b1t = np.ones((num_epochs,Nsv))\n",
    "b2t = np.ones((num_epochs,Nsv))\n",
    "\n",
    "b2s = b0*np.ones((num_epochs,Nsv))\n",
    "\n",
    "for epoch in range(num_epochs-1):\n",
    "    \n",
    "    shat = b3[epoch,:]*b2[epoch,:]*b1[epoch,:]\n",
    "    b1[epoch+1,:] = b1[epoch,:] + K/M**2*b3[epoch,:]*b2[epoch,:]*(s - shat)*dt\n",
    "    b2[epoch+1,:] = b2[epoch,:] + K/M*b3[epoch,:]*b1[epoch,:]*(s - shat)*dt\n",
    "    b3[epoch+1,:] = b3[epoch,:] + K/M**2*b2[epoch,:]*b1[epoch,:]*(s - shat)*dt\n",
    "    theta2[epoch+1,:] = 2*np.arcsinh(b2[epoch+1,:]/np.sqrt(c0))\n",
    "    \n",
    "    theta[epoch+1,:] = theta[epoch,:] + 2*np.sqrt(c0)* K/M**2*np.cosh(theta[epoch,:]/2)*(s - c0**(3/2)/M*np.sinh(theta[epoch,:]/2)*(np.sinh(theta[epoch,:]/2)**2 - 1))*dt #2*K/M**2*np.sqrt(c0)*(np.sinh(theta[epoch,:]/2)**2 - 1)/np.cosh(theta[epoch,:]/2)*(s - c0**(3/2)/M*np.sinh(theta[epoch,:]/2)*(np.sinh(theta[epoch,:]/2)**2 -1))*dt\n",
    "   \n",
    "    b2t[epoch+1,:] = np.sqrt(c0)*np.sinh(theta[epoch+1,:]/2)\n",
    "    b1t[epoch+1,:] = np.sqrt(b2t[epoch+1,:]**2/M+c0/M)\n",
    "    \n",
    "    b2s[epoch+1,:] = b2s[epoch,:] + K/M**2*(b2s[epoch,:]**2 + c0)*(s - 1/M*b2s[epoch,:]*(b2s[epoch,:]**2+c0))*dt"
   ]
  },
  {
   "cell_type": "code",
   "execution_count": null,
   "metadata": {},
   "outputs": [
    {
     "name": "stderr",
     "output_type": "stream",
     "text": [
      "<ipython-input-149-90854315bb11>:1: IntegrationWarning: The maximum number of subdivisions (50) has been achieved.\n",
      "  If increasing the limit yields no improvement it is advised to analyze \n",
      "  the integrand in order to determine the difficulties.  If the position of a \n",
      "  local difficulty can be determined (singularity, discontinuity) one will \n",
      "  probably gain from splitting up the interval and calling the integrator \n",
      "  on the subranges.  Perhaps a special-purpose integrator should be used.\n",
      "  integrate.quad(lambda x: M**2/K/( (x**2 + c0)*(s[0]-1/M*x*(x**2+c0)) ),0,13)[0]\n"
     ]
    },
    {
     "data": {
      "text/plain": [
       "2.7667112182426803"
      ]
     },
     "execution_count": 149,
     "metadata": {},
     "output_type": "execute_result"
    },
    {
     "ename": "",
     "evalue": "",
     "output_type": "error",
     "traceback": [
      "\u001b[1;31mRunning cells with 'Python 3.8.9 64-bit' requires ipykernel package.\n",
      "Run the following command to install 'ipykernel' into the Python environment. \n",
      "Command: '/usr/bin/python3 -m pip install ipykernel -U --user --force-reinstall'"
     ]
    }
   ],
   "source": [
    "integrate.quad(lambda x: M**2/K/( (x**2 + c0)*(s[0]-1/M*x*(x**2+c0)) ),0,13)[0]"
   ]
  },
  {
   "cell_type": "code",
   "execution_count": null,
   "metadata": {},
   "outputs": [
    {
     "name": "stderr",
     "output_type": "stream",
     "text": [
      "<ipython-input-198-d8ad6074d66e>:11: IntegrationWarning: Extremely bad integrand behavior occurs at some points of the\n",
      "  integration interval.\n",
      "  ts[:,sv] = np.squeeze(np.vstack([integrate.quad(lambda x: M**2/K/( (x**2 + c0)*(s[sv]-1/M*x*(x**2+c0)) ),b0,l)[0]/dt for l in b2i[:,sv]]))\n",
      "<ipython-input-198-d8ad6074d66e>:13: IntegrationWarning: Extremely bad integrand behavior occurs at some points of the\n",
      "  integration interval.\n",
      "  ts2[:,sv] = np.squeeze(np.vstack([integrate.quad(lambda x: M**2/K/( (x**2)*(s[sv]-1/M*x*(x**2)) ),b02,l)[0]/dt for l in b2i2[:,sv]]))\n"
     ]
    },
    {
     "data": {
      "text/plain": [
       "(0.0, 8000.0)"
      ]
     },
     "execution_count": 198,
     "metadata": {},
     "output_type": "execute_result"
    },
    {
     "data": {
      "image/png": "[encoded data removed]",
      "text/plain": [
       "<Figure size 432x288 with 1 Axes>"
      ]
     },
     "metadata": {
      "image/png": {
       "height": 258,
       "width": 394
      },
      "needs_background": "light"
     },
     "output_type": "display_data"
    },
    {
     "ename": "",
     "evalue": "",
     "output_type": "error",
     "traceback": [
      "\u001b[1;31mRunning cells with 'Python 3.8.9 64-bit' requires ipykernel package.\n",
      "Run the following command to install 'ipykernel' into the Python environment. \n",
      "Command: '/usr/bin/python3 -m pip install ipykernel -U --user --force-reinstall'"
     ]
    }
   ],
   "source": [
    "import scipy.integrate as integrate\n",
    "\n",
    "b02 = .4\n",
    "Npts = 500\n",
    "b2i = np.zeros((Npts,4))\n",
    "ts = np.zeros((Npts,4))\n",
    "ts2 = np.zeros((Npts,4))\n",
    "b2i2 = np.zeros((Npts,4))\n",
    "for sv in range(4):\n",
    "    b2i[:,sv] = np.linspace(b0,b2s[-1,sv],Npts)\n",
    "    ts[:,sv] = np.squeeze(np.vstack([integrate.quad(lambda x: M**2/K/( (x**2 + c0)*(s[sv]-1/M*x*(x**2+c0)) ),b0,l)[0]/dt for l in b2i[:,sv]]))\n",
    "    b2i2[:,sv] = np.linspace(b02,(M*s[sv])**(1/3),Npts)\n",
    "    ts2[:,sv] = np.squeeze(np.vstack([integrate.quad(lambda x: M**2/K/( (x**2)*(s[sv]-1/M*x*(x**2)) ),b02,l)[0]/dt for l in b2i2[:,sv]]))\n",
    "\n",
    "\n",
    "\n",
    "\n",
    "plt.plot(b2,color='b')\n",
    "plt.plot(b2s,color='r')\n",
    "plt.plot(ts,b2i,color='g')\n",
    "plt.plot(ts2,b2i2,color='m')\n",
    "plt.xlim((0,8000))"
   ]
  },
  {
   "cell_type": "code",
   "execution_count": null,
   "metadata": {},
   "outputs": [
    {
     "data": {
      "text/plain": [
       "(500,)"
      ]
     },
     "execution_count": 195,
     "metadata": {},
     "output_type": "execute_result"
    },
    {
     "ename": "",
     "evalue": "",
     "output_type": "error",
     "traceback": [
      "\u001b[1;31mRunning cells with 'Python 3.8.9 64-bit' requires ipykernel package.\n",
      "Run the following command to install 'ipykernel' into the Python environment. \n",
      "Command: '/usr/bin/python3 -m pip install ipykernel -U --user --force-reinstall'"
     ]
    }
   ],
   "source": [
    "b2i2.shape"
   ]
  },
  {
   "cell_type": "code",
   "execution_count": null,
   "metadata": {},
   "outputs": [
    {
     "data": {
      "text/plain": [
       "[(0.0, 0.0),\n",
       " (0.002626861022010226, 2.916401589126123e-17),\n",
       " (0.005253715952890333, 5.832796415739342e-17),\n",
       " (0.007880554066638162, 8.749172571585097e-17),\n",
       " (0.010507364637777112, 1.1665518148992318e-16),\n",
       " (0.013134136941618893, 1.458182124116513e-16),\n",
       " (0.015760860254526218, 1.749806994247451e-16),\n",
       " (0.01838752385417543, 2.0414252348749863e-16),\n",
       " (0.02101411701981904, 2.333035655757048e-16),\n",
       " (0.023640629032548214, 2.6246370668556965e-16),\n",
       " (0.026267049175555078, 2.916228278366248e-16),\n",
       " (0.02889336673439493, 3.2078081007463823e-16),\n",
       " (0.031519570997248364, 3.499375344745244e-16),\n",
       " (0.03414565125518306, 3.790928821432511e-16),\n",
       " (0.03677159680241566, 4.0824673422274647e-16),\n",
       " (0.039397396936573174, 4.3739897189280144e-16),\n",
       " (0.04202304095895439, 4.665494763739718e-16),\n",
       " (0.04464851817479096, 4.956981289304769e-16),\n",
       " (0.047273817893508215, 5.248448108730954e-16),\n",
       " (0.049898929428985855, 5.539894035620591e-16),\n",
       " (0.05252384209981824, 5.831317884099434e-16),\n",
       " (0.05514854522957441, 6.122718468845535e-16),\n",
       " (0.057773028147057884, 6.414094605118091e-16),\n",
       " (0.06039728018656604, 6.705445108786238e-16),\n",
       " (0.06302129068814921, 6.996768796357823e-16),\n",
       " (0.06564504899786948, 7.288064485008125e-16),\n",
       " (0.06826854446805897, 7.579330992608542e-16),\n",
       " (0.07089176645757785, 7.870567137755229e-16),\n",
       " (0.07351470433207195, 8.161771739797702e-16),\n",
       " (0.07613734746423002, 8.452943618867395e-16),\n",
       " (0.07875968523404024, 8.744081595906144e-16),\n",
       " (0.08138170702904682, 9.035184492694673e-16),\n",
       " (0.0840034022446056, 9.32625113188097e-16),\n",
       " (0.08662476028413962, 9.617280337008663e-16),\n",
       " (0.08924577055939387, 9.908270932545302e-16),\n",
       " (0.09186642249068966, 1.0199221743910597e-15),\n",
       " (0.0944867055071786, 1.0490131597504625e-15),\n",
       " (0.09710660904709578, 1.0780999320735926e-15),\n",
       " (0.09972612255801268, 1.107182374204959e-15),\n",
       " (0.10234523549708925, 1.1362603690955236e-15),\n",
       " (0.10496393733132557, 1.1653337998054965e-15),\n",
       " (0.10758221753781298, 1.1944025495071228e-15),\n",
       " (0.11020006560398429, 1.2234665014874611e-15),\n",
       " (0.11281747102786388, 1.2525255391511601e-15),\n",
       " (0.11543442331831648, 1.2815795460232201e-15),\n",
       " (0.11805091199529603, 1.3106284057517573e-15),\n",
       " (0.1206669265900933, 1.3396720021107511e-15),\n",
       " (0.1232824566455831, 1.36871021900279e-15),\n",
       " (0.12589749171647077, 1.3977429404618076e-15),\n",
       " (0.12851202136953785, 1.4267700506558105e-15),\n",
       " (0.13112603518388719, 1.4557914338895993e-15),\n",
       " (0.13373952275118714, 1.4848069746074793e-15),\n",
       " (0.1363524736759151, 1.513816557395965e-15),\n",
       " (0.13896487757560047, 1.5428200669864775e-15),\n",
       " (0.14157672408106622, 1.5718173882580258e-15),\n",
       " (0.14418800283667044, 1.600808406239889e-15),\n",
       " (0.1467987035005465, 1.6297930061142828e-15),\n",
       " (0.14940881574484283, 1.6587710732190212e-15),\n",
       " (0.1520183292559614, 1.6877424930501639e-15),\n",
       " (0.15462723373479573, 1.7167071512646596e-15),\n",
       " (0.15723551889696774, 1.7456649336829748e-15),\n",
       " (0.15984317447306415, 1.774615726291719e-15),\n",
       " (0.16245019020887141, 1.803559415246252e-15),\n",
       " (0.16505655586561024, 1.832495886873289e-15),\n",
       " (0.16766226122016908, 1.8614250276734923e-15),\n",
       " (0.17026729606533644, 1.8903467243240486e-15),\n",
       " (0.17287165021003248, 1.9192608636812433e-15),\n",
       " (0.17547531347953985, 1.9481673327830223e-15),\n",
       " (0.1780782757157329, 1.9770660188515356e-15),\n",
       " (0.1806805267773068, 2.0059568092956815e-15),\n",
       " (0.18328205654000496, 2.0348395917136325e-15),\n",
       " (0.18588285489684547, 2.0637142538953488e-15),\n",
       " (0.18848291175834747, 2.09258068382509e-15),\n",
       " (0.19108221705275508, 2.121438769683904e-15),\n",
       " (0.1936807607262612, 2.1502883998521095e-15),\n",
       " (0.1962785327432303, 2.1791294629117697e-15),\n",
       " (0.19887552308641954, 2.2079618476491485e-15),\n",
       " (0.2014717217571994, 2.236785443057159e-15),\n",
       " (0.20406711877577297, 2.2656001383377974e-15),\n",
       " (0.20666170418139412, 2.2944058229045674e-15),\n",
       " (0.20925546803258468, 2.3232023863848894e-15),\n",
       " (0.21184840040735045, 2.351989718622499e-15),\n",
       " (0.21444049140339588, 2.3807677096798304e-15),\n",
       " (0.2170317311383382, 2.409536249840396e-15),\n",
       " (0.21962210974991975, 2.43829522961114e-15),\n",
       " (0.22221161739621922, 2.4670445397247857e-15),\n",
       " (0.22480024425586237, 2.495784071142175e-15),\n",
       " (0.22738798052823062, 2.524513715054584e-15),\n",
       " (0.2299748164336694, 2.553233362886036e-15),\n",
       " (0.23256074221369452, 2.5819429062955926e-15),\n",
       " (0.23514574813119746, 2.610642237179633e-15),\n",
       " (0.23772982447065028, 2.639331247674129e-15),\n",
       " (0.2403129615383079, 2.6680098301568908e-15),\n",
       " (0.2428951496624103, 2.6966778772498122e-15),\n",
       " (0.2454763791933829, 2.725335281821094e-15),\n",
       " (0.24805664050403595, 2.7539819369874592e-15),\n",
       " (0.2506359239897623, 2.7826177361163473e-15),\n",
       " (0.2532142200687344, 2.8112425728281033e-15),\n",
       " (0.2557915191820994, 2.8398563409981416e-15),\n",
       " (0.2583678117941737, 2.868458934759107e-15),\n",
       " (0.26094308839263514, 2.8970502485030094e-15),\n",
       " (0.2635173394887155, 2.925630176883359e-15),\n",
       " (0.2660905556173896, 2.954198614817267e-15),\n",
       " (0.26866272733756497, 2.982755457487551e-15),\n",
       " (0.271233845232269, 3.011300600344813e-15),\n",
       " (0.2738038999088352, 3.0398339391095062e-15),\n",
       " (0.2763728819990882, 3.068355369773992e-15),\n",
       " (0.27894078215952683, 3.0968647886045677e-15),\n",
       " (0.2815075910715067, 3.1253620921434988e-15),\n",
       " (0.2840732994414206, 3.153847177211018e-15),\n",
       " (0.28663789800087786, 3.182319940907317e-15),\n",
       " (0.28920137750688246, 3.210780280614528e-15),\n",
       " (0.29176372874200956, 3.239228093998676e-15),\n",
       " (0.29432494251458036, 3.2676632790116272e-15),\n",
       " (0.2968850096588363, 3.2960857338930205e-15),\n",
       " (0.29944392103511114, 3.324495357172176e-15),\n",
       " (0.3020016675300017, 3.352892047669994e-15),\n",
       " (0.3045582400565376, 3.3812757045008368e-15),\n",
       " (0.30711362955434923, 3.4096462270743945e-15),\n",
       " (0.3096678269898342, 3.438003515097534e-15),\n",
       " (0.3122208233563226, 3.466347468576132e-15),\n",
       " (0.31477260967424076, 3.494677987816894e-15),\n",
       " (0.3173231769912731, 3.522994973429151e-15),\n",
       " (0.31987251638252334, 3.55129832632665e-15),\n",
       " (0.3224206189506738, 3.579587947729321e-15),\n",
       " (0.32496747582614255, 3.607863739165024e-15),\n",
       " (0.3275130781672406, 3.636125602471292e-15),\n",
       " (0.3300574171603262, 3.6643734397970444e-15),\n",
       " (0.3326004840199582, 3.69260715360429e-15),\n",
       " (0.3351422699890484, 3.720826646669821e-15),\n",
       " (0.3376827663390112, 3.74903182208687e-15),\n",
       " (0.340221964369913, 3.777222583266771e-15),\n",
       " (0.3427598554106192, 3.80539883394059e-15),\n",
       " (0.34529643081894046, 3.833560478160752e-15),\n",
       " (0.34783168198177655, 3.861707420302635e-15),\n",
       " (0.35036560031525926, 3.889839565066158e-15),\n",
       " (0.35289817726489386, 3.9179568174773515e-15),\n",
       " (0.3554294043056986, 3.946059082889903e-15),\n",
       " (0.35795927294234337, 3.974146266986704e-15),\n",
       " (0.3604877747092854, 4.002218275781349e-15),\n",
       " (0.36301490117090596, 4.030275015619655e-15),\n",
       " (0.3655406439216422, 4.05831639318113e-15),\n",
       " (0.3680649945861204, 4.086342315480444e-15),\n",
       " (0.3705879448192862, 4.1143526898688856e-15),\n",
       " (0.3731094863065335, 4.1423474240357805e-15),\n",
       " (0.3756296107638315, 4.170326426009912e-15),\n",
       " (0.3781483099378516, 4.198289604160927e-15),\n",
       " (0.3806655756060902, 4.226236867200697e-15),\n",
       " (0.38318139957699265, 4.254168124184695e-15),\n",
       " (0.3856957736900744, 4.282083284513343e-15),\n",
       " (0.38820868981603956, 4.309982257933327e-15),\n",
       " (0.39072013985690013, 4.3378649545389184e-15),\n",
       " (0.39323011574609185, 4.365731284773265e-15),\n",
       " (0.3957386094485895, 4.393581159429666e-15),\n",
       " (0.39824561296101973, 4.421414489652828e-15),\n",
       " (0.40075111831177346, 4.449231186940111e-15),\n",
       " (0.4032551175611157, 4.47703116314275e-15),\n",
       " (0.40575760280129447, 4.50481433046706e-15),\n",
       " (0.40825856615664763, 4.532580601475629e-15),\n",
       " (0.4107579997837087, 4.560329889088484e-15),\n",
       " (0.4132558958713106, 4.588062106584252e-15),\n",
       " (0.41575224664068783, 4.615777167601285e-15),\n",
       " (0.41824704434557763, 4.643474986138792e-15),\n",
       " (0.42074028127231916, 4.671155476557933e-15),\n",
       " (0.4232319497399509, 4.698818553582905e-15),\n",
       " (0.4257220421003072, 4.726464132302013e-15),\n",
       " (0.42821055073811215, 4.7540921281687094e-15),\n",
       " (0.43069746807107323, 4.781702457002637e-15),\n",
       " (0.4331827865499719, 4.8092950349906334e-15),\n",
       " (0.43566649865875423, 4.836869778687739e-15),\n",
       " (0.43814859691461866, 4.864426605018165e-15),\n",
       " (0.44062907386810246, 4.891965431276262e-15),\n",
       " (0.44310792210316774, 4.919486175127472e-15),\n",
       " (0.44558513423728346, 4.946988754609233e-15),\n",
       " (0.4480607029215093, 4.9744730881319174e-15),\n",
       " (0.45053462084057444, 5.001939094479706e-15),\n",
       " (0.45300688071295736, 5.02938669281147e-15),\n",
       " (0.4554774752909628, 5.056815802661627e-15),\n",
       " (0.4579463973607972, 5.08422634394098e-15),\n",
       " (0.4604136397426437, 5.111618236937551e-15),\n",
       " (0.46287919529073396, 5.138991402317372e-15),\n",
       " (0.4653430568934196, 5.1663457611252864e-15),\n",
       " (0.467805217473242, 5.193681234785719e-15),\n",
       " (0.4702656699869994, 5.220997745103422e-15),\n",
       " (0.4727244074258142, 5.248295214264222e-15),\n",
       " (0.47518142281519776, 5.2755735648357426e-15),\n",
       " (0.477636709215113, 5.302832719768091e-15),\n",
       " (0.4800902597200371, 5.330072602394566e-15),\n",
       " (0.48254206745902173, 5.357293136432314e-15),\n",
       " (0.48499212559575106, 5.3844942459829855e-15),\n",
       " (0.4874404273285994, 5.411675855533364e-15),\n",
       " (0.4898869658906874, 5.438837889955999e-15),\n",
       " (0.49233173454993584, 5.4659802745097944e-15),\n",
       " (0.49477472660911764, 5.493102934840595e-15),\n",
       " (0.49721593540591025, 5.520205796981761e-15),\n",
       " (0.49965535431294456, 5.5472887873547156e-15),\n",
       " (0.502092976737853, 5.574351832769475e-15),\n",
       " (0.5045287961233166, 5.601394860425175e-15),\n",
       " (0.5069628059471097, 5.628417797910565e-15),\n",
       " (0.509394999722144, 5.655420573204495e-15),\n",
       " (0.5118253709965103, 5.682403114676385e-15),\n",
       " (0.5142539133535196, 5.709365351086676e-15),\n",
       " (0.5166806204117419, 5.736307211587265e-15),\n",
       " (0.5191054858250446, 5.763228625721923e-15),\n",
       " (0.5215285032826275, 5.790129523426695e-15),\n",
       " (0.523949666509059, 5.8170098350302965e-15),\n",
       " (0.5263689692643085, 5.8438694912544665e-15),\n",
       " (0.5287864053437784, 5.8707084232143374e-15),\n",
       " (0.5312019685783349, 5.8975265624187635e-15),\n",
       " (0.5336156528343368, 5.9243238407706486e-15),\n",
       " (0.5360274520136625, 5.951100190567244e-15),\n",
       " (0.5384373600537369, 5.977855544500442e-15),\n",
       " (0.5408453709275555, 6.004589835657053e-15),\n",
       " (0.5432514786437073, 6.031302997519053e-15),\n",
       " (0.5456556772463982, 6.057994963963844e-15),\n",
       " (0.5480579608154692, 6.084665669264458e-15),\n",
       " (0.5504583234664171, 6.111315048089784e-15),\n",
       " (0.5528567593504112, 6.137943035504759e-15),\n",
       " (0.5552532626543094, 6.164549566970539e-15),\n",
       " (0.5576478276006738, 6.191134578344679e-15),\n",
       " (0.5600404484477832, 6.217698005881269e-15),\n",
       " (0.5624311194896457, 6.244239786231073e-15),\n",
       " (0.5648198350560089, 6.270759856441642e-15),\n",
       " (0.5672065895123696, 6.297258153957425e-15),\n",
       " (0.5695913772599813, 6.323734616619851e-15),\n",
       " (0.571974192735861, 6.350189182667399e-15),\n",
       " (0.5743550304127946, 6.376621790735665e-15),\n",
       " (0.57673388479934, 6.403032379857398e-15),\n",
       " (0.5791107504398303, 6.429420889462526e-15),\n",
       " (0.5814856219143753, 6.455787259378179e-15),\n",
       " (0.5838584938388602, 6.4821314298286776e-15),\n",
       " (0.5862293608649454, 6.50845334143552e-15),\n",
       " (0.5885982176800625, 6.534752935217353e-15),\n",
       " (0.5909650590074114, 6.5610301525899234e-15),\n",
       " (0.5933298796059543, 6.587284935366026e-15),\n",
       " (0.5956926742704092, 6.613517225755419e-15),\n",
       " (0.5980534378312415, 6.63972696636474e-15),\n",
       " (0.6004121651546562, 6.665914100197414e-15),\n",
       " (0.6027688511425854, 6.692078570653519e-15),\n",
       " (0.6051234907326783, 6.7182203215296704e-15),\n",
       " (0.6074760788982871, 6.744339297018866e-15),\n",
       " (0.6098266106484534, 6.770435441710337e-15),\n",
       " (0.6121750810278924, 6.79650870058937e-15),\n",
       " (0.6145214851169761, 6.822559019037124e-15),\n",
       " (0.6168658180317157, 6.848586342830428e-15),\n",
       " (0.6192080749237421, 6.874590618141575e-15),\n",
       " (0.6215482509802859, 6.900571791538089e-15),\n",
       " (0.6238863414241554, 6.92652980998249e-15),\n",
       " (0.6262223415137139, 6.952464620832032e-15),\n",
       " (0.6285562465428562, 6.978376171838455e-15),\n",
       " (0.6308880518409827, 7.0042644111476845e-15),\n",
       " (0.6332177527729742, 7.03012928729956e-15),\n",
       " (0.635545344739163, 7.055970749227514e-15),\n",
       " (0.6378708231753053, 7.081788746258259e-15),\n",
       " (0.6401941835525514, 7.107583228111463e-15),\n",
       " (0.6425154213774141, 7.133354144899396e-15),\n",
       " (0.6448345321917373, 7.159101447126584e-15),\n",
       " (0.6471515115726622, 7.18482508568943e-15),\n",
       " (0.6494663551325941, 7.210525011875847e-15),\n",
       " (0.6517790585191653, 7.236201177364847e-15),\n",
       " (0.6540896174152004, 7.261853534226153e-15),\n",
       " (0.6563980275386776, 7.287482034919774e-15),\n",
       " (0.65870428464269, 7.313086632295573e-15),\n",
       " (0.6610083845154064, 7.33866727959283e-15),\n",
       " (0.6633103229800301, 7.364223930439785e-15),\n",
       " (0.6656100958947568, 7.389756538853175e-15),\n",
       " (0.6679076991527323, 7.415265059237756e-15),\n",
       " (0.6702031286820082, 7.440749446385821e-15),\n",
       " (0.6724963804454959, 7.466209655476684e-15),\n",
       " (0.674787450440923, 7.491645642076195e-15),\n",
       " (0.6770763347007837, 7.517057362136188e-15),\n",
       " (0.6793630292922915, 7.542444771993968e-15),\n",
       " (0.6816475303173312, 7.567807828371755e-15),\n",
       " (0.6839298339124069, 7.593146488376134e-15),\n",
       " (0.6862099362485927, 7.618460709497484e-15),\n",
       " (0.68848783353148, 7.643750449609411e-15),\n",
       " (0.6907635220011238, 7.669015666968135e-15),\n",
       " (0.6930369979319894, 7.694256320211915e-15),\n",
       " (0.6953082576328982, 7.719472368360437e-15),\n",
       " (0.6975772974469701, 7.744663770814175e-15),\n",
       " (0.6998441137515681, 7.76983048735378e-15),\n",
       " (0.7021087029582398, 7.794972478139426e-15),\n",
       " (0.7043710615126598, 7.820089703710173e-15),\n",
       " (0.7066311858945685, 7.845182124983292e-15),\n",
       " (0.7088890726177131, 7.870249703253597e-15),\n",
       " (0.7111447182297849, 7.895292400192765e-15),\n",
       " (0.7133981193123586, 7.92031017784865e-15),\n",
       " (0.7156492724808283, 7.945302998644581e-15),\n",
       " (0.7178981743843436, 7.97027082537864e-15),\n",
       " (0.7201448217057442, 7.995213621222955e-15),\n",
       " (0.7223892111614955, 8.020131349722963e-15),\n",
       " (0.7246313395016208, 8.045023974796682e-15),\n",
       " (0.7268712035096354, 8.069891460733951e-15),\n",
       " (0.7291088000024764, 8.094733772195676e-15),\n",
       " (0.7313441258304354, 8.119550874213071e-15),\n",
       " (0.7335771778770875, 8.144342732186866e-15),\n",
       " (0.7358079530592226, 8.169109311886554e-15),\n",
       " (0.7380364483267711, 8.193850579449558e-15),\n",
       " (0.7402626606627337, 8.21856650138046e-15),\n",
       " (0.742486587083109, 8.24325704455019e-15),\n",
       " (0.744708224636817, 8.267922176195175e-15),\n",
       " (0.7469275704056283, 8.292561863916562e-15),\n",
       " (0.7491446215040855, 8.317176075679338e-15),\n",
       " (0.7513593750794293, 8.341764779811514e-15),\n",
       " (0.7535718283115211, 8.366327945003262e-15),\n",
       " (0.7557819784127658, 8.390865540306057e-15),\n",
       " (0.7579898226280335, 8.415377535131813e-15),\n",
       " (0.7601953582345806, 8.439863899252004e-15),\n",
       " (0.7623985825419706, 8.464324602796787e-15),\n",
       " (0.7645994928919932, 8.488759616254097e-15),\n",
       " (0.766798086658584, 8.513168910468759e-15),\n",
       " (0.7689943612477431, 8.537552456641596e-15),\n",
       " (0.7711883140974519, 8.561910226328484e-15),\n",
       " (0.7733799426775914, 8.586242191439457e-15),\n",
       " (0.7755692444898576, 8.610548324237773e-15),\n",
       " (0.7777562170676782, 8.634828597338975e-15),\n",
       " (0.7799408579761269, 8.659082983709952e-15),\n",
       " (0.7821231648118391, 8.683311456667997e-15),\n",
       " (0.7843031352029242, 8.707513989879835e-15),\n",
       " (0.7864807668088811, 8.731690557360684e-15),\n",
       " (0.7886560573205088, 8.755841133473261e-15),\n",
       " (0.7908290044598205, 8.779965692926833e-15),\n",
       " (0.7929996059799534, 8.804064210776214e-15),\n",
       " (0.7951678596650809, 8.82813666242078e-15),\n",
       " (0.7973337633303228, 8.852183023603497e-15),\n",
       " (0.799497314821655, 8.876203270409889e-15),\n",
       " (0.8016585120158194, 8.900197379267055e-15),\n",
       " (0.803817352820231, 8.924165326942635e-15),\n",
       " (0.805973835172889, 8.948107090543822e-15),\n",
       " (0.8081279570422822, 8.972022647516311e-15),\n",
       " (0.8102797164272969, 8.995911975643278e-15),\n",
       " (0.812429111357124, 9.019775053044344e-15),\n",
       " (0.8145761398911647, 9.043611858174535e-15),\n",
       " (0.8167208001189374, 9.067422369823246e-15),\n",
       " (0.818863090159981, 9.091206567113165e-15),\n",
       " (0.8210030081637614, 9.114964429499232e-15),\n",
       " (0.8231405523095748, 9.13869593676758e-15),\n",
       " (0.8252757208064524, 9.162401069034458e-15),\n",
       " (0.8274085118930633, 9.186079806745165e-15),\n",
       " (0.8295389238376171, 9.209732130672966e-15),\n",
       " (0.831666954937767, 9.233358021918014e-15),\n",
       " (0.8337926035205118, 9.256957461906265e-15),\n",
       " (0.8359158679420977, 9.280530432388387e-15),\n",
       " (0.8380367465879195, 9.304076915438658e-15),\n",
       " (0.8401552378724203, 9.327596893453864e-15),\n",
       " (0.8422713402389942, 9.351090349152205e-15),\n",
       " (0.8443850521598841, 9.374557265572171e-15),\n",
       " (0.8464963721360839, 9.397997626071451e-15),\n",
       " (0.848605298697235, 9.421411414325787e-15),\n",
       " (0.850711830401527, 9.444798614327865e-15),\n",
       " (0.8528159658355963, 9.4681592103862e-15),\n",
       " (0.8549177036144233, 9.491493187123982e-15),\n",
       " (0.8570170423812313, 9.514800529477966e-15),\n",
       " (0.859113980807384, 9.538081222697325e-15),\n",
       " (0.8612085175922818, 9.561335252342504e-15),\n",
       " (0.8633006514632589, 9.584562604284072e-15),\n",
       " (0.8653903811754817, 9.607763264701605e-15),\n",
       " (0.8674777055118423, 9.630937220082484e-15),\n",
       " (0.8695626232828564, 9.654084457220783e-15),\n",
       " (0.8716451333265584, 9.677204963216094e-15),\n",
       " (0.8737252345083965, 9.700298725472362e-15),\n",
       " (0.8758029257211282, 9.723365731696722e-15),\n",
       " (0.8778782058847148, 9.746405969898339e-15),\n",
       " (0.879951073946217, 9.769419428387238e-15),\n",
       " (0.8820215288796869, 9.792406095773109e-15),\n",
       " (0.8840895696860657, 9.815365960964169e-15),\n",
       " (0.8861551953930729, 9.83829901316594e-15),\n",
       " (0.8882184050551043, 9.861205241880104e-15),\n",
       " (0.890279197753122, 9.88408463690329e-15),\n",
       " (0.8923375725945498, 9.906937188325912e-15),\n",
       " (0.8943935287131649, 9.929762886530967e-15),\n",
       " (0.8964470652689905, 9.952561722192838e-15),\n",
       " (0.8984981814481892, 9.975333686276112e-15),\n",
       " (0.9005468764629544, 9.998078770034384e-15),\n",
       " (0.9025931495514024, 1.0020796965009042e-14),\n",
       " (0.9046369999774655, 1.0043488263028094e-14),\n",
       " (0.906678427030782, 1.0066152656204942e-14),\n",
       " (0.9087174300265886, 1.0088790136937182e-14),\n",
       " (0.9107540083056126, 1.0111400697905422e-14),\n",
       " (0.9127881612339609, 1.013398433207203e-14),\n",
       " (0.9148198882030139, 1.0156541032679976e-14),\n",
       " (0.916849188629314, 1.0179070793251576e-14),\n",
       " (0.9188760619544576, 1.0201573607587306e-14),\n",
       " (0.9209005076449859, 1.0224049469764583e-14),\n",
       " (0.9229225251922741, 1.0246498374136539e-14),\n",
       " (0.9249421141124236, 1.0268920315330816e-14),\n",
       " (0.9269592739461511, 1.029131528824835e-14),\n",
       " (0.9289740042586784, 1.031368328806213e-14),\n",
       " (0.9309863046396243, 1.033602431021601e-14),\n",
       " (0.9329961747028925, 1.0358338350423463e-14),\n",
       " (0.9350036140865623, 1.0380625404666358e-14),\n",
       " (0.9370086224527788, 1.0402885469193755e-14),\n",
       " (0.9390111994876422, 1.0425118540520664e-14),\n",
       " (0.9410113449010972, 1.0447324615426825e-14),\n",
       " (0.9430090584268226, 1.0469503690955479e-14),\n",
       " (0.9450043398221213, 1.0491655764412148e-14),\n",
       " (0.9469971888678096, 1.0513780833363402e-14),\n",
       " (0.9489876053681057, 1.0535878895635628e-14),\n",
       " (0.9509755891505199, 1.0557949949313804e-14),\n",
       " (0.9529611400657442, 1.0579993992740279e-14),\n",
       " (0.9549442579875402, 1.0602011024513527e-14),\n",
       " (0.95692494281263, 1.062400104348693e-14),\n",
       " (0.9589031944605835, 1.0645964048767536e-14),\n",
       " (0.9608790128737097, 1.0667900039714847e-14),\n",
       " (0.9628523980169439, 1.0689809015939565e-14),\n",
       " (0.9648233498777379, 1.0711690977302377e-14),\n",
       " (0.9667918684659493, 1.0733545923912727e-14),\n",
       " (0.9687579538137294, 1.0755373856127563e-14),\n",
       " (0.9707216059754141, 1.0777174774550137e-14),\n",
       " (0.972682825027412, 1.0798948680028753e-14),\n",
       " (0.974641611068093, 1.0820695573655537e-14),\n",
       " (0.976597964217679, 1.0842415456765219e-14),\n",
       " (0.9785518846181314, 1.086410833093389e-14),\n",
       " (0.9805033724330422, 1.0885774197977784e-14),\n",
       " (0.9824524278475217, 1.090741305995204e-14),\n",
       " (0.9843990510680891, 1.0929024919149478e-14),\n",
       " (0.9863432423225601, 1.0950609778099363e-14),\n",
       " (0.9882850018599383, 1.0972167639566192e-14),\n",
       " (0.9902243299503031, 1.0993698506548444e-14),\n",
       " (0.9921612268847003, 1.1015202382277382e-14),\n",
       " (0.994095692975031, 1.1036679270215799e-14),\n",
       " (0.9960277285539416, 1.1058129174056815e-14),\n",
       " (0.9979573339747134, 1.1079552097722638e-14),\n",
       " (0.999884509611152, 1.1100948045363346e-14),\n",
       " (1.0018092558574783, 1.1122317021355669e-14),\n",
       " (1.0037315731282164, 1.1143659030301748e-14),\n",
       " (1.0056514618580865, 1.1164974077027951e-14),\n",
       " (1.0075689225018927, 1.1186262166583612e-14),\n",
       " (1.0094839555344135, 1.1207523304239835e-14),\n",
       " (1.0113965614502938, 1.1228757495488282e-14),\n",
       " (1.0133067407639331, 1.1249964746039932e-14),\n",
       " (1.0152144940093781, 1.1271145061823896e-14),\n",
       " (1.0171198217402115, 1.1292298448986178e-14),\n",
       " (1.0190227245294439, 1.1313424913888469e-14),\n",
       " (1.0209232029694053, 1.1334524463106957e-14),\n",
       " (1.0228212576716338, 1.1355597103431079e-14),\n",
       " (1.0247168892667697, 1.1376642841862347e-14),\n",
       " (1.0266100984044446, 1.1397661685613121e-14),\n",
       " (1.0285008857531732, 1.1418653642105406e-14),\n",
       " (1.030389252000246, 1.1439618718969658e-14),\n",
       " (1.0322751978516203, 1.1460556924043578e-14),\n",
       " (1.034158724031811, 1.1481468265370899e-14),\n",
       " (1.0360398312837849, 1.1502352751200205e-14),\n",
       " (1.03791852036885, 1.1523210389983717e-14),\n",
       " (1.039794792066551, 1.1544041190376118e-14),\n",
       " (1.0416686471745589, 1.1564845161233339e-14),\n",
       " (1.0435400865085656, 1.1585622311611372e-14),\n",
       " (1.0454091109021761, 1.1606372650765098e-14),\n",
       " (1.0472757212068007, 1.1627096188147064e-14),\n",
       " (1.04913991829155, 1.1647792933406342e-14),\n",
       " (1.051001703043126, 1.16684628963873e-14),\n",
       " (1.052861076365717, 1.1689106087128441e-14),\n",
       " (1.054718039180892, 1.1709722515861242e-14),\n",
       " (1.0565725924274918, 1.1730312193008927e-14),\n",
       " (1.058424737061527, 1.1750875129185346e-14),\n",
       " (1.060274474056069, 1.177141133519376e-14),\n",
       " (1.062121804401146, 1.1791920822025691e-14),\n",
       " (1.0639667291036374, 1.181240360085975e-14),\n",
       " (1.0658092491871685, 1.1832859683060453e-14),\n",
       " (1.0676493656920056, 1.1853289080177083e-14),\n",
       " (1.0694870796749527, 1.1873691803942517e-14),\n",
       " (1.0713223922092439, 1.189406786627205e-14),\n",
       " (1.073155304384442, 1.1914417279262257e-14),\n",
       " (1.074985817306334, 1.1934740055189841e-14),\n",
       " (1.0768139320968253, 1.1955036206510453e-14),\n",
       " (1.078639649893839, 1.1975305745857579e-14),\n",
       " (1.0804629718512098, 1.1995548686041355e-14),\n",
       " (1.0822838991385828, 1.2015765040047452e-14),\n",
       " (1.0841024329413091, 1.2035954821035911e-14),\n",
       " (1.085918574460345, 1.2056118042340024e-14),\n",
       " (1.087732324912147, 1.2076254717465175e-14),\n",
       " (1.0895436855285718, 1.2096364860087715e-14),\n",
       " (1.0913526575567731, 1.2116448484053833e-14),\n",
       " (1.093159242259101, 1.2136505603378433e-14),\n",
       " (1.094963440912998, 1.2156536232243976e-14),\n",
       " (1.096765254810902, 1.2176540384999401e-14),\n",
       " (1.09856468526014, 1.2196518076158959e-14),\n",
       " (1.100361733582833, 1.2216469320401136e-14),\n",
       " (1.1021564011157905, 1.2236394132567502e-14),\n",
       " (1.1039486892104133, 1.225629252766162e-14),\n",
       " (1.1057385992325925, 1.2276164520847926e-14),\n",
       " (1.1075261325626107, 1.2296010127450637e-14),\n",
       " (1.10931129059504, 1.2315829362952613e-14),\n",
       " (1.1110940747386473, 1.2335622242994308e-14),\n",
       " (1.11287448641629, 1.2355388783372612e-14),\n",
       " (1.1146525270648222, 1.237512900003981e-14),\n",
       " (1.1164281981349928, 1.2394842909102453e-14),\n",
       " (1.1182015010913493, 1.2414530526820281e-14),\n",
       " (1.1199724374121405, 1.2434191869605154e-14),\n",
       " (1.1217410085892157, 1.2453826954019927e-14),\n",
       " (1.1235072161279318, 1.2473435796777419e-14),\n",
       " (1.1252710615470527, 1.2493018414739295e-14),\n",
       " (1.1270325463786548, 1.2512574824915022e-14),\n",
       " (1.12879167216803, 1.2532105044460784e-14),\n",
       " (1.1305484404735886, 1.2551609090678412e-14),\n",
       " (1.1323028528667647, 1.257108698101433e-14),\n",
       " (1.1340549109319205, 1.2590538733058492e-14),\n",
       " (1.1358046162662496, 1.260996436454331e-14),\n",
       " (1.1375519704796844, 1.262936389334262e-14),\n",
       " (1.1392969751947992, 1.2648737337470619e-14),\n",
       " (1.141039632046717, 1.266808471508082e-14),\n",
       " (1.1427799426830159, 1.2687406044465009e-14),\n",
       " (1.1445179087636326, 1.2706701344052192e-14),\n",
       " (1.146253531960773, 1.272597063240758e-14),\n",
       " (1.1479868139588145, 1.274521392823152e-14),\n",
       " (1.1497177564542183, 1.2764431250358513e-14),\n",
       " (1.1514463611554309, 1.2783622617756127e-14),\n",
       " (1.1531726297827964, 1.2802788049524021e-14),\n",
       " (1.1548965640684627, 1.2821927564892896e-14),\n",
       " (1.1566181657562906, 1.2841041183223496e-14),\n",
       " (1.1583374366017607, 1.2860128924005573e-14),\n",
       " (1.1600543783718842, 1.2879190806856891e-14),\n",
       " (1.1617689928451107, 1.2898226851522206e-14),\n",
       " (1.1634812818112394, 1.2917237077872283e-14),\n",
       " (1.1651912470713277, 1.2936221505902876e-14),\n",
       " (1.1668988904376016, 1.2955180155733732e-14),\n",
       " (1.1686042137333668, 1.2974113047607614e-14),\n",
       " (1.1703072187929173, 1.2993020201889275e-14),\n",
       " (1.172007907461451, 1.3011901639064526e-14),\n",
       " (1.1737062815949761, 1.3030757379739201e-14),\n",
       " (1.1754023430602263, 1.3049587444638203e-14),\n",
       " (1.1770960937345714, 1.3068391854604526e-14),\n",
       " (1.1787875355059299, 1.3087170630598276e-14),\n",
       " (1.1804766702726819, 1.3105923793695705e-14),\n",
       " (1.1821634999435826, 1.3124651365088254e-14),\n",
       " (1.1838480264376738, 1.3143353366081566e-14),\n",
       " (1.1855302516842008, 1.3162029818094565e-14),\n",
       " (1.1872101776225232, 1.3180680742658472e-14),\n",
       " (1.188887806202031, 1.3199306161415857e-14),\n",
       " (1.1905631393820584, 1.3217906096119706e-14),\n",
       " (1.1922361791317995, 1.3236480568632464e-14),\n",
       " (1.1939069274302243, 1.3255029600925109e-14),\n",
       " (1.1955753862659917, 1.3273553215076191e-14),\n",
       " (1.1972415576373685, 1.3292051433270929e-14),\n",
       " (1.1989054435521433, 1.3310524277800254e-14),\n",
       " (1.2005670460275446, 1.3328971771059901e-14),\n",
       " (1.2022263670901574, 1.3347393935549484e-14),\n",
       " (1.20388340877584, 1.336579079387157e-14),\n",
       " (1.2055381731296426, 1.3384162368730774e-14),\n",
       " (1.207190662205724, 1.3402508682932846e-14),\n",
       " (1.2088408780672708, 1.3420829759383755e-14),\n",
       " (1.210488822786416, 1.3439125621088797e-14),\n",
       " (1.212134498444157, 1.3457396291151692e-14),\n",
       " (1.2137779071302754, 1.3475641792773668e-14),\n",
       " (1.2154190509432579, 1.349386214925261e-14),\n",
       " (1.2170579319902137, 1.3512057383982131e-14),\n",
       " (1.2186945523867971, 1.3530227520450713e-14),\n",
       " (1.2203289142571268, 1.3548372582240806e-14),\n",
       " (1.2219610197337063, 1.356649259302796e-14),\n",
       " (1.2235908709573475, 1.358458757657996e-14),\n",
       " (1.2252184700770896, 1.3602657556755932e-14),\n",
       " (1.2268438192501225, 1.3620702557505498e-14),\n",
       " (1.2284669206417103, 1.3638722602867917e-14),\n",
       " (1.2300877764251092, 1.365671771697118e-14),\n",
       " (1.231706388781497, 1.3674687924031226e-14),\n",
       " (1.2333227598998915, 1.3692633248351032e-14),\n",
       " (1.234936891977075, 1.3710553714319784e-14),\n",
       " (1.2365487872175205, 1.3728449346412048e-14),\n",
       " (1.238158447833313, 1.3746320169186899e-14),\n",
       " (1.2397658760440762, 1.3764166207287111e-14),\n",
       " (1.2413710740768966, 1.3781987485438313e-14),\n",
       " (1.2429740441662491, 1.379978402844816e-14),\n",
       " (1.244574788553922, 1.3817555861205499e-14),\n",
       " (1.2461733094889438, 1.3835303008679564e-14),\n",
       " (1.2477696092275083, 1.3853025495919139e-14),\n",
       " (1.2493636900329035, 1.3870723348051767e-14),\n",
       " (1.2509555541754354, 1.3888396590282907e-14),\n",
       " (1.2525452039323581, 1.3906045247895161e-14),\n",
       " (1.2541326415878005, 1.3923669346247453e-14),\n",
       " (1.255717869432693, 1.3941268910774217e-14),\n",
       " (1.2573008897646976, 1.395884396698463e-14),\n",
       " (1.2588817048881351, 1.3976394540461791e-14),\n",
       " (1.2604603171139157, 1.3993920656861955e-14),\n",
       " (1.2620367287594678, 1.4011422341913746e-14),\n",
       " (1.2636109421486652, 1.4028899621417348e-14),\n",
       " (1.2651829596117612, 1.4046352521243768e-14),\n",
       " (1.2667527834853152, 1.4063781067334027e-14),\n",
       " (1.2683204161121253, 1.4081185285698409e-14),\n",
       " (1.2698858598411602, 1.4098565202415704e-14),\n",
       " (1.271449117027488, 1.4115920843632424e-14),\n",
       " (1.2730101900322084, 1.4133252235562038e-14),\n",
       " (1.274569081222387, 1.4150559404484255e-14),\n",
       " (1.276125792970985, 1.4167842376744234e-14),\n",
       " (1.2776803276567923, 1.4185101178751849e-14),\n",
       " (1.2792326876643616, 1.4202335836980958e-14),\n",
       " (1.2807828753839408, 1.4219546377968637e-14),\n",
       " (1.2823308932114066, 1.4236732828314464e-14),\n",
       " (1.283876743548199, 1.425389521467978e-14),\n",
       " (1.2854204288012552, 1.427103356378695e-14),\n",
       " (1.2869619513829438, 1.4288147902418654e-14),\n",
       " (1.2885013137110004, 1.4305238257417146e-14),\n",
       " (1.2900385182084633, 1.4322304655683553e-14),\n",
       " (1.2915735673036075, 1.4339347124177144e-14),\n",
       " (1.2931064634298821, 1.435636568991463e-14),\n",
       " (1.294637209025846, 1.437336037996946e-14),\n",
       " (1.296165806535104, 1.4390331221471086e-14),\n",
       " (1.2976922584062451, 1.4407278241604316e-14),\n",
       " (1.2992165670927787, 1.4424201467608574e-14),\n",
       " (1.300738735053071, 1.4441100926777205e-14),\n",
       " (1.3022587647502857, 1.4457976646456824e-14),\n",
       " (1.3037766586523198, 1.447482865404659e-14),\n",
       " (1.3052924192317434, 1.449165697699754e-14),\n",
       " (1.3068060489657383, 1.4508461642811925e-14),\n",
       " (1.3083175503360358, 1.452524267904249e-14),\n",
       " (1.3098269258288593, 1.4542000113291868e-14),\n",
       " (1.3113341779348604, 1.455873397321184e-14),\n",
       " (1.3128393091490624, 1.457544428650273e-14),\n",
       " (1.3143423219707975, 1.45921310809127e-14),\n",
       " (1.3158432189036509, 1.4608794384237133e-14),\n",
       " (1.3173420024553983, 1.4625434224317926e-14),\n",
       " (1.318838675137952, 1.4642050629042913e-14),\n",
       " (1.3203332394672973, 1.465864362634514e-14),\n",
       " (1.321825697963438, 1.4675213244202266e-14),\n",
       " (1.3233160531503383, 1.469175951063593e-14),\n",
       " (1.3248043075558649, 1.4708282453711085e-14),\n",
       " (1.3262904637117297, 1.472478210153538e-14),\n",
       " (1.327774524153434, 1.4741258482258534e-14),\n",
       " (1.329256491420211, 1.47577116240717e-14),\n",
       " (1.3307363680549706, 1.477414155520685e-14),\n",
       " (1.3322141566042442, 1.479054830393616e-14),\n",
       " (1.3336898596181275, 1.4806931898571378e-14),\n",
       " (1.3351634796502265, 1.482329236746323e-14),\n",
       " (1.3366350192576022, 1.4839629739000794e-14),\n",
       " (1.3381044810007172, 1.4855944041610915e-14),\n",
       " (1.3395718674433805, 1.4872235303757593e-14),\n",
       " (1.3410371811526922, 1.488850355394136e-14),\n",
       " (1.3425004246989938, 1.490474882069874e-14),\n",
       " (1.3439616006558108, 1.492097113260161e-14),\n",
       " (1.3454207115998014, 1.493717051825662e-14),\n",
       " (1.3468777601107054, 1.4953347006304632e-14),\n",
       " (1.3483327487712882, 1.496950062542011e-14),\n",
       " (1.3497856801672925, 1.4985631404310556e-14),\n",
       " (1.3512365568873839, 1.5001739371715937e-14),\n",
       " (1.3526853815231004, 1.5017824556408104e-14),\n",
       " (1.3541321566688014, 1.503388698719023e-14),\n",
       " (1.3555768849216168, 1.504992669289625e-14),\n",
       " (1.3570195688813949, 1.506594370239028e-14),\n",
       " (1.3584602111506547, 1.5081938044566087e-14),\n",
       " (1.3598988143345343, 1.509790974834651e-14),\n",
       " (1.361335381040742, 1.5113858842682926e-14),\n",
       " (1.3627699138795046, 1.5129785356554677e-14),\n",
       " (1.3642024154635222, 1.514568931896856e-14),\n",
       " (1.3656328884079165, 1.516157075895826e-14),\n",
       " (1.3670613353301824, 1.5177429705583804e-14),\n",
       " (1.3684877588501416, 1.519326618793106e-14),\n",
       " (1.3699121615898928, 1.520908023511117e-14),\n",
       " (1.3713345461737652, 1.522487187626004e-14),\n",
       " (1.3727549152282708, 1.5240641140537812e-14),\n",
       " (1.3741732713820565, 1.5256388057128328e-14),\n",
       " (1.3755896172658593, 1.5272112655238637e-14),\n",
       " (1.3770039555124574, 1.528781496409845e-14),\n",
       " (1.3784162887566258, 1.5303495012959644e-14),\n",
       " (1.3798266196350895, 1.5319152831095744e-14),\n",
       " (1.3812349507864785, 1.5334788447801436e-14),\n",
       " (1.3826412848512821, 1.5350401892392032e-14),\n",
       " (1.384045624471803, 1.5365993194202987e-14),\n",
       " (1.3854479722921138, 1.5381562382589407e-14),\n",
       " (1.3868483309580126, 1.5397109486925548e-14),\n",
       " (1.3882467031169767, 1.5412634536604316e-14),\n",
       " (1.3896430914181215, 1.5428137561036798e-14),\n",
       " (1.3910374985121543, 1.5443618589651757e-14),\n",
       " (1.3924299270513323, 1.545907765189516e-14),\n",
       " (1.3938203796894202, 1.5474514777229723e-14),\n",
       " (1.3952088590816443, 1.5489929995134368e-14),\n",
       " (1.3965953678846537, 1.5505323335103835e-14),\n",
       " (1.3979799087564746, 1.5520694826648136e-14),\n",
       " (1.3993624843564718, 1.5536044499292153e-14),\n",
       " (1.400743097345303, 1.5551372382575123e-14),\n",
       " (1.402121750384881, 1.5566678506050215e-14),\n",
       " (1.4034984461383293, 1.5581962899284035e-14),\n",
       " (1.4048731872699434, 1.5597225591856206e-14),\n",
       " (1.4062459764451491, 1.5612466613358902e-14),\n",
       " (1.4076168163304623, 1.5627685993396394e-14),\n",
       " (1.4089857095934486, 1.564288376158461e-14),\n",
       " (1.4103526589026834, 1.5658059947550688e-14),\n",
       " (1.4117176669277134, 1.5673214580932553e-14),\n",
       " (1.413080736339015, 1.5688347691378446e-14),\n",
       " (1.4144418698079564, 1.5703459308546513e-14),\n",
       " (1.4158010700067611, 1.5718549462104394e-14),\n",
       " (1.4171583396084633, 1.573361818172873e-14),\n",
       " (1.4185136812868764, 1.574866549710481e-14),\n",
       " (1.41986709771655, 1.576369143792611e-14),\n",
       " (1.4212185915727338, 1.5778696033893855e-14),\n",
       " (1.4225681655313407, 1.5793679314716653e-14),\n",
       " (1.4239158222689088, 1.5808641310110047e-14),\n",
       " (1.4252615644625635, 1.5823582049796098e-14),\n",
       " (1.426605394789982, 1.5838501563502994e-14),\n",
       " (1.427947315929356, 1.5853399880964638e-14),\n",
       " (1.4292873305593568, 1.586827703192025e-14),\n",
       " (1.4306254413590955, 1.5883133046113945e-14),\n",
       " (1.4319616510080928, 1.5897967953294376e-14),\n",
       " (1.4332959621862376, 1.5912781783214286e-14),\n",
       " (1.434628377573756, 1.5927574565630166e-14),\n",
       " (1.4359588998511734, 1.594234633030182e-14),\n",
       " (1.4372875316992824, 1.595709710699203e-14),\n",
       " (1.4386142757991054, 1.5971826925466118e-14),\n",
       " (1.4399391348318613, 1.5986535815491602e-14),\n",
       " (1.4412621114789335, 1.600122380683781e-14),\n",
       " (1.4425832084218317, 1.6015890929275486e-14),\n",
       " (1.4439024283421618, 1.603053721257643e-14),\n",
       " (1.445219773921591, 1.6045162686513137e-14),\n",
       " (1.4465352478418159, 1.6059767380858414e-14),\n",
       " (1.4478488527845268, 1.6074351325385005e-14),\n",
       " (1.4491605914313792, 1.6088914549865265e-14),\n",
       " (1.4504704664639567, 1.6103457084070757e-14),\n",
       " (1.4517784805637426, 1.6117978957771925e-14),\n",
       " (1.453084636412086, 1.613248020073772e-14),\n",
       " (1.4543889366901697, 1.6146960842735256e-14),\n",
       " (1.4556913840789798, 1.6161420913529454e-14),\n",
       " (1.4569919812592744, 1.617586044288271e-14),\n",
       " (1.4582907309115511, 1.6190279460554527e-14),\n",
       " (1.4595876357160178, 1.6204677996301186e-14),\n",
       " (1.4608826983525611, 1.6219056079875406e-14),\n",
       " (1.4621759215007164, 1.623341374102601e-14),\n",
       " (1.4634673078396363, 1.624775100949756e-14),\n",
       " (1.464756860048064, 1.6262067915030086e-14),\n",
       " (1.466044580804299, 1.6276364487358686e-14),\n",
       " (1.4673304727861711, 1.6290640756213238e-14),\n",
       " (1.4686145386710099, 1.6304896751318074e-14),\n",
       " (1.4698967811356165, 1.6319132502391658e-14),\n",
       " (1.471177202856232, 1.6333348039146233e-14),\n",
       " (1.472455806508512, 1.6347543391287544e-14),\n",
       " (1.473732594767497, 1.6361718588514506e-14),\n",
       " (1.4750075703075842, 1.6375873660518894e-14),\n",
       " (1.4762807358024976, 1.6390008636985007e-14),\n",
       " (1.4775520939252642, 1.64041235475894e-14),\n",
       " (1.4788216473481839, 1.6418218422000573e-14),\n",
       " (1.480089398742801, 1.6432293289878618e-14),\n",
       " (1.4813553507798798, 1.644634818087498e-14),\n",
       " (1.4826195061293763, 1.646038312463212e-14),\n",
       " (1.4838818674604104, 1.6474398150783225e-14),\n",
       " (1.4851424374412414, 1.6488393288951924e-14),\n",
       " (1.4864012187392406, 1.6502368568751984e-14),\n",
       " (1.4876582140208652, 1.6516324019787034e-14),\n",
       " (1.4889134259516323, 1.6530259671650252e-14),\n",
       " (1.4901668571960938, 1.654417555392411e-14),\n",
       " (1.4914185104178095, 1.655807169618006e-14),\n",
       " (1.4926683882793235, 1.6571948127978282e-14),\n",
       " (1.493916493442139, 1.6585804878867394e-14),\n",
       " (1.4951628285666907, 1.659964197838416e-14),\n",
       " (1.4964073963123232, 1.6613459456053228e-14),\n",
       " (1.4976501993372657, 1.6627257341386877e-14),\n",
       " (1.4988912402986068, 1.6641035663884716e-14),\n",
       " (1.50013052185227, 1.6654794453033416e-14),\n",
       " (1.5013680466529924, 1.6668533738306485e-14),\n",
       " (1.502603817354298, 1.668225354916395e-14),\n",
       " (1.503837836608475, 1.6695953915052132e-14),\n",
       " (1.5050701070665544, 1.6709634865403383e-14),\n",
       " (1.5063006313782832, 1.6723296429635807e-14),\n",
       " (1.5075294121921041, 1.6736938637153022e-14),\n",
       " (1.5087564521551324, 1.6750561517343913e-14),\n",
       " (1.5099817539131326, 1.6764165099582368e-14),\n",
       " (1.511205320110497, 1.677774941322704e-14),\n",
       " (1.5124271533902212, 1.679131448762107e-14),\n",
       " (1.5136472563938852, 1.680486035209189e-14),\n",
       " (1.5148656317616296, 1.681838703595095e-14),\n",
       " (1.5160822821321338, 1.6831894568493475e-14),\n",
       " (1.517297210142595, 1.6845382978998235e-14),\n",
       " (1.5185104184287077, 1.6858852296727318e-14),\n",
       " (1.5197219096246417, 1.6872302550925885e-14),\n",
       " (1.520931686363019, 1.688573377082191e-14),\n",
       " (1.522139751274898, 1.6899145985626006e-14),\n",
       " (1.5233461069897487, 1.691253922453116e-14),\n",
       " (1.5245507561354328, 1.6925913516712495e-14),\n",
       " (1.5257537013381859, 1.6939268891327084e-14),\n",
       " (1.5269549452225948, 1.6952605377513694e-14),\n",
       " (1.5281544904115785, 1.6965923004392574e-14),\n",
       " (1.5293523395263684, 1.6979221801065242e-14),\n",
       " (1.5305484951864896, 1.6992501796614262e-14),\n",
       " (1.5317429600097396, 1.7005763020103032e-14),\n",
       " (1.532935736612171, 1.7019005500575568e-14),\n",
       " (1.5341268276080708, 1.7032229267056285e-14),\n",
       " (1.535316235609944, 1.7045434348549812e-14),\n",
       " (1.53650396322849, 1.7058620774040744e-14),\n",
       " (1.5376900130725906, 1.707178857249348e-14),\n",
       " (1.5388743877492868, 1.7084937772851992e-14),\n",
       " (1.5400570898637613, 1.7098068404039616e-14),\n",
       " (1.541238122019322, 1.7111180494958877e-14),\n",
       " (1.5424174868173834, 1.712427407449128e-14),\n",
       " (1.5435951868574482, 1.71373491714971e-14),\n",
       " (1.544771224737089, 1.7150405814815184e-14),\n",
       " (1.5459456030519347, 1.7163444033262807e-14),\n",
       " (1.5471183243956481, 1.7176463855635405e-14),\n",
       " (1.5482893913599125, 1.7189465310706448e-14),\n",
       " (1.5494588065344135, 1.7202448427227218e-14),\n",
       " (1.5506265725068216, 1.721541323392663e-14),\n",
       " (1.5517926918627765, 1.7228359759511053e-14),\n",
       " (1.5529571671858697, 1.724128803266411e-14),\n",
       " (1.5541200010576302, 1.7254198082046536e-14),\n",
       " (1.555281196057505, 1.7267089936295943e-14),\n",
       " (1.5564407547628465, 1.727996362402669e-14),\n",
       " (1.5575986797488939, 1.7292819173829674e-14),\n",
       " (1.5587549735887596, 1.7305656614272185e-14),\n",
       " (1.5599096388534113, 1.73184759738977e-14),\n",
       " (1.5610626781116586, 1.7331277281225727e-14),\n",
       " (1.5622140939301383, 1.7344060564751665e-14),\n",
       " (1.5633638888732948, 1.7356825852946566e-14),\n",
       " (1.5645120655033717, 1.7369573174257043e-14),\n",
       " (1.5656586263803915, 1.7382302557105063e-14),\n",
       " (1.566803574062144, 1.739501402988779e-14),\n",
       " (1.5679469111041688, 1.740770762097742e-14),\n",
       " (1.5690886400597457, 1.7420383358721045e-14),\n",
       " (1.5702287634798746, 1.7433041271440458e-14),\n",
       " (1.5713672839132655, 1.7445681387432028e-14),\n",
       " (1.5725042039063242, 1.7458303734966532e-14),\n",
       " (1.573639526003136, 1.747090834228899e-14),\n",
       " (1.5747732527454532, 1.748349523761853e-14),\n",
       " (1.5759053866726844, 1.7496064449148246e-14),\n",
       " (1.5770359303218746, 1.7508616005044992e-14),\n",
       " (1.578164886227699, 1.752114993344932e-14),\n",
       " (1.5792922569224452, 1.753366626247527e-14),\n",
       " (1.5804180449360015, 1.7546165020210242e-14),\n",
       " (1.581542252795844, 1.755864623471486e-14),\n",
       " (1.5826648830270247, 1.757110993402283e-14),\n",
       " (1.583785938152157, 1.758355614614079e-14),\n",
       " (1.584905420691405, 1.759598489904818e-14),\n",
       " (1.5860233331624691, 1.760839622069709e-14),\n",
       " (1.5871396780805775, 1.762079013901216e-14),\n",
       " (1.5882544579584683, 1.7633166681890392e-14),\n",
       " (1.5893676753063832, 1.7645525877201065e-14),\n",
       " (1.5904793326320528, 1.765786775278558e-14),\n",
       " (1.5915894324406843, 1.767019233645733e-14),\n",
       " (1.592697977234952, 1.768249965600157e-14),\n",
       " (1.5938049695149845, 1.7694789739175316e-14),\n",
       " (1.594910411778353, 1.770706261370717e-14),\n",
       " (1.5960143065200607, 1.7719318307297234e-14),\n",
       " (1.597116656232532, 1.773155684761698e-14),\n",
       " (1.5982174634056012, 1.774377826230912e-14),\n",
       " (1.5993167305265013, 1.7755982578987487e-14),\n",
       " (1.6004144600798522, 1.7768169825236905e-14),\n",
       " (1.6015106545476545, 1.778034002861311e-14),\n",
       " (1.6026053164092728, 1.779249321664259e-14),\n",
       " (1.6036984481414291, 1.780462941682247e-14),\n",
       " (1.6047900522181928, 1.781674865662045e-14),\n",
       " (1.605880131110969, 1.782885096347463e-14),\n",
       " (1.6069686872884883, 1.784093636479343e-14),\n",
       " (1.6080557232167976, 1.7853004887955466e-14),\n",
       " (1.6091412413592519, 1.7865056560309477e-14),\n",
       " (1.6102252441765013, 1.7877091409174164e-14),\n",
       " (1.611307734126483, 1.7889109461838115e-14),\n",
       " (1.6123887136644133, 1.7901110745559702e-14),\n",
       " (1.613468185242775, 1.791309528756696e-14),\n",
       " (1.6145461513113109, 1.792506311505749e-14),\n",
       " (1.615622614317014, 1.7937014255198382e-14),\n",
       " (1.6166975767041183, 1.7948948735126072e-14),\n",
       " (1.6177710409140882, 1.796086658194627e-14),\n",
       " (1.6188430093856137, 1.7972767822733865e-14),\n",
       " (1.6199134845545975, 1.798465248453282e-14),\n",
       " (1.6209824688541488, 1.7996520594356067e-14),\n",
       " (1.6220499647145734, 1.8008372179185422e-14),\n",
       " (1.623115974563368, 1.8020207265971512e-14),\n",
       " (1.624180500825208, 1.8032025881633637e-14),\n",
       " (1.6252435459219423, 1.8043828053059734e-14),\n",
       " (1.6263051122725842, 1.805561380710623e-14),\n",
       " (1.6273652022933036, 1.8067383170598012e-14),\n",
       " (1.6284238183974187, 1.807913617032829e-14),\n",
       " (1.629480962995389, 1.8090872833058534e-14),\n",
       " (1.6305366384948063, 1.8102593185518394e-14),\n",
       " (1.6315908473003902, 1.811429725440561e-14),\n",
       " (1.632643591813975, 1.812598506638591e-14),\n",
       " (1.6336948744345092, 1.8137656648092963e-14),\n",
       " (1.6347446975580435, 1.814931202612828e-14),\n",
       " (1.6357930635777245, 1.8160951227061123e-14),\n",
       " (1.636839974883788, 1.8172574277428443e-14),\n",
       " (1.637885433863554, 1.8184181203734817e-14),\n",
       " (1.638929442901416, 1.819577203245233e-14),\n",
       " (1.6399720043788373, 1.820734679002053e-14),\n",
       " (1.6410131206743421, 1.821890550284635e-14),\n",
       " (1.6420527941635112, 1.823044819730403e-14),\n",
       " (1.6430910272189736, 1.824197489973504e-14),\n",
       " (1.6441278222104003, 1.8253485636448023e-14),\n",
       " (1.6451631815044998, 1.8264980433718713e-14),\n",
       " (1.6461971074650092, 1.8276459317789863e-14),\n",
       " (1.647229602452691, 1.8287922314871207e-14),\n",
       " (1.6482606688253234, 1.829936945113934e-14),\n",
       " (1.6492903089376976, 1.8310800752737694e-14),\n",
       " (1.650318525141611, 1.8322216245776468e-14),\n",
       " (1.6513453197858605, 1.8333615956332543e-14),\n",
       " (1.6523706952162374, 1.8344999910449437e-14),\n",
       " (1.6533946537755226, 1.8356368134137243e-14),\n",
       " (1.6544171978034794, 1.8367720653372548e-14),\n",
       " (1.6554383296368498, 1.8379057494098404e-14),\n",
       " (1.6564580516093474, 1.8390378682224233e-14),\n",
       " (1.6574763660516547, 1.8401684243625812e-14),\n",
       " (1.658493275291415, 1.8412974204145172e-14),\n",
       " (1.6595087816532281, 1.8424248589590555e-14),\n",
       " (1.6605228874586486, 1.8435507425736394e-14),\n",
       " (1.661535595026174, 1.8446750738323182e-14),\n",
       " (1.662546906671248, 1.845797855305751e-14),\n",
       " (1.6635568247062495, 1.8469190895611936e-14),\n",
       " (1.6645653514404906, 1.848038779162498e-14),\n",
       " (1.6655724891802122, 1.849156926670106e-14),\n",
       " (1.6665782402285783, 1.850273534641043e-14),\n",
       " (1.667582606885673, 1.8513886056289153e-14),\n",
       " (1.668585591448493, 1.8525021421839016e-14),\n",
       " (1.6695871962109483, 1.853614146852754e-14),\n",
       " (1.6705874234638538, 1.854724622178787e-14),\n",
       " (1.6715862754949273, 1.8558335707018784e-14),\n",
       " (1.672583754588784, 1.8569409949584605e-14),\n",
       " (1.6735798630269343, 1.8580468974815182e-14),\n",
       " (1.6745746030877773, 1.8591512808005832e-14),\n",
       " (1.6755679770466, 1.860254147441731e-14),\n",
       " (1.676559987175572, 1.8613554999275772e-14),\n",
       " (1.677550635743741, 1.8624553407772704e-14),\n",
       " (1.6785399250170314, 1.863553672506492e-14),\n",
       " (1.6795278572582382, 1.8646504976274493e-14),\n",
       " (1.6805144347270256, 1.8657458186488734e-14),\n",
       " (1.6814996596799223, 1.866839638076015e-14),\n",
       " (1.6824835343703188, 1.867931958410639e-14),\n",
       " (1.6834660610484646, 1.869022782151025e-14),\n",
       " (1.6844472419614644, 1.87011211179196e-14),\n",
       " (1.6854270793532737, 1.8711999498247353e-14),\n",
       " (1.6864055754646992, 1.872286298737146e-14),\n",
       " (1.6873827325333917, 1.8733711610134837e-14),\n",
       " (1.6883585527938472, 1.874454539134537e-14),\n",
       " (1.6893330384774, 1.8755364355775847e-14),\n",
       " (1.6903061918122229, 1.876616852816396e-14),\n",
       " (1.691278015023325, 1.877695793321227e-14),\n",
       " (1.6922485103325455, 1.8787732595588143e-14),\n",
       " (1.693217679958555, 1.8798492539923773e-14),\n",
       " (1.6941855261168495, 1.880923779081611e-14),\n",
       " (1.695152051019751, 1.8819968372826858e-14),\n",
       " (1.696117256876405, 1.883068431048246e-14),\n",
       " (1.697081145892774, 1.884138562827402e-14),\n",
       " (1.6980437202716403, 1.8852072350657336e-14),\n",
       " (1.6990049822126019, 1.8862744502052852e-14),\n",
       " (1.6999649339120702, 1.887340210684563e-14),\n",
       " (1.7009235775632674, 1.888404518938533e-14),\n",
       " (1.7018809153562253, 1.8894673773986185e-14),\n",
       " (1.702836949477784, 1.8905287884927002e-14),\n",
       " (1.7037916821115875, 1.8915887546451098e-14),\n",
       " (1.7047451154380842, 1.8926472782766313e-14),\n",
       " (1.7056972516345266, 1.893704361804501e-14),\n",
       " (1.7066480928749648, 1.8947600076423984e-14),\n",
       " (1.707597641330249, 1.8958142182004523e-14),\n",
       " (1.7085458991680247, 1.896866995885232e-14),\n",
       " (1.7094928685527364, 1.8979183430997542e-14),\n",
       " (1.7104385516456186, 1.898968262243471e-14),\n",
       " (1.7113829506047014, 1.9000167557122765e-14),\n",
       " (1.7123260675848058, 1.9010638258985034e-14),\n",
       " (1.7132679047375408, 1.902109475190917e-14),\n",
       " (1.7142084642113065, 1.903153705974721e-14),\n",
       " (1.7151477481512891, 1.9041965206315503e-14),\n",
       " (1.7160857586994627, 1.905237921539474e-14),\n",
       " (1.7170224979945843, 1.906277911072989e-14),\n",
       " (1.7179579681721984, 1.9073164916030265e-14),\n",
       " (1.7188921713646304, 1.9083536654969428e-14),\n",
       " (1.7198251097009882, 1.9093894351185227e-14),\n",
       " (1.7207567853071633, 1.9104238028279798e-14),\n",
       " (1.721687200305826, 1.9114567709819518e-14),\n",
       " (1.7226163568164266, 1.912488341933501e-14),\n",
       " (1.7235442569551958, 1.9135185180321155e-14),\n",
       " (1.7244709028351417, 1.9145473016237055e-14),\n",
       " (1.7253962965660523, 1.9155746950506062e-14),\n",
       " (1.7263204402544898, 1.9166007006515715e-14),\n",
       " (1.7272433360037973, 1.9176253207617815e-14),\n",
       " (1.728164985914091, 1.9186485577128332e-14),\n",
       " (1.7290853920822649, 2.078660981307034e-14),\n",
       " (1.7300045566019875, 2.2537041202655123e-14),\n",
       " (1.7309224815637039, 2.4372030897099098e-14),\n",
       " (1.731839169054634, 2.6306929674173556e-14),\n",
       " (1.7327546211587712, 2.8330559908514915e-14),\n",
       " (1.7336688399568863, 3.045540266038585e-14),\n",
       " (1.7345818275265215, 3.267300309319261e-14),\n",
       " (1.7354935859419955, 3.499262481754235e-14),\n",
       " (1.7364041172744016, 3.742422863161406e-14),\n",
       " (1.7373134235916063, 3.99588594853148e-14),\n",
       " (1.7382215069582512, 4.261058583977971e-14),\n",
       " (1.7391283694357529, 4.5369945753098985e-14),\n",
       " (1.7400340130823027, 4.8251538779547036e-14),\n",
       " (1.7409384399528656, 5.1245395556148824e-14),\n",
       " (1.7418416520991835, 5.4375359201497877e-14),\n",
       " (1.7427436515697736, 5.763147384449667e-14),\n",
       " (1.7436444404099267, 6.101180626308938e-14),\n",
       " (1.744544020661713, 6.453716902112648e-14),\n",
       " (1.7454423943639765, 6.819213775481011e-14),\n",
       " (1.7463395635523404, 7.199344574174277e-14),\n",
       " (1.747235530259203, 7.593936193761302e-14),\n",
       " (1.748130296513743, 8.003775015711641e-14),\n",
       " (1.7490238643419156, 8.428671883324246e-14),\n",
       " (1.7499162357664577, 8.869947142179536e-14),\n",
       " (1.7508074128068836, 9.327422211347436e-14),\n",
       " (1.7516973974794892, 9.801416334665578e-14),\n",
       " (1.7525861917973509, 1.0291708017459206e-13),\n",
       " (1.7534737977703294, 1.0801344100387074e-13),\n",
       " (1.7543602174050656, 1.132795654805571e-13),\n",
       " (1.7552454527049854, 1.18729783760807e-13),\n",
       " (1.7561295056702992, 1.2437338252035736e-13),\n",
       " (1.7570123782980027, 1.302141542905522e-13),\n",
       " (1.7578940725818777, 1.362380182044903e-13),\n",
       " (1.758774590512495, 1.4247822960352474e-13),\n",
       " (1.7596539340772122, 1.489268750244112e-13),\n",
       " (1.760532105260177, 1.5558155267575348e-13),\n",
       " (1.7614091060423285, 1.624648290452184e-13),\n",
       " (1.7622849384013963, 1.695682722623998e-13),\n",
       " (1.7631596043119049, 1.769022743049527e-13),\n",
       " (1.764033105745171, 1.84477615751323e-13),\n",
       " (1.7649054446693078, 1.9227863034227836e-13),\n",
       " (1.7657766230492256, 2.0033615889135176e-13),\n",
       " (1.7666466428466323, 2.0864807707121507e-13),\n",
       " ...]"
      ]
     },
     "execution_count": 133,
     "metadata": {},
     "output_type": "execute_result"
    },
    {
     "ename": "",
     "evalue": "",
     "output_type": "error",
     "traceback": [
      "\u001b[1;31mRunning cells with 'Python 3.8.9 64-bit' requires ipykernel package.\n",
      "Run the following command to install 'ipykernel' into the Python environment. \n",
      "Command: '/usr/bin/python3 -m pip install ipykernel -U --user --force-reinstall'"
     ]
    }
   ],
   "source": [
    "b2i"
   ]
  },
  {
   "cell_type": "code",
   "execution_count": null,
   "metadata": {},
   "outputs": [
    {
     "ename": "",
     "evalue": "",
     "output_type": "error",
     "traceback": [
      "\u001b[1;31mRunning cells with 'Python 3.8.9 64-bit' requires ipykernel package.\n",
      "Run the following command to install 'ipykernel' into the Python environment. \n",
      "Command: '/usr/bin/python3 -m pip install ipykernel -U --user --force-reinstall'"
     ]
    }
   ],
   "source": [
    "# Exact solns\n",
    "\n",
    "c0 = M*b0**2 - b0**2"
   ]
  },
  {
   "cell_type": "code",
   "execution_count": null,
   "metadata": {},
   "outputs": [
    {
     "data": {
      "image/png": "[encoded data removed]",
      "text/plain": [
       "<Figure size 432x576 with 2 Axes>"
      ]
     },
     "metadata": {
      "image/png": {
       "height": 549,
       "width": 404
      },
      "needs_background": "light"
     },
     "output_type": "display_data"
    },
    {
     "ename": "",
     "evalue": "",
     "output_type": "error",
     "traceback": [
      "\u001b[1;31mRunning cells with 'Python 3.8.9 64-bit' requires ipykernel package.\n",
      "Run the following command to install 'ipykernel' into the Python environment. \n",
      "Command: '/usr/bin/python3 -m pip install ipykernel -U --user --force-reinstall'"
     ]
    }
   ],
   "source": [
    "# Save figure\n",
    "fig = plt.figure(figsize=(6,8))\n",
    "\n",
    "ax1=plt.subplot(211)\n",
    "# Simulations from small random weights\n",
    "for rep in range(Nreps-1):\n",
    "    plt.plot(losses[rep], color='r', linewidth=.5)\n",
    "plt.plot(losses[-1], color='r', linewidth=.5, label='Simulations')\n",
    "\n",
    "# Simulations from balanced decoupled init\n",
    "plt.plot(losses_decoup[0], color=plt.cm.viridis(.5), linewidth=4, label='Decoupled Sim')\n",
    "\n",
    "# Reduction\n",
    "plt.plot(K/4*np.sum((s - b3*b2*b1)**2,axis=1),color=plt.cm.viridis(.2),linestyle='--', label='Theory')\n",
    "\n",
    "#plt.xlabel(\"Epochs\")\n",
    "plt.ylabel(\"Loss\")\n",
    "plt.legend(fontsize=13)\n",
    "plt.xlim((0,500))\n",
    "ax1.spines['right'].set_visible(False)\n",
    "ax1.spines['top'].set_visible(False)\n",
    "\n",
    "#plt.tight_layout()\n",
    "#plt.savefig('routing_network_loss.pdf')\n",
    "\n",
    "ax2=plt.subplot(212)\n",
    "ep = np.arange(0,cfg.num_epochs,2)\n",
    "\n",
    "#fig = plt.figure(figsize=(10, 4))\n",
    "\n",
    "for rep in range(Nreps-1):\n",
    "    plt.plot(ep,input_svs[rep], color='r', linewidth=.5)\n",
    "    plt.plot(ep,hidden_svs[rep], color='r', linewidth=.5)\n",
    "    plt.plot(ep,out_svs[rep], color='r', linewidth=.5)\n",
    "plt.plot(ep,input_svs[-1][:,0], color='r', linewidth=.5,label='Simulations')\n",
    "plt.plot(ep,input_svs[-1][:,1:], color='r', linewidth=.5)\n",
    "plt.plot(ep,hidden_svs[-1], color='r', linewidth=.5)\n",
    "plt.plot(ep,out_svs[-1], color='r', linewidth=.5)\n",
    "\n",
    "#plt.plot(b1, color=plt.cm.cool(.2), label='Input')\n",
    "plt.plot(b2[:,0], color=plt.cm.cool(.4), label='Theory (Hidden)')\n",
    "plt.plot(b2[:,1:], color=plt.cm.cool(.4))\n",
    "plt.plot(b3[:,0], color=plt.cm.cool(.6), label='Theory (In/Out)')\n",
    "plt.plot(b3[:,1:], color=plt.cm.cool(.6))\n",
    "plt.legend(loc='upper right',fontsize=13)#loc=(1.1,.3))\n",
    "plt.xlabel(\"Epoch\")\n",
    "plt.ylabel(\"Singular Value\")\n",
    "plt.ylim((0,5))\n",
    "plt.xlim((0,500))\n",
    "ax2.spines['right'].set_visible(False)\n",
    "ax2.spines['top'].set_visible(False)\n",
    "#plt.xlim((100,500))\n",
    "\n",
    "plt.tight_layout()\n",
    "#plt.show()\n",
    "\n",
    "plt.savefig('routing_network_solution.pdf')"
   ]
  },
  {
   "cell_type": "code",
   "execution_count": null,
   "metadata": {},
   "outputs": [
    {
     "name": "stdout",
     "output_type": "stream",
     "text": [
      "Percentage trained: 0.5714285969734192\n",
      "7\n"
     ]
    },
    {
     "data": {
      "image/png": "[encoded data removed]",
      "text/plain": [
       "<Figure size 432x288 with 1 Axes>"
      ]
     },
     "metadata": {
      "image/png": {
       "height": 258,
       "width": 251
      },
      "needs_background": "light"
     },
     "output_type": "display_data"
    },
    {
     "data": {
      "image/png": "[encoded data removed]",
      "text/plain": [
       "<Figure size 320x320 with 49 Axes>"
      ]
     },
     "metadata": {
      "image/png": {
       "height": 257,
       "width": 263
      },
      "needs_background": "light"
     },
     "output_type": "display_data"
    },
    {
     "data": {
      "image/png": "[encoded data removed]",
      "text/plain": [
       "<Figure size 240x240 with 2 Axes>"
      ]
     },
     "metadata": {
      "image/png": {
       "height": 205,
       "width": 195
      },
      "needs_background": "light"
     },
     "output_type": "display_data"
    },
    {
     "ename": "",
     "evalue": "",
     "output_type": "error",
     "traceback": [
      "\u001b[1;31mRunning cells with 'Python 3.8.9 64-bit' requires ipykernel package.\n",
      "Run the following command to install 'ipykernel' into the Python environment. \n",
      "Command: '/usr/bin/python3 -m pip install ipykernel -U --user --force-reinstall'"
     ]
    }
   ],
   "source": [
    "#\n",
    "plt.imshow(model.gate, cmap=plt.cm.plasma)\n",
    "plt.savefig('num_trained_panel.pdf')\n",
    "print(f\"Percentage trained: {model.gate.mean()}\")\n",
    "# Compute hidden representation correlations within and across modalities\n",
    "M = cfg.num_pathways\n",
    "print(M)\n",
    "plt.figure(figsize=(4, 4), dpi=80)\n",
    "for i in range(M):\n",
    "    i\n",
    "    outA = model.input[i](X)\n",
    "    #outA = model.hidden(outA)\n",
    "    outA = outA.detach().numpy()\n",
    "\n",
    "    for j in range(M):\n",
    "        outB = model.input[j](X)\n",
    "        #outB = model.hidden(outB)\n",
    "        outB = outB.detach().numpy()\n",
    "\n",
    "        plt.subplot(M, M, i*M+j+1)\n",
    "        plt.imshow(np.dot(outA, outB.T), cmap=plt.cm.coolwarm)\n",
    "        plt.clim(-1,1)\n",
    "        plt.axis('off')\n",
    "\n",
    "plt.savefig('routing_rsa_panel.pdf')\n",
    "\n",
    "plt.figure(figsize=(3, 3), dpi=80)\n",
    "plt.imshow(np.dot(outA, outB.T), cmap=plt.cm.coolwarm)\n",
    "plt.clim(-1,1)\n",
    "label_list = ['1', '2', '3', '4']\n",
    "\n",
    "plt.gca().set_xticks([0,1,2,3])\n",
    "plt.gca().set_xticklabels(x_label_list)\n",
    "plt.gca().set_yticks([0,1,2,3])\n",
    "plt.gca().set_yticklabels(x_label_list)\n",
    "\n",
    "plt.colorbar()\n",
    "plt.tight_layout()\n",
    "plt.savefig('rsa_colorbar.pdf')"
   ]
  },
  {
   "cell_type": "code",
   "execution_count": null,
   "metadata": {},
   "outputs": [
    {
     "name": "stdout",
     "output_type": "stream",
     "text": [
      "7\n"
     ]
    },
    {
     "data": {
      "image/png": "[encoded data removed]",
      "text/plain": [
       "<Figure size 432x288 with 2 Axes>"
      ]
     },
     "metadata": {
      "image/png": {
       "height": 261,
       "width": 235
      },
      "needs_background": "light"
     },
     "output_type": "display_data"
    },
    {
     "data": {
      "image/png": "[encoded data removed]",
      "text/plain": [
       "<Figure size 320x320 with 49 Axes>"
      ]
     },
     "metadata": {
      "image/png": {
       "height": 257,
       "width": 250
      },
      "needs_background": "light"
     },
     "output_type": "display_data"
    },
    {
     "ename": "",
     "evalue": "",
     "output_type": "error",
     "traceback": [
      "\u001b[1;31mRunning cells with 'Python 3.8.9 64-bit' requires ipykernel package.\n",
      "Run the following command to install 'ipykernel' into the Python environment. \n",
      "Command: '/usr/bin/python3 -m pip install ipykernel -U --user --force-reinstall'"
     ]
    }
   ],
   "source": [
    "plt.imshow(Y.T, cmap=plt.cm.coolwarm)\n",
    "plt.clim((-6,6))\n",
    "plt.colorbar(ticks=[-5, 0, 5])\n",
    "\n",
    "plt.gca().set_xticks([0,1,2,3])\n",
    "plt.gca().set_xticklabels(x_label_list)\n",
    "plt.gca().set_yticks(np.linspace(0,6,7))\n",
    "plt.gca().set_yticklabels([r+1 for r in range(7)])\n",
    "plt.xlabel('Item')\n",
    "plt.ylabel('Feature')\n",
    "plt.tight_layout()\n",
    "plt.savefig('routing_dataset.pdf')\n",
    "\n",
    "M = cfg.num_pathways\n",
    "print(M)\n",
    "plt.figure(figsize=(4, 4), dpi=80)\n",
    "for i in range(M):\n",
    "    outA = model.input[i](X)\n",
    "    h = model.hidden(outA)\n",
    "\n",
    "    for j in range(M):\n",
    "        o = model.out[j](h)\n",
    "\n",
    "        plt.subplot(M, M, i*M+j+1)\n",
    "        plt.imshow(o.detach().numpy().T,cmap=plt.cm.coolwarm)\n",
    "        plt.clim((-6, 6))\n",
    "        plt.axis('off')\n",
    "\n",
    "plt.savefig('routing_output.pdf')\n",
    "#plt.tight_layout()"
   ]
  },
  {
   "cell_type": "code",
   "execution_count": null,
   "metadata": {},
   "outputs": [
    {
     "data": {
      "text/plain": [
       "array([[ 6.0050268e+00,  3.9990511e+00,  1.4412999e-03,  3.0069780e+00,\n",
       "        -6.4321756e-03,  4.6759546e-03, -5.9421062e-03],\n",
       "       [ 5.9943690e+00,  4.0021176e+00, -6.7355633e-03, -8.0030859e-03,\n",
       "         3.0062938e+00, -5.8794618e-03,  4.1046739e-03],\n",
       "       [ 6.0073738e+00, -2.0254031e-04,  4.0054593e+00,  4.1840896e-03,\n",
       "        -6.4378232e-03,  3.0099769e+00, -7.7995956e-03],\n",
       "       [ 5.9949312e+00,  2.6950538e-03,  3.9961281e+00, -1.7738044e-03,\n",
       "         2.2489429e-03, -7.0018098e-03,  3.0068510e+00]], dtype=float32)"
      ]
     },
     "execution_count": 77,
     "metadata": {},
     "output_type": "execute_result"
    },
    {
     "ename": "",
     "evalue": "",
     "output_type": "error",
     "traceback": [
      "\u001b[1;31mRunning cells with 'Python 3.8.9 64-bit' requires ipykernel package.\n",
      "Run the following command to install 'ipykernel' into the Python environment. \n",
      "Command: '/usr/bin/python3 -m pip install ipykernel -U --user --force-reinstall'"
     ]
    }
   ],
   "source": []
  },
  {
   "cell_type": "markdown",
   "metadata": {
    "id": "Hkkv-LjISkE4"
   },
   "source": [
    "**Old Code from here On**\n"
   ]
  },
  {
   "cell_type": "code",
   "execution_count": null,
   "metadata": {
    "ExecuteTime": {
     "end_time": "2021-08-23T14:59:39.515389Z",
     "start_time": "2021-08-23T14:59:39.506434Z"
    },
    "id": "5951bf33"
   },
   "outputs": [
    {
     "ename": "",
     "evalue": "",
     "output_type": "error",
     "traceback": [
      "\u001b[1;31mRunning cells with 'Python 3.8.9 64-bit' requires ipykernel package.\n",
      "Run the following command to install 'ipykernel' into the Python environment. \n",
      "Command: '/usr/bin/python3 -m pip install ipykernel -U --user --force-reinstall'"
     ]
    }
   ],
   "source": [
    "# class GatedDLN(nn.Module):\n",
    "#     def __init__(\n",
    "#         self, num_pathways, input_dim, hidden_dims, output_dim, case, should_use_bias\n",
    "#     ):\n",
    "#         super().__init__()\n",
    "#         self.input = nn.ModuleList(\n",
    "#             [\n",
    "#                 nn.Linear(input_dim, hidden_dims[0], bias=should_use_bias)\n",
    "#                 for _ in range(num_pathways)\n",
    "#             ]\n",
    "#         )\n",
    "\n",
    "#         hidden = []\n",
    "#         self.case = case\n",
    "#         if self.case == \"1\":\n",
    "#             hidden.append(\n",
    "#                 nn.ModuleList(\n",
    "#                     [\n",
    "#                         nn.Linear(hidden_dims[0], hidden_dims[1], bias=should_use_bias)\n",
    "#                         for _ in range(num_pathways)\n",
    "#                     ]\n",
    "#                 )\n",
    "#             )\n",
    "#         elif self.case == \"2\":\n",
    "#             hidden.append(\n",
    "#                 nn.Linear(hidden_dims[0], hidden_dims[1], bias=should_use_bias)\n",
    "#             )\n",
    "#         else:\n",
    "#             raise NotImplementedError(f\"case={case} is not supported.\")\n",
    "#         for index in range(1, len(hidden_dims) - 1):\n",
    "#             hidden.append(\n",
    "#                 nn.Linear(\n",
    "#                     hidden_dims[index], hidden_dims[index + 1], bias=should_use_bias\n",
    "#                 )\n",
    "#             )\n",
    "#         self.hidden = nn.ModuleList(hidden)\n",
    "\n",
    "#         self.out = nn.ModuleList(\n",
    "#             [\n",
    "#                 nn.Linear(hidden_dims[-1], output_dim, bias=should_use_bias)\n",
    "#                 for _ in range(num_pathways)\n",
    "#             ]\n",
    "#         )\n",
    "\n",
    "#     def forward(self, x):\n",
    "\n",
    "\n",
    "#         out = run_one_domain_per_module(x, self.input)\n",
    "#         if self.case == \"1\":\n",
    "#             out = [layer(o) for layer, o in zip(self.hidden[0],out)]\n",
    "#         else:\n",
    "#             out = self.hidden[0](out)\n",
    "\n",
    "#         for _hidden in self.hidden[1:]:\n",
    "#             out = [_hidden(o) for o in out]\n",
    "\n",
    "#         out = [layer(o) for layer, o in zip(model.out,out)]\n",
    "\n",
    "\n",
    "#         return out\n",
    "\n",
    "# def run_one_input_per_module(x_list, module_list):\n",
    "#     return torch.cat(\n",
    "#         [module(x).unsqueeze(0) for x, module in zip(x_list, module_list)], dim=0\n",
    "#     )\n",
    "# def run_one_domain_per_module(x_list, module_list):\n",
    "#     return [module(x_list) for module in module_list]\n",
    "\n",
    "# def init_weights(m):\n",
    "#     if type(m) == nn.Linear:\n",
    "#         torch.nn.init.orthogonal_(m.weight, gain=cfg.init_scale)"
   ]
  },
  {
   "cell_type": "code",
   "execution_count": null,
   "metadata": {
    "ExecuteTime": {
     "end_time": "2021-08-23T14:59:39.660700Z",
     "start_time": "2021-08-23T14:59:39.654381Z"
    },
    "colab": {
     "base_uri": "https://localhost:8080/"
    },
    "id": "cf61157e",
    "outputId": "dad48db8-55ae-4c8b-dc5b-dda3413f296a"
   },
   "outputs": [
    {
     "data": {
      "text/plain": [
       "tensor([[[1.],\n",
       "         [1.],\n",
       "         [1.],\n",
       "         [1.]],\n",
       "\n",
       "        [[1.],\n",
       "         [1.],\n",
       "         [1.],\n",
       "         [1.]],\n",
       "\n",
       "        [[1.],\n",
       "         [1.],\n",
       "         [1.],\n",
       "         [1.]],\n",
       "\n",
       "        [[1.],\n",
       "         [1.],\n",
       "         [1.],\n",
       "         [1.]]])"
      ]
     },
     "execution_count": 14,
     "metadata": {},
     "output_type": "execute_result"
    },
    {
     "ename": "",
     "evalue": "",
     "output_type": "error",
     "traceback": [
      "\u001b[1;31mRunning cells with 'Python 3.8.9 64-bit' requires ipykernel package.\n",
      "Run the following command to install 'ipykernel' into the Python environment. \n",
      "Command: '/usr/bin/python3 -m pip install ipykernel -U --user --force-reinstall'"
     ]
    }
   ],
   "source": [
    "\n",
    "device = torch.device(\"cpu\")\n",
    "\n",
    "model = GatedDLN(\n",
    "    num_tasks=4,\n",
    "    input_dim=cfg.input_dim,\n",
    "    hidden_dims=cfg.hidden_dims,\n",
    "    output_dim=cfg.output_dim,\n",
    "    case=cfg.case,\n",
    "    should_use_bias=cfg.should_use_bias,\n",
    ").to(device)\n",
    "\n",
    "\n",
    "model.apply(init_weights)\n",
    "model.gate"
   ]
  },
  {
   "cell_type": "code",
   "execution_count": null,
   "metadata": {
    "ExecuteTime": {
     "end_time": "2021-08-23T14:59:40.910974Z",
     "start_time": "2021-08-23T14:59:39.831316Z"
    },
    "colab": {
     "base_uri": "https://localhost:8080/",
     "height": 307
    },
    "id": "ca1a54d6",
    "outputId": "8c8724e9-fbbe-4845-a5f1-5c689dbafda1"
   },
   "outputs": [
    {
     "ename": "TypeError",
     "evalue": "forward() missing 1 required positional argument: 'y'",
     "output_type": "error",
     "traceback": [
      "\u001b[0;31m---------------------------------------------------------------------------\u001b[0m",
      "\u001b[0;31mTypeError\u001b[0m                                 Traceback (most recent call last)",
      "\u001b[0;32m/var/folders/6n/8rvljjx97s9bv6xg4wzx46r80000gn/T/ipykernel_19475/403470921.py\u001b[0m in \u001b[0;36m<module>\u001b[0;34m\u001b[0m\n\u001b[1;32m     13\u001b[0m \u001b[0;32mfor\u001b[0m \u001b[0mepoch\u001b[0m \u001b[0;32min\u001b[0m \u001b[0mrange\u001b[0m\u001b[0;34m(\u001b[0m\u001b[0mcfg\u001b[0m\u001b[0;34m.\u001b[0m\u001b[0mnum_epochs\u001b[0m\u001b[0;34m)\u001b[0m\u001b[0;34m:\u001b[0m\u001b[0;34m\u001b[0m\u001b[0;34m\u001b[0m\u001b[0m\n\u001b[1;32m     14\u001b[0m     \u001b[0moptimizer\u001b[0m\u001b[0;34m.\u001b[0m\u001b[0mzero_grad\u001b[0m\u001b[0;34m(\u001b[0m\u001b[0;34m)\u001b[0m\u001b[0;34m\u001b[0m\u001b[0;34m\u001b[0m\u001b[0m\n\u001b[0;32m---> 15\u001b[0;31m     \u001b[0moutput\u001b[0m \u001b[0;34m=\u001b[0m \u001b[0mmodel\u001b[0m\u001b[0;34m(\u001b[0m\u001b[0mX\u001b[0m\u001b[0;34m)\u001b[0m\u001b[0;34m\u001b[0m\u001b[0;34m\u001b[0m\u001b[0m\n\u001b[0m\u001b[1;32m     16\u001b[0m     \u001b[0mloss\u001b[0m \u001b[0;34m=\u001b[0m \u001b[0mtorch\u001b[0m\u001b[0;34m.\u001b[0m\u001b[0msum\u001b[0m\u001b[0;34m(\u001b[0m\u001b[0mtorch\u001b[0m\u001b[0;34m.\u001b[0m\u001b[0mcat\u001b[0m\u001b[0;34m(\u001b[0m\u001b[0;34m[\u001b[0m\u001b[0mloss_fn\u001b[0m\u001b[0;34m(\u001b[0m\u001b[0mo\u001b[0m\u001b[0;34m,\u001b[0m \u001b[0mY\u001b[0m\u001b[0;34m)\u001b[0m\u001b[0;34m.\u001b[0m\u001b[0munsqueeze\u001b[0m\u001b[0;34m(\u001b[0m\u001b[0;36m0\u001b[0m\u001b[0;34m)\u001b[0m \u001b[0;32mfor\u001b[0m \u001b[0mo\u001b[0m \u001b[0;32min\u001b[0m \u001b[0moutput\u001b[0m\u001b[0;34m]\u001b[0m\u001b[0;34m)\u001b[0m\u001b[0;34m)\u001b[0m\u001b[0;34m\u001b[0m\u001b[0;34m\u001b[0m\u001b[0m\n\u001b[1;32m     17\u001b[0m     \u001b[0mloss_list\u001b[0m\u001b[0;34m.\u001b[0m\u001b[0mappend\u001b[0m\u001b[0;34m(\u001b[0m\u001b[0mloss\u001b[0m\u001b[0;34m.\u001b[0m\u001b[0mdetach\u001b[0m\u001b[0;34m(\u001b[0m\u001b[0;34m)\u001b[0m\u001b[0;34m.\u001b[0m\u001b[0mcpu\u001b[0m\u001b[0;34m(\u001b[0m\u001b[0;34m)\u001b[0m\u001b[0;34m)\u001b[0m\u001b[0;34m\u001b[0m\u001b[0;34m\u001b[0m\u001b[0m\n",
      "\u001b[0;32m~/mambaforge/envs/xaj/lib/python3.9/site-packages/torch/nn/modules/module.py\u001b[0m in \u001b[0;36m_call_impl\u001b[0;34m(self, *input, **kwargs)\u001b[0m\n\u001b[1;32m   1100\u001b[0m         if not (self._backward_hooks or self._forward_hooks or self._forward_pre_hooks or _global_backward_hooks\n\u001b[1;32m   1101\u001b[0m                 or _global_forward_hooks or _global_forward_pre_hooks):\n\u001b[0;32m-> 1102\u001b[0;31m             \u001b[0;32mreturn\u001b[0m \u001b[0mforward_call\u001b[0m\u001b[0;34m(\u001b[0m\u001b[0;34m*\u001b[0m\u001b[0minput\u001b[0m\u001b[0;34m,\u001b[0m \u001b[0;34m**\u001b[0m\u001b[0mkwargs\u001b[0m\u001b[0;34m)\u001b[0m\u001b[0;34m\u001b[0m\u001b[0;34m\u001b[0m\u001b[0m\n\u001b[0m\u001b[1;32m   1103\u001b[0m         \u001b[0;31m# Do not call functions when jit is used\u001b[0m\u001b[0;34m\u001b[0m\u001b[0;34m\u001b[0m\u001b[0m\n\u001b[1;32m   1104\u001b[0m         \u001b[0mfull_backward_hooks\u001b[0m\u001b[0;34m,\u001b[0m \u001b[0mnon_full_backward_hooks\u001b[0m \u001b[0;34m=\u001b[0m \u001b[0;34m[\u001b[0m\u001b[0;34m]\u001b[0m\u001b[0;34m,\u001b[0m \u001b[0;34m[\u001b[0m\u001b[0;34m]\u001b[0m\u001b[0;34m\u001b[0m\u001b[0;34m\u001b[0m\u001b[0m\n",
      "\u001b[0;31mTypeError\u001b[0m: forward() missing 1 required positional argument: 'y'"
     ]
    },
    {
     "ename": "",
     "evalue": "",
     "output_type": "error",
     "traceback": [
      "\u001b[1;31mRunning cells with 'Python 3.8.9 64-bit' requires ipykernel package.\n",
      "Run the following command to install 'ipykernel' into the Python environment. \n",
      "Command: '/usr/bin/python3 -m pip install ipykernel -U --user --force-reinstall'"
     ]
    }
   ],
   "source": [
    "def make_cls(cfg, kwargs=None):\n",
    "    module, cls = cfg.pop(\"cls\").rsplit(\".\", 1)\n",
    "    if kwargs is None:\n",
    "        kwargs = {}\n",
    "    return getattr(import_module(module), cls)(**cfg, **kwargs)\n",
    "\n",
    "\n",
    "loss_fn = make_cls(cfg=deepcopy(cfg.loss))\n",
    "\n",
    "optimizer = make_cls(\n",
    "    cfg=deepcopy(\n",
    "        cfg.optimizer), kwargs={\n",
    "            \"params\": model.parameters()})\n",
    "\n",
    "loss_list = []\n",
    "for epoch in range(cfg.num_epochs):\n",
    "    optimizer.zero_grad()\n",
    "    output = model(X)\n",
    "    loss = torch.sum(torch.cat([loss_fn(o, Y).unsqueeze(0) for o in output]))\n",
    "    loss_list.append(loss.detach().cpu())\n",
    "    loss.backward()\n",
    "    optimizer.step()\n",
    "\n",
    "plt.plot(loss_list, label=\"loss\")\n",
    "plt.xlabel(\"number of updates\")\n",
    "plt.ylabel(\"loss\")\n",
    "plt.legend()"
   ]
  },
  {
   "cell_type": "code",
   "execution_count": null,
   "metadata": {
    "colab": {
     "base_uri": "https://localhost:8080/",
     "height": 260
    },
    "id": "cf0886a4",
    "outputId": "6a65dd4a-d35a-4b60-8776-9a346fc7a055"
   },
   "outputs": [
    {
     "data": {
      "text/plain": [
       "<matplotlib.image.AxesImage at 0x7f16c144e990>"
      ]
     },
     "execution_count": 11,
     "metadata": {},
     "output_type": "execute_result"
    },
    {
     "data": {
      "image/png": "[encoded data removed]",
      "text/plain": [
       "<Figure size 432x288 with 1 Axes>"
      ]
     },
     "metadata": {
      "needs_background": "light"
     },
     "output_type": "display_data"
    },
    {
     "ename": "",
     "evalue": "",
     "output_type": "error",
     "traceback": [
      "\u001b[1;31mRunning cells with 'Python 3.8.9 64-bit' requires ipykernel package.\n",
      "Run the following command to install 'ipykernel' into the Python environment. \n",
      "Command: '/usr/bin/python3 -m pip install ipykernel -U --user --force-reinstall'"
     ]
    }
   ],
   "source": [
    "plt.imshow(output[0].detach().numpy())"
   ]
  },
  {
   "cell_type": "code",
   "execution_count": null,
   "metadata": {
    "id": "Szy3sYioMVK5",
    "outputId": "6802e1b9-217b-4e27-bce1-54e902c7ad91"
   },
   "outputs": [
    {
     "data": {
      "image/png": "[encoded data removed]",
      "text/plain": [
       "<Figure size 432x288 with 2 Axes>"
      ]
     },
     "metadata": {
      "needs_background": "light"
     },
     "output_type": "display_data"
    },
    {
     "data": {
      "image/png": "[encoded data removed]",
      "text/plain": [
       "<Figure size 432x288 with 2 Axes>"
      ]
     },
     "metadata": {
      "needs_background": "light"
     },
     "output_type": "display_data"
    },
    {
     "data": {
      "image/png": "[encoded data removed]",
      "text/plain": [
       "<Figure size 432x288 with 2 Axes>"
      ]
     },
     "metadata": {
      "needs_background": "light"
     },
     "output_type": "display_data"
    },
    {
     "ename": "",
     "evalue": "",
     "output_type": "error",
     "traceback": [
      "\u001b[1;31mRunning cells with 'Python 3.8.9 64-bit' requires ipykernel package.\n",
      "Run the following command to install 'ipykernel' into the Python environment. \n",
      "Command: '/usr/bin/python3 -m pip install ipykernel -U --user --force-reinstall'"
     ]
    }
   ],
   "source": [
    "# Compute hidden representation correlations within and across modalities\n",
    "\n",
    "outA = model.input[0](X)\n",
    "outA = model.hidden[0][0](outA)\n",
    "outA = outA.detach().numpy()\n",
    "\n",
    "outB = model.input[1](X)\n",
    "outB = model.hidden[0][1](outB)\n",
    "outB = outB.detach().numpy()\n",
    "\n",
    "\n",
    "plt.imshow(np.dot(outA, outA.T))\n",
    "plt.colorbar()\n",
    "plt.show()\n",
    "\n",
    "plt.imshow(np.dot(outA, outB.T))\n",
    "plt.colorbar()\n",
    "plt.show()\n",
    "\n",
    "plt.imshow(np.dot(outB, outB.T))\n",
    "plt.colorbar()\n",
    "plt.show()"
   ]
  },
  {
   "cell_type": "code",
   "execution_count": null,
   "metadata": {
    "id": "iZ5zuWGyMVK6"
   },
   "outputs": [
    {
     "ename": "",
     "evalue": "",
     "output_type": "error",
     "traceback": [
      "\u001b[1;31mRunning cells with 'Python 3.8.9 64-bit' requires ipykernel package.\n",
      "Run the following command to install 'ipykernel' into the Python environment. \n",
      "Command: '/usr/bin/python3 -m pip install ipykernel -U --user --force-reinstall'"
     ]
    }
   ],
   "source": [
    "Nreps = 10\n",
    "cfg.num_pathways = 10\n",
    "res_share = np.zeros((Nreps, cfg.num_epochs))\n",
    "for r in range(Nreps):\n",
    "    model = GatedDLN(\n",
    "        num_pathways=cfg.num_pathways,\n",
    "        input_dim=cfg.input_dim,\n",
    "        hidden_dims=cfg.hidden_dims,\n",
    "        output_dim=cfg.output_dim,\n",
    "        case=cfg.case,\n",
    "        should_use_bias=cfg.should_use_bias,\n",
    "    ).to(device)\n",
    "\n",
    "    model.apply(init_weights)\n",
    "\n",
    "    def make_cls(cfg, kwargs=None):\n",
    "        module, cls = cfg.pop(\"cls\").rsplit(\".\", 1)\n",
    "        if kwargs is None:\n",
    "            kwargs = {}\n",
    "        return getattr(import_module(module), cls)(**cfg, **kwargs)\n",
    "\n",
    "    loss_fn = make_cls(cfg=deepcopy(cfg.loss))\n",
    "\n",
    "    optimizer = make_cls(\n",
    "        cfg=deepcopy(\n",
    "            cfg.optimizer), kwargs={\n",
    "            \"params\": model.parameters()})\n",
    "\n",
    "    for epoch in range(cfg.num_epochs):\n",
    "        optimizer.zero_grad()\n",
    "        output = model(X)\n",
    "        loss = torch.sum(\n",
    "            torch.cat([loss_fn(o, Y).unsqueeze(0) for o in output]))\n",
    "        # loss_list.append(loss.detach().cpu()/cfg.num_pathways)\n",
    "        res_share[r, epoch] = loss.detach().cpu()/cfg.num_pathways\n",
    "        loss.backward()\n",
    "        optimizer.step()\n",
    "\n",
    "    #plt.plot(loss_list, color='r',alpha=.4)\n",
    "    #plt.xlabel(\"number of updates\")\n",
    "    # plt.ylabel(\"loss\")\n",
    "    # plt.legend()\n",
    "\n",
    "cfg.num_pathways = 1\n",
    "res_indep = np.zeros((Nreps, cfg.num_epochs))\n",
    "for r in range(Nreps):\n",
    "    model = GatedDLN(\n",
    "        num_pathways=cfg.num_pathways,\n",
    "        input_dim=cfg.input_dim,\n",
    "        hidden_dims=cfg.hidden_dims,\n",
    "        output_dim=cfg.output_dim,\n",
    "        case=cfg.case,\n",
    "        should_use_bias=cfg.should_use_bias,\n",
    "    ).to(device)\n",
    "\n",
    "    model.apply(init_weights)\n",
    "\n",
    "    def make_cls(cfg, kwargs=None):\n",
    "        module, cls = cfg.pop(\"cls\").rsplit(\".\", 1)\n",
    "        if kwargs is None:\n",
    "            kwargs = {}\n",
    "        return getattr(import_module(module), cls)(**cfg, **kwargs)\n",
    "\n",
    "    loss_fn = make_cls(cfg=deepcopy(cfg.loss))\n",
    "\n",
    "    optimizer = make_cls(\n",
    "        cfg=deepcopy(\n",
    "            cfg.optimizer), kwargs={\n",
    "            \"params\": model.parameters()})\n",
    "\n",
    "    loss_list = []\n",
    "    for epoch in range(cfg.num_epochs):\n",
    "        optimizer.zero_grad()\n",
    "        output = model(X)\n",
    "        loss = torch.sum(\n",
    "            torch.cat([loss_fn(o, Y).unsqueeze(0) for o in output]))\n",
    "        # loss_list.append(loss.detach().cpu())\n",
    "        res_indep[r, epoch] = loss.detach().cpu()\n",
    "        loss.backward()\n",
    "        optimizer.step()\n",
    "\n",
    "    #plt.plot(loss_list, color='b',alpha=.4)\n",
    "    #plt.xlabel(\"number of updates\")\n",
    "    # plt.ylabel(\"loss\")\n",
    "    # plt.legend()"
   ]
  },
  {
   "cell_type": "code",
   "execution_count": null,
   "metadata": {
    "id": "ncYNepaTMVK7",
    "outputId": "ded09466-6f3e-4c2f-cbd5-29955bea8bba"
   },
   "outputs": [
    {
     "data": {
      "image/png": "[encoded data removed]",
      "text/plain": [
       "<Figure size 432x288 with 1 Axes>"
      ]
     },
     "metadata": {
      "needs_background": "light"
     },
     "output_type": "display_data"
    },
    {
     "ename": "",
     "evalue": "",
     "output_type": "error",
     "traceback": [
      "\u001b[1;31mRunning cells with 'Python 3.8.9 64-bit' requires ipykernel package.\n",
      "Run the following command to install 'ipykernel' into the Python environment. \n",
      "Command: '/usr/bin/python3 -m pip install ipykernel -U --user --force-reinstall'"
     ]
    }
   ],
   "source": [
    "plt.plot(np.sqrt(np.mean(res_share, axis=0)), label=\"M=10\", color='r')\n",
    "plt.plot(np.sqrt(res_share.T), color='r', alpha=.2)\n",
    "plt.plot(np.sqrt(np.mean(res_indep, axis=0)), label=\"M=1\", color='b')\n",
    "plt.plot(np.sqrt(res_indep.T), color='b', alpha=.2)\n",
    "plt.legend()\n",
    "plt.show()"
   ]
  },
  {
   "cell_type": "code",
   "execution_count": null,
   "metadata": {
    "id": "HHU_iwwdMVK8",
    "outputId": "fe20551b-f6e3-4c30-f365-28dd66bbd936"
   },
   "outputs": [
    {
     "data": {
      "image/png": "[encoded data removed]",
      "text/plain": [
       "<Figure size 432x288 with 1 Axes>"
      ]
     },
     "metadata": {
      "needs_background": "light"
     },
     "output_type": "display_data"
    },
    {
     "ename": "",
     "evalue": "",
     "output_type": "error",
     "traceback": [
      "\u001b[1;31mRunning cells with 'Python 3.8.9 64-bit' requires ipykernel package.\n",
      "Run the following command to install 'ipykernel' into the Python environment. \n",
      "Command: '/usr/bin/python3 -m pip install ipykernel -U --user --force-reinstall'"
     ]
    }
   ],
   "source": [
    "plt.plot(np.mean(res_share, axis=0), label=\"M=10\", color='r')\n",
    "plt.plot(res_share.T, color='r', alpha=.2)\n",
    "plt.plot(np.mean(res_indep, axis=0), label=\"M=1\", color='b')\n",
    "plt.plot(res_indep.T, color='b', alpha=.2)\n",
    "plt.legend()\n",
    "plt.show()"
   ]
  },
  {
   "cell_type": "code",
   "execution_count": null,
   "metadata": {
    "id": "je4otWUtMVK8",
    "outputId": "429236c7-48c8-4ad4-b8f5-864bcacae34f"
   },
   "outputs": [
    {
     "data": {
      "image/png": "[encoded data removed]",
      "text/plain": [
       "<Figure size 432x288 with 1 Axes>"
      ]
     },
     "metadata": {
      "needs_background": "light"
     },
     "output_type": "display_data"
    },
    {
     "ename": "",
     "evalue": "",
     "output_type": "error",
     "traceback": [
      "\u001b[1;31mRunning cells with 'Python 3.8.9 64-bit' requires ipykernel package.\n",
      "Run the following command to install 'ipykernel' into the Python environment. \n",
      "Command: '/usr/bin/python3 -m pip install ipykernel -U --user --force-reinstall'"
     ]
    }
   ],
   "source": [
    "plt.semilogy(np.mean(res_share, axis=0), label=\"M=10\", color='r')\n",
    "plt.semilogy(res_share.T, color='r', alpha=.2)\n",
    "plt.semilogy(np.mean(res_indep, axis=0), label=\"M=1\", color='b')\n",
    "plt.semilogy(res_indep.T, color='b', alpha=.2)\n",
    "plt.legend()\n",
    "plt.show()"
   ]
  },
  {
   "cell_type": "markdown",
   "metadata": {
    "id": "rwCca1UrMVK9"
   },
   "source": [
    "# Test impact of initialisation scale\n",
    "\n"
   ]
  },
  {
   "cell_type": "code",
   "execution_count": null,
   "metadata": {
    "id": "vlR-Cos5MVK9",
    "outputId": "9af0070a-d49d-4184-d32d-6ff25b89e192"
   },
   "outputs": [
    {
     "name": "stdout",
     "output_type": "stream",
     "text": [
      "X: tensor([[1., 0., 0., 0.],\n",
      "        [0., 1., 0., 0.],\n",
      "        [0., 0., 1., 0.],\n",
      "        [0., 0., 0., 1.]])\n",
      "Y: tensor([[4., 3., 0., 0., 0., 0., 0.],\n",
      "        [4., 3., 0., 0., 0., 0., 0.],\n",
      "        [4., 0., 3., 0., 0., 0., 0.],\n",
      "        [4., 0., 3., 0., 0., 0., 0.]])\n",
      "Created Tensors\n"
     ]
    },
    {
     "ename": "",
     "evalue": "",
     "output_type": "error",
     "traceback": [
      "\u001b[1;31mRunning cells with 'Python 3.8.9 64-bit' requires ipykernel package.\n",
      "Run the following command to install 'ipykernel' into the Python environment. \n",
      "Command: '/usr/bin/python3 -m pip install ipykernel -U --user --force-reinstall'"
     ]
    }
   ],
   "source": [
    "X = torch.eye(n=cfg.input_dim).to(device)\n",
    "Y = (\n",
    "    torch.cat(\n",
    "        [\n",
    "            4.*torch.ones((1, cfg.input_dim)),\n",
    "            torch.tensor([3, 3, 0, 0]).unsqueeze(0),\n",
    "            torch.tensor([0, 0, 3, 3]).unsqueeze(0),\n",
    "            0.*torch.eye(n=cfg.input_dim),\n",
    "        ]\n",
    "    )\n",
    "    .to(device)\n",
    "    .t()\n",
    ")\n",
    "print(f\"X: {X}\")\n",
    "print(f\"Y: {Y}\")\n",
    "print(\"Created Tensors\")"
   ]
  },
  {
   "cell_type": "code",
   "execution_count": null,
   "metadata": {
    "id": "yythXz5qMVK-"
   },
   "outputs": [
    {
     "ename": "",
     "evalue": "",
     "output_type": "error",
     "traceback": [
      "\u001b[1;31mRunning cells with 'Python 3.8.9 64-bit' requires ipykernel package.\n",
      "Run the following command to install 'ipykernel' into the Python environment. \n",
      "Command: '/usr/bin/python3 -m pip install ipykernel -U --user --force-reinstall'"
     ]
    }
   ],
   "source": [
    "cfg = OmegaConf.create(\n",
    "    {\n",
    "        \"num_pathways\": 5,  # this is M\n",
    "        # for the ith layer, hidden_dims[i] is the input dim and\n",
    "        # hidden_dims[i+1] is the output dim\n",
    "        \"hidden_dims\": [164, 164, 164, 164],\n",
    "        #         \"hidden_dims\": [16, 32, 64, 128],\n",
    "        \"input_dim\": 4,\n",
    "        \"output_dim\": 7,\n",
    "        \"case\": \"1\",  # from the google doc\n",
    "        \"init_scale\": .1,  # .15,#.15,\n",
    "        \"should_use_bias\": False,\n",
    "        \"num_epochs\": 80000,\n",
    "        \"loss\": {\n",
    "            \"cls\": \"torch.nn.MSELoss\",\n",
    "        },\n",
    "        #         \"optimizer\": {\n",
    "        #             \"cls\": \"torch.optim.Adam\",\n",
    "        #             \"lr\": 0.0001,\n",
    "        #             \"betas\": [0.9, 0.999],\n",
    "        #             \"eps\": 1e-08,\n",
    "        #             \"weight_decay\": 0,\n",
    "        #             \"amsgrad\": False,\n",
    "        #         },\n",
    "        \"optimizer\": {\n",
    "            \"cls\": \"torch.optim.SGD\",\n",
    "            \"lr\": .05,\n",
    "            \"momentum\": 0,\n",
    "            \"dampening\": 0,\n",
    "            \"weight_decay\": 0,\n",
    "            \"nesterov\": False,\n",
    "        },\n",
    "    }\n",
    ")\n",
    "# cfg is a dictionary with \".\" access eg cfg[\"abc\"] == cfg.abc\n",
    "\n",
    "device = torch.device(\"cpu\")"
   ]
  },
  {
   "cell_type": "code",
   "execution_count": null,
   "metadata": {
    "id": "6dAl2-ajMVK-",
    "outputId": "ce851e08-0f04-4967-a4ac-fc74c541f536"
   },
   "outputs": [
    {
     "data": {
      "text/plain": [
       "GatedDLN(\n",
       "  (input): ModuleList(\n",
       "    (0): Linear(in_features=4, out_features=164, bias=False)\n",
       "    (1): Linear(in_features=4, out_features=164, bias=False)\n",
       "    (2): Linear(in_features=4, out_features=164, bias=False)\n",
       "    (3): Linear(in_features=4, out_features=164, bias=False)\n",
       "    (4): Linear(in_features=4, out_features=164, bias=False)\n",
       "  )\n",
       "  (hidden): ModuleList(\n",
       "    (0): ModuleList(\n",
       "      (0): Linear(in_features=164, out_features=164, bias=False)\n",
       "      (1): Linear(in_features=164, out_features=164, bias=False)\n",
       "      (2): Linear(in_features=164, out_features=164, bias=False)\n",
       "      (3): Linear(in_features=164, out_features=164, bias=False)\n",
       "      (4): Linear(in_features=164, out_features=164, bias=False)\n",
       "    )\n",
       "    (1): Linear(in_features=164, out_features=164, bias=False)\n",
       "    (2): Linear(in_features=164, out_features=164, bias=False)\n",
       "  )\n",
       "  (out): ModuleList(\n",
       "    (0): Linear(in_features=164, out_features=7, bias=False)\n",
       "    (1): Linear(in_features=164, out_features=7, bias=False)\n",
       "    (2): Linear(in_features=164, out_features=7, bias=False)\n",
       "    (3): Linear(in_features=164, out_features=7, bias=False)\n",
       "    (4): Linear(in_features=164, out_features=7, bias=False)\n",
       "  )\n",
       ")"
      ]
     },
     "execution_count": 108,
     "metadata": {},
     "output_type": "execute_result"
    },
    {
     "ename": "",
     "evalue": "",
     "output_type": "error",
     "traceback": [
      "\u001b[1;31mRunning cells with 'Python 3.8.9 64-bit' requires ipykernel package.\n",
      "Run the following command to install 'ipykernel' into the Python environment. \n",
      "Command: '/usr/bin/python3 -m pip install ipykernel -U --user --force-reinstall'"
     ]
    }
   ],
   "source": [
    "model = GatedDLN(\n",
    "    num_pathways=cfg.num_pathways,\n",
    "    input_dim=cfg.input_dim,\n",
    "    hidden_dims=cfg.hidden_dims,\n",
    "    output_dim=cfg.output_dim,\n",
    "    case=cfg.case,\n",
    "    should_use_bias=cfg.should_use_bias,\n",
    ").to(device)\n",
    "\n",
    "model.apply(init_weights)\n",
    "model"
   ]
  },
  {
   "cell_type": "code",
   "execution_count": null,
   "metadata": {
    "id": "gXEbZXIDMVK_",
    "outputId": "86dea76b-4120-44c8-f173-746b4878fb7d"
   },
   "outputs": [
    {
     "data": {
      "text/plain": [
       "<matplotlib.legend.Legend at 0x7f8de94f5e50>"
      ]
     },
     "execution_count": 109,
     "metadata": {},
     "output_type": "execute_result"
    },
    {
     "data": {
      "image/png": "[encoded data removed]",
      "text/plain": [
       "<Figure size 432x288 with 1 Axes>"
      ]
     },
     "metadata": {
      "needs_background": "light"
     },
     "output_type": "display_data"
    },
    {
     "ename": "",
     "evalue": "",
     "output_type": "error",
     "traceback": [
      "\u001b[1;31mRunning cells with 'Python 3.8.9 64-bit' requires ipykernel package.\n",
      "Run the following command to install 'ipykernel' into the Python environment. \n",
      "Command: '/usr/bin/python3 -m pip install ipykernel -U --user --force-reinstall'"
     ]
    }
   ],
   "source": [
    "def make_cls(cfg, kwargs=None):\n",
    "    module, cls = cfg.pop(\"cls\").rsplit(\".\", 1)\n",
    "    if kwargs is None:\n",
    "        kwargs = {}\n",
    "    return getattr(import_module(module), cls)(**cfg, **kwargs)\n",
    "\n",
    "\n",
    "loss_fn = make_cls(cfg=deepcopy(cfg.loss))\n",
    "\n",
    "optimizer = make_cls(\n",
    "    cfg=deepcopy(\n",
    "        cfg.optimizer), kwargs={\n",
    "            \"params\": model.parameters()})\n",
    "\n",
    "loss_list = []\n",
    "for epoch in range(cfg.num_epochs):\n",
    "    optimizer.zero_grad()\n",
    "    output = model(X)\n",
    "    loss = torch.sum(torch.cat([loss_fn(o, Y).unsqueeze(0) for o in output]))\n",
    "    loss_list.append(loss.detach().cpu())\n",
    "    loss.backward()\n",
    "    optimizer.step()\n",
    "\n",
    "plt.plot(loss_list, label=\"loss\")\n",
    "plt.xlabel(\"number of updates\")\n",
    "plt.ylabel(\"loss\")\n",
    "plt.legend()"
   ]
  },
  {
   "cell_type": "code",
   "execution_count": null,
   "metadata": {
    "id": "Pa9QCfPTMVLA",
    "outputId": "01788972-d045-443c-816b-58e6397d54b2"
   },
   "outputs": [
    {
     "data": {
      "image/png": "[encoded data removed]",
      "text/plain": [
       "<Figure size 480x480 with 25 Axes>"
      ]
     },
     "metadata": {
      "needs_background": "light"
     },
     "output_type": "display_data"
    },
    {
     "ename": "",
     "evalue": "",
     "output_type": "error",
     "traceback": [
      "\u001b[1;31mRunning cells with 'Python 3.8.9 64-bit' requires ipykernel package.\n",
      "Run the following command to install 'ipykernel' into the Python environment. \n",
      "Command: '/usr/bin/python3 -m pip install ipykernel -U --user --force-reinstall'"
     ]
    }
   ],
   "source": [
    "# Compute hidden representation correlations within and across modalities\n",
    "M = cfg.num_pathways\n",
    "\n",
    "plt.figure(figsize=(6, 6), dpi=80)\n",
    "for i in range(M):\n",
    "    outA = model.input[i](X)\n",
    "    outA = model.hidden[0][i](outA)\n",
    "    outA = outA.detach().numpy()\n",
    "\n",
    "    for j in range(M):\n",
    "        outB = model.input[j](X)\n",
    "        outB = model.hidden[0][j](outB)\n",
    "        outB = outB.detach().numpy()\n",
    "\n",
    "        plt.subplot(M, M, i*M+j+1)\n",
    "        plt.imshow(np.dot(outA, outB.T))\n",
    "        plt.clim(-.7, .7)\n",
    "        plt.axis('off')\n",
    "\n",
    "plt.show()"
   ]
  },
  {
   "cell_type": "code",
   "execution_count": null,
   "metadata": {
    "id": "L4oB_IckMVLB",
    "outputId": "d501e9aa-7a4b-4b0b-f4fa-4839c4a5dab1"
   },
   "outputs": [
    {
     "data": {
      "text/plain": [
       "array([[0.6211168 , 0.62025416, 0.2818811 , 0.28206638],\n",
       "       [0.62025416, 0.62040037, 0.28131878, 0.28149915],\n",
       "       [0.2818811 , 0.28131878, 0.56894344, 0.56879485],\n",
       "       [0.28206638, 0.28149915, 0.56879485, 0.5696521 ]], dtype=float32)"
      ]
     },
     "execution_count": 96,
     "metadata": {},
     "output_type": "execute_result"
    },
    {
     "ename": "",
     "evalue": "",
     "output_type": "error",
     "traceback": [
      "\u001b[1;31mRunning cells with 'Python 3.8.9 64-bit' requires ipykernel package.\n",
      "Run the following command to install 'ipykernel' into the Python environment. \n",
      "Command: '/usr/bin/python3 -m pip install ipykernel -U --user --force-reinstall'"
     ]
    }
   ],
   "source": [
    "np.dot(outA, outB.T)"
   ]
  },
  {
   "cell_type": "code",
   "execution_count": null,
   "metadata": {
    "id": "K5T3d-pLMVLB"
   },
   "outputs": [
    {
     "ename": "",
     "evalue": "",
     "output_type": "error",
     "traceback": [
      "\u001b[1;31mRunning cells with 'Python 3.8.9 64-bit' requires ipykernel package.\n",
      "Run the following command to install 'ipykernel' into the Python environment. \n",
      "Command: '/usr/bin/python3 -m pip install ipykernel -U --user --force-reinstall'"
     ]
    }
   ],
   "source": []
  }
 ],
 "metadata": {
  "colab": {
   "collapsed_sections": [],
   "name": "Gated_DLN_solution_verifications_new.ipynb",
   "provenance": []
  },
  "kernelspec": {
   "display_name": "Python 3.9.13 64-bit ('preview_dln')",
   "language": "python",
   "name": "python3"
  },
  "language_info": {
   "codemirror_mode": {
    "name": "ipython",
    "version": 3
   },
   "file_extension": ".py",
   "mimetype": "text/x-python",
   "name": "python",
   "nbconvert_exporter": "python",
   "pygments_lexer": "ipython3",
   "version": "3.9.13"
  },
  "toc": {
   "base_numbering": 1,
   "nav_menu": {},
   "number_sections": true,
   "sideBar": true,
   "skip_h1_title": false,
   "title_cell": "Table of Contents",
   "title_sidebar": "Contents",
   "toc_cell": false,
   "toc_position": {},
   "toc_section_display": true,
   "toc_window_display": false
  },
  "vscode": {
   "interpreter": {
    "hash": "809e00753f87cf0653f0e2cb7ec61bb06db5429cb3d8f1f4244da9e6e85c6105"
   }
  }
 },
 "nbformat": 4,
 "nbformat_minor": 5
}
