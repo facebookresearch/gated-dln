{
 "cells": [
  {
   "cell_type": "code",
   "execution_count": 1,
   "id": "921c2ce2",
   "metadata": {
    "ExecuteTime": {
     "end_time": "2022-02-02T16:44:33.903884Z",
     "start_time": "2022-02-02T16:44:32.883203Z"
    }
   },
   "outputs": [],
   "source": [
    "import sys\n",
    "\n",
    "sys.path.append(\"/private/home/sodhani/projects/abstraction_by_gating/\")\n",
    "\n",
    "from notebooks import mongo as mongo_utils\n",
    "from notebooks import sync as sync_utils\n"
   ]
  },
  {
   "cell_type": "code",
   "execution_count": 2,
   "id": "d09eb3fa",
   "metadata": {
    "ExecuteTime": {
     "end_time": "2022-02-02T16:44:33.949580Z",
     "start_time": "2022-02-02T16:44:33.905693Z"
    }
   },
   "outputs": [
    {
     "name": "stdout",
     "output_type": "stream",
     "text": [
      "Num documents: 41266\n"
     ]
    }
   ],
   "source": [
    "mongo_store = mongo_utils.get_mongo_store()\n",
    "\n",
    "print(f\"Num documents: {mongo_store.collection.count_documents({})}\")"
   ]
  },
  {
   "cell_type": "code",
   "execution_count": 3,
   "id": "14118eee",
   "metadata": {
    "ExecuteTime": {
     "end_time": "2022-02-02T16:44:38.656858Z",
     "start_time": "2022-02-02T16:44:33.951344Z"
    }
   },
   "outputs": [],
   "source": [
    "mongo_records = mongo_store.get_records(query={})\n",
    "\n",
    "inserted_ids = set(record[\"setup\"][\"id\"] for record in mongo_records)\n",
    "\n",
    "mongo_logger = mongo_utils.get_mongo_logger()"
   ]
  },
  {
   "cell_type": "code",
   "execution_count": 4,
   "id": "4c363302",
   "metadata": {
    "ExecuteTime": {
     "end_time": "2022-02-02T16:44:38.674408Z",
     "start_time": "2022-02-02T16:44:38.658411Z"
    }
   },
   "outputs": [
    {
     "name": "stdout",
     "output_type": "stream",
     "text": [
      "num_insertions: 12\n"
     ]
    }
   ],
   "source": [
    "num_insertions = 0\n",
    "for key, record in sync_utils.get_unique_records_from_file_dump(\n",
    "    file_path=\"/private/home/sodhani/projects/abstraction_by_gating/job.log\"\n",
    ").items():\n",
    "    if key not in inserted_ids:\n",
    "        num_insertions += 1\n",
    "        mongo_logger.write(record)\n",
    "\n",
    "print(f\"num_insertions: {num_insertions}\")"
   ]
  },
  {
   "cell_type": "code",
   "execution_count": null,
   "id": "11f13347",
   "metadata": {},
   "outputs": [],
   "source": []
  }
 ],
 "metadata": {
  "kernelspec": {
   "display_name": "xplogger_prod",
   "language": "python",
   "name": "xplogger_prod"
  },
  "language_info": {
   "codemirror_mode": {
    "name": "ipython",
    "version": 3
   },
   "file_extension": ".py",
   "mimetype": "text/x-python",
   "name": "python",
   "nbconvert_exporter": "python",
   "pygments_lexer": "ipython3",
   "version": "3.8.8"
  },
  "toc": {
   "base_numbering": 1,
   "nav_menu": {},
   "number_sections": true,
   "sideBar": true,
   "skip_h1_title": false,
   "title_cell": "Table of Contents",
   "title_sidebar": "Contents",
   "toc_cell": false,
   "toc_position": {},
   "toc_section_display": true,
   "toc_window_display": false
  }
 },
 "nbformat": 4,
 "nbformat_minor": 5
}
